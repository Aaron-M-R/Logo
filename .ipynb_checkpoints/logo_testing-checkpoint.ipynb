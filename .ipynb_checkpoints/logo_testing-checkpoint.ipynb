{
 "cells": [
  {
   "cell_type": "code",
   "execution_count": 109,
   "id": "196d2b2f",
   "metadata": {},
   "outputs": [
    {
     "name": "stdout",
     "output_type": "stream",
     "text": [
      "The autoreload extension is already loaded. To reload it, use:\n",
      "  %reload_ext autoreload\n"
     ]
    }
   ],
   "source": [
    "%load_ext autoreload\n",
    "%autoreload 2"
   ]
  },
  {
   "cell_type": "code",
   "execution_count": 110,
   "id": "7ea9787b",
   "metadata": {},
   "outputs": [],
   "source": [
    "from logo import Logo\n",
    "import logo_comparison, deep_ocr\n",
    "from logo_comparison import *\n",
    "from deep_ocr import *\n",
    "\n",
    "import os\n",
    "import pandas as pd\n",
    "import numpy as np\n",
    "from tqdm import tqdm\n",
    "import matplotlib.pyplot as plt\n",
    "from sklearn.preprocessing import MinMaxScaler"
   ]
  },
  {
   "cell_type": "markdown",
   "id": "a1afeb66",
   "metadata": {},
   "source": [
    "## Make empty database for Oldlogos"
   ]
  },
  {
   "cell_type": "code",
   "execution_count": 111,
   "id": "170ed6d8",
   "metadata": {},
   "outputs": [],
   "source": [
    "database = pd.DataFrame(columns=['path', \n",
    "                                 'name',\n",
    "                                 'image',\n",
    "                                 'text', \n",
    "                                 'primary', \n",
    "                                 'secondary', \n",
    "                                 'rgb_df', \n",
    "                                 'contours', \n",
    "                                 'contour_count', \n",
    "                                 'contour_area', \n",
    "                                 'contour_points', \n",
    "                                 'image_with_contours'])"
   ]
  },
  {
   "cell_type": "markdown",
   "id": "72d2788a",
   "metadata": {},
   "source": [
    "## Load in database from storage"
   ]
  },
  {
   "cell_type": "code",
   "execution_count": 112,
   "id": "56496efd",
   "metadata": {},
   "outputs": [],
   "source": [
    "database = pd.read_csv('database.csv')"
   ]
  },
  {
   "cell_type": "code",
   "execution_count": 113,
   "id": "b5a5c4dd",
   "metadata": {},
   "outputs": [],
   "source": [
    "# Loading the data\n",
    "data_dfs = dict()"
   ]
  },
  {
   "cell_type": "markdown",
   "id": "cb38af3e",
   "metadata": {},
   "source": [
    "## Get lists of logo names/paths"
   ]
  },
  {
   "cell_type": "code",
   "execution_count": 114,
   "id": "058b33db",
   "metadata": {},
   "outputs": [],
   "source": [
    "group = np.arange(1, 7)"
   ]
  },
  {
   "cell_type": "code",
   "execution_count": 115,
   "id": "14e6a2d7",
   "metadata": {},
   "outputs": [
    {
     "name": "stdout",
     "output_type": "stream",
     "text": [
      "Initializing applicant logos (Test Set 1)\n"
     ]
    },
    {
     "name": "stderr",
     "output_type": "stream",
     "text": [
      "100%|███████████████████████████████████████████| 24/24 [01:04<00:00,  2.67s/it]\n"
     ]
    },
    {
     "name": "stdout",
     "output_type": "stream",
     "text": [
      "Initializing previous logos (Test Set 1)\n"
     ]
    },
    {
     "name": "stderr",
     "output_type": "stream",
     "text": [
      "100%|███████████████████████████████████████████| 35/35 [01:11<00:00,  2.06s/it]\n"
     ]
    },
    {
     "name": "stdout",
     "output_type": "stream",
     "text": [
      "Initializing applicant logos (Test Set 2)\n"
     ]
    },
    {
     "name": "stderr",
     "output_type": "stream",
     "text": [
      "100%|█████████████████████████████████████████████| 9/9 [00:12<00:00,  1.44s/it]\n"
     ]
    },
    {
     "name": "stdout",
     "output_type": "stream",
     "text": [
      "Initializing previous logos (Test Set 2)\n"
     ]
    },
    {
     "name": "stderr",
     "output_type": "stream",
     "text": [
      "100%|█████████████████████████████████████████████| 7/7 [00:13<00:00,  1.98s/it]\n"
     ]
    },
    {
     "name": "stdout",
     "output_type": "stream",
     "text": [
      "Initializing applicant logos (Test Set 3)\n"
     ]
    },
    {
     "name": "stderr",
     "output_type": "stream",
     "text": [
      "100%|███████████████████████████████████████████| 13/13 [00:31<00:00,  2.43s/it]\n"
     ]
    },
    {
     "name": "stdout",
     "output_type": "stream",
     "text": [
      "Initializing previous logos (Test Set 3)\n"
     ]
    },
    {
     "name": "stderr",
     "output_type": "stream",
     "text": [
      "100%|███████████████████████████████████████████| 14/14 [00:27<00:00,  1.98s/it]\n"
     ]
    },
    {
     "name": "stdout",
     "output_type": "stream",
     "text": [
      "Initializing applicant logos (Test Set 4)\n"
     ]
    },
    {
     "name": "stderr",
     "output_type": "stream",
     "text": [
      "100%|███████████████████████████████████████████| 17/17 [00:35<00:00,  2.08s/it]\n"
     ]
    },
    {
     "name": "stdout",
     "output_type": "stream",
     "text": [
      "Initializing previous logos (Test Set 4)\n"
     ]
    },
    {
     "name": "stderr",
     "output_type": "stream",
     "text": [
      "100%|███████████████████████████████████████████| 18/18 [00:28<00:00,  1.57s/it]\n"
     ]
    },
    {
     "name": "stdout",
     "output_type": "stream",
     "text": [
      "Initializing applicant logos (Test Set 5)\n"
     ]
    },
    {
     "name": "stderr",
     "output_type": "stream",
     "text": [
      "100%|███████████████████████████████████████████| 34/34 [02:34<00:00,  4.55s/it]\n"
     ]
    },
    {
     "name": "stdout",
     "output_type": "stream",
     "text": [
      "Initializing previous logos (Test Set 5)\n"
     ]
    },
    {
     "name": "stderr",
     "output_type": "stream",
     "text": [
      "100%|███████████████████████████████████████████| 40/40 [04:47<00:00,  7.18s/it]\n"
     ]
    },
    {
     "name": "stdout",
     "output_type": "stream",
     "text": [
      "Initializing applicant logos (Test Set 6)\n"
     ]
    },
    {
     "name": "stderr",
     "output_type": "stream",
     "text": [
      "100%|███████████████████████████████████████████| 16/16 [00:41<00:00,  2.56s/it]\n"
     ]
    },
    {
     "name": "stdout",
     "output_type": "stream",
     "text": [
      "Initializing previous logos (Test Set 6)\n"
     ]
    },
    {
     "name": "stderr",
     "output_type": "stream",
     "text": [
      "100%|███████████████████████████████████████████| 16/16 [00:41<00:00,  2.60s/it]\n"
     ]
    }
   ],
   "source": [
    "for i in group:\n",
    "\n",
    "    applicant_loc = f'/Users/aaronrasin/Desktop/Logo/Logos/applicant_{i}'\n",
    "    applicant_logo_names = os.listdir(applicant_loc)\n",
    "    applicant_logos = list()\n",
    "\n",
    "    previous_loc = f'/Users/aaronrasin/Desktop/Logo/Logos/previous_{i}'\n",
    "    previous_logo_names = os.listdir(previous_loc)\n",
    "    previous_logos = list()\n",
    "    \n",
    "    print(f\"Initializing applicant logos (Test Set {i})\")\n",
    "    for applicant in tqdm(applicant_logo_names):\n",
    "        if applicant != '.DS_Store':\n",
    "            applicant_logos.append(Logo(applicant_loc + '/' + applicant))\n",
    "            \n",
    "    print(f\"Initializing previous logos (Test Set {i})\")\n",
    "    for previous in tqdm(previous_logo_names):\n",
    "        if previous != '.DS_Store':\n",
    "            previous_logos.append(Logo(previous_loc + '/' + previous))\n",
    "            row = store_logo(previous_logos[-1])\n",
    "            database = database.append(row, ignore_index=True)"
   ]
  },
  {
   "cell_type": "markdown",
   "id": "f9671aa6",
   "metadata": {},
   "source": [
    "## Get list of applicant Logos"
   ]
  },
  {
   "cell_type": "code",
   "execution_count": 107,
   "id": "7e0e9358",
   "metadata": {},
   "outputs": [
    {
     "name": "stdout",
     "output_type": "stream",
     "text": [
      "Initializing applicant logos (Test Set 1)\n"
     ]
    },
    {
     "name": "stderr",
     "output_type": "stream",
     "text": [
      "100%|███████████████████████████████████████████| 16/16 [00:33<00:00,  2.09s/it]\n"
     ]
    },
    {
     "name": "stdout",
     "output_type": "stream",
     "text": [
      "Initializing applicant logos (Test Set 2)\n"
     ]
    },
    {
     "name": "stderr",
     "output_type": "stream",
     "text": [
      "100%|███████████████████████████████████████████| 16/16 [00:29<00:00,  1.86s/it]\n"
     ]
    },
    {
     "name": "stdout",
     "output_type": "stream",
     "text": [
      "Initializing applicant logos (Test Set 3)\n"
     ]
    },
    {
     "name": "stderr",
     "output_type": "stream",
     "text": [
      "100%|███████████████████████████████████████████| 16/16 [00:31<00:00,  1.99s/it]\n"
     ]
    },
    {
     "name": "stdout",
     "output_type": "stream",
     "text": [
      "Initializing applicant logos (Test Set 4)\n"
     ]
    },
    {
     "name": "stderr",
     "output_type": "stream",
     "text": [
      "100%|███████████████████████████████████████████| 16/16 [00:32<00:00,  2.04s/it]\n"
     ]
    },
    {
     "name": "stdout",
     "output_type": "stream",
     "text": [
      "Initializing applicant logos (Test Set 5)\n"
     ]
    },
    {
     "name": "stderr",
     "output_type": "stream",
     "text": [
      "100%|███████████████████████████████████████████| 16/16 [00:35<00:00,  2.21s/it]\n"
     ]
    },
    {
     "name": "stdout",
     "output_type": "stream",
     "text": [
      "Initializing applicant logos (Test Set 6)\n"
     ]
    },
    {
     "name": "stderr",
     "output_type": "stream",
     "text": [
      "100%|███████████████████████████████████████████| 16/16 [00:35<00:00,  2.19s/it]\n"
     ]
    }
   ],
   "source": [
    "for i in group:\n",
    "    print(f\"Initializing applicant logos (Test Set {i})\")\n",
    "    for applicant in tqdm(applicant_logo_names):\n",
    "        if applicant != '.DS_Store':\n",
    "            applicant_logos.append(Logo(applicant_loc + '/' + applicant))"
   ]
  },
  {
   "cell_type": "markdown",
   "id": "3a71b662",
   "metadata": {},
   "source": [
    "## Get list of previous Logos (and store them)"
   ]
  },
  {
   "cell_type": "code",
   "execution_count": 116,
   "id": "5a976a69",
   "metadata": {},
   "outputs": [],
   "source": [
    "for i in group:        \n",
    "    print(f\"Initializing previous logos (Test Set {i})\")\n",
    "    for previous in tqdm(previous_logo_names):\n",
    "        if previous != '.DS_Store':\n",
    "            previous_logos.append(Logo(previous_loc + '/' + previous))\n",
    "            row = store_logo(previous_logos[-1])\n",
    "            database = database.append(row, ignore_index=True)\n",
    "            \n",
    "database.to_csv('database.csv')"
   ]
  },
  {
   "cell_type": "markdown",
   "id": "ba74cad3",
   "metadata": {},
   "source": [
    "## Load in Oldlogos"
   ]
  },
  {
   "cell_type": "code",
   "execution_count": 96,
   "id": "449682c5",
   "metadata": {},
   "outputs": [],
   "source": [
    "previous_oldlogos = list()"
   ]
  },
  {
   "cell_type": "code",
   "execution_count": 98,
   "id": "28d2a3d2",
   "metadata": {},
   "outputs": [
    {
     "name": "stdout",
     "output_type": "stream",
     "text": [
      "Uploading previous logos (Test Set 5)\n"
     ]
    },
    {
     "name": "stderr",
     "output_type": "stream",
     "text": [
      "  0%|                                                    | 0/40 [00:00<?, ?it/s]\n"
     ]
    },
    {
     "ename": "TypeError",
     "evalue": "Oldlogo.__init__() takes 2 positional arguments but 3 were given",
     "output_type": "error",
     "traceback": [
      "\u001b[0;31m---------------------------------------------------------------------------\u001b[0m",
      "\u001b[0;31mTypeError\u001b[0m                                 Traceback (most recent call last)",
      "Cell \u001b[0;32mIn[98], line 7\u001b[0m\n\u001b[1;32m      5\u001b[0m \u001b[38;5;28;01mfor\u001b[39;00m oldname \u001b[38;5;129;01min\u001b[39;00m tqdm(previous_logo_names):\n\u001b[1;32m      6\u001b[0m     \u001b[38;5;28;01mif\u001b[39;00m oldname \u001b[38;5;129;01min\u001b[39;00m names:\n\u001b[0;32m----> 7\u001b[0m         previous_logos\u001b[38;5;241m.\u001b[39mappend(Oldlogo(oldname, database))\n",
      "\u001b[0;31mTypeError\u001b[0m: Oldlogo.__init__() takes 2 positional arguments but 3 were given"
     ]
    }
   ],
   "source": [
    "for i in [group]:\n",
    "    print(f\"Uploading previous logos (Test Set {i})\")\n",
    "    names = database['name'].unique()\n",
    "    \n",
    "    for oldname in tqdm(previous_logo_names):\n",
    "        if oldname in names:\n",
    "            previous_logos.append(Oldlogo(oldname, database))"
   ]
  },
  {
   "cell_type": "markdown",
   "id": "7381f25d",
   "metadata": {},
   "source": [
    "## Compare and scale logos"
   ]
  },
  {
   "cell_type": "code",
   "execution_count": 18,
   "id": "9e87d9b0",
   "metadata": {
    "scrolled": true
   },
   "outputs": [
    {
     "name": "stdout",
     "output_type": "stream",
     "text": [
      "Initializing applicant logos (Test Set 5)\n"
     ]
    },
    {
     "name": "stderr",
     "output_type": "stream",
     "text": [
      "100%|███████████████████████████████████████████| 34/34 [02:20<00:00,  4.13s/it]\n"
     ]
    },
    {
     "name": "stdout",
     "output_type": "stream",
     "text": [
      "Initializing previous logos (Test Set 5)\n"
     ]
    },
    {
     "name": "stderr",
     "output_type": "stream",
     "text": [
      "100%|███████████████████████████████████████████| 40/40 [03:53<00:00,  5.84s/it]\n"
     ]
    },
    {
     "ename": "NameError",
     "evalue": "name 'df' is not defined",
     "output_type": "error",
     "traceback": [
      "\u001b[0;31m---------------------------------------------------------------------------\u001b[0m",
      "\u001b[0;31mNameError\u001b[0m                                 Traceback (most recent call last)",
      "Cell \u001b[0;32mIn[18], line 30\u001b[0m\n\u001b[1;32m     21\u001b[0m             previous_logos\u001b[38;5;241m.\u001b[39mappend(Logo(previous_loc \u001b[38;5;241m+\u001b[39m \u001b[38;5;124m'\u001b[39m\u001b[38;5;124m/\u001b[39m\u001b[38;5;124m'\u001b[39m \u001b[38;5;241m+\u001b[39m previous))\n\u001b[1;32m     24\u001b[0m     \u001b[38;5;66;03m# Comparing applicants and previous logos\u001b[39;00m\n\u001b[1;32m     25\u001b[0m \u001b[38;5;66;03m#     df = compare_logos(applicant_logos, previous_logos)\u001b[39;00m\n\u001b[1;32m     26\u001b[0m     \n\u001b[1;32m     27\u001b[0m     \u001b[38;5;66;03m# Scale the similarity scores (SSIM, Color, and Template)\u001b[39;00m\n\u001b[1;32m     28\u001b[0m \u001b[38;5;66;03m#     df = scale_scores(df, features = ['SSIM', 'Color Similarity Score', 'Template Matching'])\u001b[39;00m\n\u001b[0;32m---> 30\u001b[0m     data_dfs[\u001b[38;5;124mf\u001b[39m\u001b[38;5;124m'\u001b[39m\u001b[38;5;124mdf\u001b[39m\u001b[38;5;132;01m{\u001b[39;00mi\u001b[38;5;132;01m}\u001b[39;00m\u001b[38;5;124m'\u001b[39m] \u001b[38;5;241m=\u001b[39m df\n",
      "\u001b[0;31mNameError\u001b[0m: name 'df' is not defined"
     ]
    }
   ],
   "source": [
    "    # Comparing applicants and previous logos\n",
    "    df = compare_logos(applicant_logos, previous_logos)\n",
    "    \n",
    "    # Scale the similarity scores (SSIM, Color, and Template)\n",
    "    df = scale_scores(df, features = ['SSIM', 'Color Similarity Score', 'Template Matching'])\n",
    "    \n",
    "    data_dfs[f'df{i}'] = df"
   ]
  },
  {
   "cell_type": "markdown",
   "id": "a317052d",
   "metadata": {},
   "source": [
    "Need an Oldlogo class for logos that have already been analyzed and stored. "
   ]
  },
  {
   "cell_type": "code",
   "execution_count": 92,
   "id": "858f1980",
   "metadata": {},
   "outputs": [],
   "source": [
    "class Oldlogo:\n",
    "    \n",
    "    def __init__(name, df):\n",
    "        row = df[df['name'] == name].iloc[0]\n",
    "        self.name = name\n",
    "        self.path = row['path']\n",
    "        self.image = row['image']\n",
    "        self.text = row['text']\n",
    "        self.primary = row['primary']\n",
    "        self.secondary = row['secondary']\n",
    "        self.rgb_df = row['rgb_df']\n",
    "        self.contours: row['contours']\n",
    "        self.contour_count = row['contour_count']\n",
    "        self.contour_area = row['contour_area']\n",
    "        self.contour_points = row['contour_points']\n",
    "        self.image_with_contours = row['image_with_contours']"
   ]
  },
  {
   "cell_type": "code",
   "execution_count": 88,
   "id": "5624db90",
   "metadata": {},
   "outputs": [],
   "source": [
    "def store_logo(logoA):\n",
    "    row = {\n",
    "        'path': logoA.orig_path,\n",
    "        'name': logoA.name,\n",
    "        'image': logoA.image,\n",
    "        'text': logoA.text,\n",
    "        'primary': logoA.primary,\n",
    "        'secondary': logoA.secondary,\n",
    "        'rgb_df': logoA.rgb_df,\n",
    "        'contours': logoA.contours,\n",
    "        'contour_count': logoA.contour_count,\n",
    "        'contour_area': logoA.contour_area,\n",
    "        'contour_points': logoA.contour_points,\n",
    "        'image_with_contours': logoA.image_with_contours\n",
    "    }\n",
    "    return row"
   ]
  },
  {
   "cell_type": "code",
   "execution_count": 23,
   "id": "fd724ea0",
   "metadata": {},
   "outputs": [
    {
     "name": "stdout",
     "output_type": "stream",
     "text": [
      "Uber(inverted).png\n",
      "['Uber' 'Uber\\n']\n",
      "Shell(inverted).png\n",
      "['y' '']\n",
      "Mitsubishi.png(inverted).png\n",
      "['MITSUBISHI' '']\n",
      "LG(inverted).png\n",
      "['@LG' '']\n",
      "Mazda(inverted).png\n",
      "['mazpDa' '']\n",
      "instagram(inverted).png\n",
      "['']\n",
      "Starbucks(inverted).png\n",
      "['' '']\n",
      "Hyundai(inverted).png\n",
      "['HMYLINOAI' '5,\\n\\nKYUNDAI\\n']\n",
      "Google(inverted).png\n",
      "['gle' 'Go gle\\n']\n",
      "Honda(inverted).png\n",
      "['BOnNDA.' 'HONDA.\\n']\n",
      "Dunkin(inverted).png\n",
      "['IN' '']\n",
      "nike(inverted).png\n",
      "['']\n",
      "Volkswagen(inverted).png\n",
      "['Auto.' '']\n",
      "Lexus(inverted).png\n",
      "['']\n",
      "McDonalds(inverted).png\n",
      "['aay' '']\n",
      "RedBull(inverted).png\n",
      "['Red Bull' 'i Bm,\\nRed Bull\\n']\n",
      "Kia(inverted).png\n",
      "['KIA' 'KiA MOTORS\\n']\n",
      "Toyota(inverted).png\n",
      "[\"'\" 'TOYOTA\\n']\n",
      "Infiniti(inverted).png\n",
      "['' 'CD\\n\\nINFINITE.\\n']\n",
      "Audi(inverted).png\n",
      "['OED' '']\n",
      "Fedex(inverted).png\n",
      "['\"4' '']\n",
      "Ford(inverted).png\n",
      "['Cord' '']\n",
      "Nissan(inverted).png\n",
      "['NISSAN' '']\n",
      "Netflix(inverted).png\n",
      "['NETFLIX' 'NETFLIX\\n']\n",
      "LandRover(inverted).png\n",
      "['ROVER' '']\n",
      "Acura(inverted).png\n",
      "['ACLURA' 'ACURA\\n']\n",
      "Jaguar(inverted).png\n",
      "['JAGUAR\\n']\n",
      "Nasa(inverted).png\n",
      "['']\n",
      "Nike(Pikey).png\n",
      "['NICK IT!' 'PIKEY\\n']\n",
      "Mercedes(inverted).png\n",
      "['Mermetes-!' '']\n",
      "Fiat(inverted).png\n",
      "['FIAT' '']\n",
      "CocaCola(inverted).png\n",
      "['oat i,' '']\n",
      "Bentley(inverted).png\n",
      "['RENTLEY' 'BENTLEY\\n']\n"
     ]
    }
   ],
   "source": [
    "for logo in applicant_logos:\n",
    "    print(logo.name)\n",
    "    print(logo.text)"
   ]
  },
  {
   "cell_type": "code",
   "execution_count": 9,
   "id": "282841af",
   "metadata": {},
   "outputs": [
    {
     "data": {
      "text/plain": [
       "[]"
      ]
     },
     "execution_count": 9,
     "metadata": {},
     "output_type": "execute_result"
    }
   ],
   "source": [
    "previous_logos"
   ]
  },
  {
   "cell_type": "code",
   "execution_count": null,
   "id": "98e8ee75",
   "metadata": {},
   "outputs": [],
   "source": []
  },
  {
   "cell_type": "code",
   "execution_count": null,
   "id": "ebfd5797",
   "metadata": {},
   "outputs": [],
   "source": []
  },
  {
   "cell_type": "code",
   "execution_count": null,
   "id": "391466ad",
   "metadata": {},
   "outputs": [],
   "source": []
  },
  {
   "cell_type": "code",
   "execution_count": null,
   "id": "80f50d4a",
   "metadata": {},
   "outputs": [],
   "source": []
  },
  {
   "cell_type": "code",
   "execution_count": 89,
   "id": "a7951183",
   "metadata": {},
   "outputs": [
    {
     "data": {
      "image/png": "[encoded data removed]",
      "text/plain": [
       "<Figure size 640x480 with 1 Axes>"
      ]
     },
     "metadata": {},
     "output_type": "display_data"
    },
    {
     "data": {
      "text/plain": [
       "{(253, 199, 54): 0.8813737418427166, (210, 39, 42): 0.11862625815728349}"
      ]
     },
     "execution_count": 89,
     "metadata": {},
     "output_type": "execute_result"
    }
   ],
   "source": [
    "dhl_f = applicant_logos[13]\n",
    "dhl_f.show_colors()\n",
    "dhl_f.colors"
   ]
  },
  {
   "cell_type": "code",
   "execution_count": 90,
   "id": "1c6da2f8",
   "metadata": {},
   "outputs": [
    {
     "data": {
      "image/png": "[encoded data removed]",
      "text/plain": [
       "<Figure size 640x480 with 1 Axes>"
      ]
     },
     "metadata": {},
     "output_type": "display_data"
    },
    {
     "data": {
      "text/plain": [
       "{(254, 202, 0): 0.8893173758865248, (216, 14, 18): 0.11068262411347518}"
      ]
     },
     "execution_count": 90,
     "metadata": {},
     "output_type": "execute_result"
    }
   ],
   "source": [
    "dhl = previous_logos[25]\n",
    "dhl.show_colors()\n",
    "dhl.colors"
   ]
  },
  {
   "cell_type": "code",
   "execution_count": 91,
   "id": "f60737c3",
   "metadata": {},
   "outputs": [
    {
     "data": {
      "text/plain": [
       "3.9961453553514032"
      ]
     },
     "execution_count": 91,
     "metadata": {},
     "output_type": "execute_result"
    }
   ],
   "source": [
    "logo_comparison.calculate_color_similarity(dhl, dhl_f)"
   ]
  },
  {
   "cell_type": "code",
   "execution_count": 128,
   "id": "16933d85",
   "metadata": {},
   "outputs": [
    {
     "data": {
      "image/png": "[encoded data removed]",
      "text/plain": [
       "<Figure size 640x480 with 1 Axes>"
      ]
     },
     "metadata": {},
     "output_type": "display_data"
    },
    {
     "data": {
      "text/plain": [
       "{(218, 99, 161): 0.47505841714924313,\n",
       " (185, 187, 210): 0.17017169562125367,\n",
       " (12, 96, 165): 0.3547698872295032}"
      ]
     },
     "execution_count": 128,
     "metadata": {},
     "output_type": "execute_result"
    }
   ],
   "source": [
    "previous_logos[5].show_colors()\n",
    "previous_logos[5].colors"
   ]
  },
  {
   "cell_type": "code",
   "execution_count": 127,
   "id": "7fb3d329",
   "metadata": {
    "scrolled": true
   },
   "outputs": [
    {
     "data": {
      "image/png": "[encoded data removed]",
      "text/plain": [
       "<Figure size 640x480 with 1 Axes>"
      ]
     },
     "metadata": {},
     "output_type": "display_data"
    },
    {
     "data": {
      "text/plain": [
       "{(209, 111, 158): 0.14986945169712793,\n",
       " (24, 99, 156): 0.42402088772845953,\n",
       " (184, 212, 236): 0.15926892950391644,\n",
       " (153, 178, 209): 0.12610966057441253,\n",
       " (83, 139, 181): 0.14073107049608355}"
      ]
     },
     "execution_count": 127,
     "metadata": {},
     "output_type": "execute_result"
    }
   ],
   "source": [
    "applicant_logos[7].show_colors()\n",
    "applicant_logos[7].colors"
   ]
  },
  {
   "cell_type": "code",
   "execution_count": 122,
   "id": "92a4849f",
   "metadata": {},
   "outputs": [
    {
     "data": {
      "text/plain": [
       "38.06257474555455"
      ]
     },
     "execution_count": 122,
     "metadata": {},
     "output_type": "execute_result"
    }
   ],
   "source": [
    "logo_comparison.calculate_color_similarity(previous_logos[5], applicant_logos[7])"
   ]
  },
  {
   "cell_type": "code",
   "execution_count": 107,
   "id": "87b0c9f9",
   "metadata": {},
   "outputs": [
    {
     "data": {
      "text/plain": [
       "43.87654913131198"
      ]
     },
     "execution_count": 107,
     "metadata": {},
     "output_type": "execute_result"
    }
   ],
   "source": [
    "logo_comparison.calculate_color_similarity(ikea, dhl_f)"
   ]
  },
  {
   "cell_type": "code",
   "execution_count": 93,
   "id": "d14fdeac",
   "metadata": {},
   "outputs": [
    {
     "data": {
      "image/png": "[encoded data removed]",
      "text/plain": [
       "<Figure size 640x480 with 1 Axes>"
      ]
     },
     "metadata": {},
     "output_type": "display_data"
    },
    {
     "data": {
      "text/plain": [
       "{(244, 188, 180): 0.16085616993676016,\n",
       " (230, 142, 80): 0.17285552132317172,\n",
       " (237, 74, 151): 0.2709583265769418,\n",
       " (245, 130, 56): 0.2605805091616669,\n",
       " (221, 95, 155): 0.13474947300145937}"
      ]
     },
     "execution_count": 93,
     "metadata": {},
     "output_type": "execute_result"
    }
   ],
   "source": [
    "dd_f = applicant_logos[0]\n",
    "dd_f.show_colors()\n",
    "dd_f.colors"
   ]
  },
  {
   "cell_type": "code",
   "execution_count": 95,
   "id": "fd86449d",
   "metadata": {},
   "outputs": [],
   "source": [
    "dd = previous_logos[28]"
   ]
  },
  {
   "cell_type": "code",
   "execution_count": 97,
   "id": "333240b8",
   "metadata": {},
   "outputs": [
    {
     "data": {
      "image/png": "[encoded data removed]",
      "text/plain": [
       "<Figure size 640x480 with 1 Axes>"
      ]
     },
     "metadata": {},
     "output_type": "display_data"
    },
    {
     "data": {
      "text/plain": [
       "{(237, 122, 56): 0.5198882739357575,\n",
       " (214, 4, 111): 0.40640355868204625,\n",
       " (82, 36, 22): 0.07370816738219624}"
      ]
     },
     "execution_count": 97,
     "metadata": {},
     "output_type": "execute_result"
    }
   ],
   "source": [
    "\n",
    "# dd.colors = dd.color_detect(include_white = True)\n",
    "dd.show_colors()\n",
    "dd.colors"
   ]
  },
  {
   "cell_type": "code",
   "execution_count": 98,
   "id": "d2f3b9d1",
   "metadata": {},
   "outputs": [
    {
     "data": {
      "image/png": "[encoded data removed]",
      "text/plain": [
       "<Figure size 640x480 with 1 Axes>"
      ]
     },
     "metadata": {},
     "output_type": "display_data"
    },
    {
     "data": {
      "text/plain": [
       "{(203, 35, 41): 0.7987322951717661, (243, 185, 98): 0.20126770482823383}"
      ]
     },
     "execution_count": 98,
     "metadata": {},
     "output_type": "execute_result"
    }
   ],
   "source": [
    "mcd_f = applicant_logos[2]\n",
    "mcd_f.show_colors()\n",
    "mcd_f.colors"
   ]
  },
  {
   "cell_type": "code",
   "execution_count": 99,
   "id": "4a6d5b8e",
   "metadata": {},
   "outputs": [
    {
     "data": {
      "text/plain": [
       "11.293426975532688"
      ]
     },
     "execution_count": 99,
     "metadata": {},
     "output_type": "execute_result"
    }
   ],
   "source": [
    "logo_comparison.calculate_color_similarity(dd, dd_f)"
   ]
  },
  {
   "cell_type": "code",
   "execution_count": 100,
   "id": "6c0e23ee",
   "metadata": {},
   "outputs": [
    {
     "data": {
      "text/plain": [
       "20.033789573550052"
      ]
     },
     "execution_count": 100,
     "metadata": {},
     "output_type": "execute_result"
    }
   ],
   "source": [
    "logo_comparison.calculate_color_similarity(dd, mcd_f)"
   ]
  },
  {
   "cell_type": "code",
   "execution_count": null,
   "id": "3202864b",
   "metadata": {},
   "outputs": [],
   "source": [
    "df3 = data_dfs['df3']\n",
    "df3"
   ]
  },
  {
   "cell_type": "code",
   "execution_count": null,
   "id": "c271cbc4",
   "metadata": {},
   "outputs": [],
   "source": []
  },
  {
   "cell_type": "code",
   "execution_count": null,
   "id": "bcaec209",
   "metadata": {},
   "outputs": [],
   "source": []
  },
  {
   "cell_type": "code",
   "execution_count": null,
   "id": "9c194121",
   "metadata": {},
   "outputs": [],
   "source": [
    "# df.to_excel('/Users/aaronrasin/Desktop/Logo/LogoComparisonData.xlsx', index=False)"
   ]
  },
  {
   "cell_type": "code",
   "execution_count": null,
   "id": "ec88dc88",
   "metadata": {},
   "outputs": [],
   "source": []
  },
  {
   "cell_type": "code",
   "execution_count": null,
   "id": "e9bed3b6",
   "metadata": {},
   "outputs": [],
   "source": [
    "df1 = list(data_dfs.values())[1]\n",
    "\n",
    "prev_color = df1[['Previous Logo', 'Color Similarity Score']]\n",
    "appl_color = df1[['Applicant Logo', 'Color Similarity Score']]\n",
    "thing = (appl_color.groupby('Applicant Logo')\n",
    "         .max()\n",
    "         .reset_index()\n",
    "         .merge(prev_color)\n",
    "         .drop_duplicates()\n",
    "         .iloc[:50])\n",
    "\n",
    "thing.sort_values('Color Similarity Score', ascending=False)\n"
   ]
  },
  {
   "cell_type": "code",
   "execution_count": null,
   "id": "4c3b654e",
   "metadata": {},
   "outputs": [],
   "source": [
    "dd_colors = applicant_logos[29].color_detect()"
   ]
  },
  {
   "cell_type": "code",
   "execution_count": null,
   "id": "8a14895c",
   "metadata": {},
   "outputs": [],
   "source": [
    "dd_colors"
   ]
  },
  {
   "cell_type": "code",
   "execution_count": null,
   "id": "a74286d8",
   "metadata": {},
   "outputs": [],
   "source": [
    "plt.imshow([list(dd_colors.keys())])\n",
    "plt.xticks([]), plt.yticks([])\n",
    "plt.show()"
   ]
  },
  {
   "cell_type": "code",
   "execution_count": null,
   "id": "fac318a6",
   "metadata": {},
   "outputs": [],
   "source": [
    "bridgestone = applicant_logos[0]\n",
    "bridgestone.color_detect(include_white=True)\n",
    "bridgestone.show_colors()"
   ]
  },
  {
   "cell_type": "code",
   "execution_count": null,
   "id": "16099e3c",
   "metadata": {},
   "outputs": [],
   "source": [
    "previous_logos[4].colors = previous_logos[4].color_detect(include_white=True)\n",
    "# previous_logos[4].show_colors()\n"
   ]
  },
  {
   "cell_type": "code",
   "execution_count": null,
   "id": "2c317b4b",
   "metadata": {},
   "outputs": [],
   "source": []
  },
  {
   "cell_type": "code",
   "execution_count": null,
   "id": "668c4acc",
   "metadata": {},
   "outputs": [],
   "source": [
    "for logo in applicant_logos:\n",
    "    print(logo.name, logo.colors)\n",
    "    logo.show_colors()"
   ]
  },
  {
   "cell_type": "code",
   "execution_count": null,
   "id": "efafe31d",
   "metadata": {},
   "outputs": [],
   "source": [
    "for logo in previous_logos:\n",
    "    print(logo.name, logo.colors)\n",
    "    logo.show_colors()"
   ]
  },
  {
   "cell_type": "code",
   "execution_count": null,
   "id": "9ead2175",
   "metadata": {},
   "outputs": [],
   "source": [
    "previous_logos[29].colors = previous_logos[29].color_detect(include_white=True)\n",
    "previous_logos[29].colors"
   ]
  },
  {
   "cell_type": "code",
   "execution_count": null,
   "id": "a3d30284",
   "metadata": {},
   "outputs": [],
   "source": [
    "previous_logos[7].colors = previous_logos[7].color_detect(include_white=False)\n",
    "previous_logos[7].colors"
   ]
  },
  {
   "cell_type": "code",
   "execution_count": null,
   "id": "03a7f420",
   "metadata": {},
   "outputs": [],
   "source": [
    "for logo in previous_logos:\n",
    "    print(logo.name)\n",
    "    logo.show_colors()"
   ]
  },
  {
   "cell_type": "code",
   "execution_count": null,
   "id": "ec8827fd",
   "metadata": {},
   "outputs": [],
   "source": []
  },
  {
   "cell_type": "markdown",
   "id": "ba0ede3f",
   "metadata": {},
   "source": [
    "# Time Complexity\n",
    "\n",
    "- 1-2 seconds to initialize each logo (1.5 on average)\n",
    "- 1-2 seconds to compare two logos (1.5 on average)\n",
    "- So runtime of whole program can be calculated using this formula (plug in number of applicants (a) and number of previous (p))\n",
    "\n",
    "$$\\large \\text{number of minutes} \\approx \\frac {(a+p) + (a \\cdot p)}{60}$$"
   ]
  },
  {
   "cell_type": "code",
   "execution_count": null,
   "id": "f91e936a",
   "metadata": {},
   "outputs": [],
   "source": []
  },
  {
   "cell_type": "code",
   "execution_count": null,
   "id": "bc1dba91",
   "metadata": {},
   "outputs": [],
   "source": []
  },
  {
   "cell_type": "code",
   "execution_count": null,
   "id": "8a36ff8b",
   "metadata": {},
   "outputs": [],
   "source": []
  },
  {
   "cell_type": "markdown",
   "id": "10a32965",
   "metadata": {},
   "source": [
    "## Template matching should be scaled! \n",
    "The first DataFrame shows how inaccurate template matching is when a single threshold is set for all pairs. However, when you look at the highest template matching score for each applicant logo, results are significantly better. "
   ]
  },
  {
   "cell_type": "markdown",
   "id": "932e956b",
   "metadata": {},
   "source": [
    "### Top 16 Template Matches (3 actual matches)"
   ]
  },
  {
   "cell_type": "code",
   "execution_count": null,
   "id": "fcf9a81c",
   "metadata": {},
   "outputs": [],
   "source": [
    "df4 = data_dfs['df4']\n",
    "df4[['Applicant Logo', 'Template Matching', 'Previous Logo']].sort_values('Template Matching', ascending = False).iloc[:16]"
   ]
  },
  {
   "cell_type": "markdown",
   "id": "0bec3f8c",
   "metadata": {},
   "source": [
    "### Highest Template Match for each of 16 applicants (7 actual matches)"
   ]
  },
  {
   "cell_type": "code",
   "execution_count": null,
   "id": "64540a04",
   "metadata": {},
   "outputs": [],
   "source": [
    "prev_template = df4[['Previous Logo', 'Template Matching']]\n",
    "appl_template = df4[['Applicant Logo', 'Template Matching']]\n",
    "appl_template.groupby('Applicant Logo').max().reset_index().merge(prev_template)"
   ]
  },
  {
   "cell_type": "code",
   "execution_count": null,
   "id": "5b7f7a60",
   "metadata": {},
   "outputs": [],
   "source": [
    "for logo in previous_logos:\n",
    "    print(logo.name, logo.text)"
   ]
  },
  {
   "cell_type": "code",
   "execution_count": null,
   "id": "15a2f2a6",
   "metadata": {},
   "outputs": [],
   "source": [
    "applicant_logos[6].colors"
   ]
  },
  {
   "cell_type": "code",
   "execution_count": null,
   "id": "2e45931d",
   "metadata": {},
   "outputs": [],
   "source": [
    "logoA = applicant_logos[5]\n",
    "logoA"
   ]
  },
  {
   "cell_type": "code",
   "execution_count": null,
   "id": "820ae2f8",
   "metadata": {},
   "outputs": [],
   "source": [
    "test"
   ]
  },
  {
   "cell_type": "code",
   "execution_count": null,
   "id": "cb3ff795",
   "metadata": {},
   "outputs": [],
   "source": [
    "calculate_logo_shape_complexity_similarity(logoA, test)"
   ]
  },
  {
   "cell_type": "code",
   "execution_count": null,
   "id": "11b8bdbf",
   "metadata": {},
   "outputs": [],
   "source": []
  },
  {
   "cell_type": "code",
   "execution_count": null,
   "id": "ae61dec0",
   "metadata": {},
   "outputs": [],
   "source": []
  },
  {
   "cell_type": "code",
   "execution_count": null,
   "id": "1070b1b1",
   "metadata": {},
   "outputs": [],
   "source": []
  },
  {
   "cell_type": "code",
   "execution_count": null,
   "id": "87495380",
   "metadata": {},
   "outputs": [],
   "source": []
  },
  {
   "cell_type": "code",
   "execution_count": null,
   "id": "05ad0f53",
   "metadata": {},
   "outputs": [],
   "source": []
  },
  {
   "cell_type": "code",
   "execution_count": null,
   "id": "b2d332db",
   "metadata": {},
   "outputs": [],
   "source": []
  },
  {
   "cell_type": "code",
   "execution_count": null,
   "id": "fe6509b0",
   "metadata": {},
   "outputs": [],
   "source": []
  },
  {
   "cell_type": "code",
   "execution_count": null,
   "id": "cbc4623d",
   "metadata": {},
   "outputs": [],
   "source": [
    "plt.imshow(ck.image, 'gray')\n",
    "plt.xticks([]), plt.yticks([])\n",
    "plt.show()"
   ]
  },
  {
   "cell_type": "code",
   "execution_count": null,
   "id": "9e9b2321",
   "metadata": {},
   "outputs": [],
   "source": [
    "ck = applicant_logos[15]"
   ]
  },
  {
   "cell_type": "code",
   "execution_count": null,
   "id": "3ce73eb6",
   "metadata": {},
   "outputs": [],
   "source": [
    "resized = imutils.resize(ck.image, width=300)\n",
    "\n",
    "# Blurring the image\n",
    "ck.blurred = cv2.GaussianBlur(resized, (5,5), 0)\n",
    "\n",
    "# Setting all pixels to white or black\n",
    "binary_image = ck.image_to_binary()\n",
    "\n",
    "plt.imshow(binary_image, 'gray')\n",
    "plt.xticks([]), plt.yticks([])\n",
    "plt.show()"
   ]
  },
  {
   "cell_type": "code",
   "execution_count": 129,
   "id": "2833eaad",
   "metadata": {},
   "outputs": [],
   "source": [
    "logoA = dd\n",
    "logoB = dd_f"
   ]
  },
  {
   "cell_type": "code",
   "execution_count": 130,
   "id": "a1a7aace",
   "metadata": {},
   "outputs": [
    {
     "data": {
      "text/plain": [
       "({(237, 122, 56): 0.5198882739357575,\n",
       "  (214, 4, 111): 0.40640355868204625,\n",
       "  (82, 36, 22): 0.07370816738219624},\n",
       " {(244, 188, 180): 0.16085616993676016,\n",
       "  (230, 142, 80): 0.17285552132317172,\n",
       "  (237, 74, 151): 0.2709583265769418,\n",
       "  (245, 130, 56): 0.2605805091616669,\n",
       "  (221, 95, 155): 0.13474947300145937})"
      ]
     },
     "execution_count": 130,
     "metadata": {},
     "output_type": "execute_result"
    }
   ],
   "source": [
    "logoA.colors, logoB.colors"
   ]
  },
  {
   "cell_type": "code",
   "execution_count": null,
   "id": "67842df9",
   "metadata": {},
   "outputs": [],
   "source": [
    "if len(logoA.colors.keys()) >= len(logoB.colors.keys()):\n",
    "    short = logoA.colors\n",
    "    long = logoB.colors\n",
    "else:\n",
    "    short = logoB.colors\n",
    "    long = logoA.colors\n",
    "    \n",
    "# Define a dictionary with column A \n",
    "data1 = {'short_color': list(logoA.colors)}  \n",
    "     \n",
    "# Define another dictionary with column B \n",
    "data2 = {'B': ['a', 'b', 'c']}   \n",
    "   \n",
    "# Convert the dictionary into DataFrame   \n",
    "df = pd.DataFrame(data1, index =[0, 1]) \n",
    "   \n",
    "# Convert the dictionary into DataFrame   \n",
    "df1 = pd.DataFrame(data2, index =[2, 3, 4])  \n",
    "  \n",
    "# Now to perform cross join, we will create \n",
    "# a key column in both the DataFrames to  \n",
    "# merge on that key. \n",
    "df['key'] = 1\n",
    "df1['key'] = 1\n",
    "  \n",
    "# to obtain the cross join we will merge  \n",
    "# on the key and drop it. \n",
    "result = pd.merge(df, df1, on ='key').drop(\"key\", 1) \n",
    "  \n",
    "result "
   ]
  },
  {
   "cell_type": "code",
   "execution_count": null,
   "id": "b420fa57",
   "metadata": {},
   "outputs": [],
   "source": []
  }
 ],
 "metadata": {
  "kernelspec": {
   "display_name": "Python 3 (ipykernel)",
   "language": "python",
   "name": "python3"
  },
  "language_info": {
   "codemirror_mode": {
    "name": "ipython",
    "version": 3
   },
   "file_extension": ".py",
   "mimetype": "text/x-python",
   "name": "python",
   "nbconvert_exporter": "python",
   "pygments_lexer": "ipython3",
   "version": "3.11.5"
  }
 },
 "nbformat": 4,
 "nbformat_minor": 5
}
