{
 "cells": [
  {
   "cell_type": "code",
   "execution_count": 28,
   "id": "196d2b2f",
   "metadata": {},
   "outputs": [
    {
     "name": "stdout",
     "output_type": "stream",
     "text": [
      "The autoreload extension is already loaded. To reload it, use:\n",
      "  %reload_ext autoreload\n"
     ]
    }
   ],
   "source": [
    "%load_ext autoreload\n",
    "%autoreload 2"
   ]
  },
  {
   "cell_type": "code",
   "execution_count": 29,
   "id": "7ea9787b",
   "metadata": {},
   "outputs": [],
   "source": [
    "from logo import Logo, Oldlogo\n",
    "import logo_comparison, deep_ocr\n",
    "from logo_comparison import *\n",
    "from deep_ocr import *\n",
    "\n",
    "import os\n",
    "import pandas as pd\n",
    "import numpy as np\n",
    "from tqdm import tqdm\n",
    "import matplotlib.pyplot as plt\n",
    "from sklearn.preprocessing import MinMaxScaler"
   ]
  },
  {
   "cell_type": "markdown",
   "id": "a1afeb66",
   "metadata": {},
   "source": [
    "## Make empty database for Oldlogos"
   ]
  },
  {
   "cell_type": "code",
   "execution_count": 54,
   "id": "170ed6d8",
   "metadata": {},
   "outputs": [],
   "source": [
    "database = pd.DataFrame(columns=['path', \n",
    "                                 'name',\n",
    "                                 'image',\n",
    "                                 'text', \n",
    "                                 'primary', \n",
    "                                 'secondary', \n",
    "                                 'rgb_df', \n",
    "                                 'contours', \n",
    "                                 'contour_count', \n",
    "                                 'contour_area', \n",
    "                                 'contour_points', \n",
    "                                 'image_with_contours'])"
   ]
  },
  {
   "cell_type": "markdown",
   "id": "72d2788a",
   "metadata": {},
   "source": [
    "## Load in database from storage"
   ]
  },
  {
   "cell_type": "code",
   "execution_count": 55,
   "id": "56496efd",
   "metadata": {},
   "outputs": [],
   "source": [
    "# database = pd.read_csv('database.csv')"
   ]
  },
  {
   "cell_type": "code",
   "execution_count": 56,
   "id": "b5a5c4dd",
   "metadata": {},
   "outputs": [],
   "source": [
    "# Loading the data\n",
    "data_dfs = dict()"
   ]
  },
  {
   "cell_type": "markdown",
   "id": "cb38af3e",
   "metadata": {},
   "source": [
    "## Create Logo objects from scratch"
   ]
  },
  {
   "cell_type": "code",
   "execution_count": 57,
   "id": "058b33db",
   "metadata": {},
   "outputs": [],
   "source": [
    "group = np.arange(1, 7)"
   ]
  },
  {
   "cell_type": "code",
   "execution_count": 58,
   "id": "14e6a2d7",
   "metadata": {},
   "outputs": [],
   "source": [
    "# for i in group:\n",
    "\n",
    "#     applicant_loc = f'/Users/aaronrasin/Desktop/Logo/Logos/applicant_{i}'\n",
    "#     applicant_logo_names = os.listdir(applicant_loc)\n",
    "#     applicant_logos = list()\n",
    "\n",
    "#     previous_loc = f'/Users/aaronrasin/Desktop/Logo/Logos/previous_{i}'\n",
    "#     previous_logo_names = os.listdir(previous_loc)\n",
    "#     previous_logos = list()\n",
    "    \n",
    "#     print(f\"Initializing applicant logos (Test Set {i})\")\n",
    "#     for applicant in tqdm(applicant_logo_names):\n",
    "#         if applicant != '.DS_Store':\n",
    "#             applicant_logos.append(Logo(applicant_loc + '/' + applicant))\n",
    "            \n",
    "#     print(f\"Initializing previous logos (Test Set {i})\")\n",
    "#     for previous in tqdm(previous_logo_names):\n",
    "#         if previous != '.DS_Store':\n",
    "#             previous_logos.append(Logo(previous_loc + '/' + previous))\n",
    "#             row = store_logo(previous_logos[-1])\n",
    "#             database = database.append(row, ignore_index=True)"
   ]
  },
  {
   "cell_type": "markdown",
   "id": "f9671aa6",
   "metadata": {},
   "source": [
    "## Create applicant Logos"
   ]
  },
  {
   "cell_type": "code",
   "execution_count": 59,
   "id": "7e0e9358",
   "metadata": {},
   "outputs": [
    {
     "name": "stdout",
     "output_type": "stream",
     "text": [
      "Initializing applicant logos (Test Set 1)\n"
     ]
    },
    {
     "name": "stderr",
     "output_type": "stream",
     "text": [
      "100%|███████████████████████████████████████████| 24/24 [01:15<00:00,  3.13s/it]\n"
     ]
    },
    {
     "name": "stdout",
     "output_type": "stream",
     "text": [
      "Initializing applicant logos (Test Set 2)\n"
     ]
    },
    {
     "name": "stderr",
     "output_type": "stream",
     "text": [
      "100%|█████████████████████████████████████████████| 9/9 [00:12<00:00,  1.40s/it]\n"
     ]
    },
    {
     "name": "stdout",
     "output_type": "stream",
     "text": [
      "Initializing applicant logos (Test Set 3)\n"
     ]
    },
    {
     "name": "stderr",
     "output_type": "stream",
     "text": [
      "100%|███████████████████████████████████████████| 13/13 [00:43<00:00,  3.36s/it]\n"
     ]
    },
    {
     "name": "stdout",
     "output_type": "stream",
     "text": [
      "Initializing applicant logos (Test Set 4)\n"
     ]
    },
    {
     "name": "stderr",
     "output_type": "stream",
     "text": [
      "100%|███████████████████████████████████████████| 17/17 [00:37<00:00,  2.19s/it]\n"
     ]
    },
    {
     "name": "stdout",
     "output_type": "stream",
     "text": [
      "Initializing applicant logos (Test Set 5)\n"
     ]
    },
    {
     "name": "stderr",
     "output_type": "stream",
     "text": [
      "100%|███████████████████████████████████████████| 34/34 [03:57<00:00,  6.98s/it]\n"
     ]
    },
    {
     "name": "stdout",
     "output_type": "stream",
     "text": [
      "Initializing applicant logos (Test Set 6)\n"
     ]
    },
    {
     "name": "stderr",
     "output_type": "stream",
     "text": [
      "100%|███████████████████████████████████████████| 16/16 [00:47<00:00,  2.94s/it]\n"
     ]
    }
   ],
   "source": [
    "for i in group:\n",
    "    print(f\"Initializing applicant logos (Test Set {i})\")\n",
    "\n",
    "    applicant_loc = f'/Users/aaronrasin/Desktop/Logo/Logos/applicant_{i}'\n",
    "    applicant_logo_names = os.listdir(applicant_loc)\n",
    "    \n",
    "    for applicant in tqdm(applicant_logo_names):\n",
    "        if applicant != '.DS_Store':\n",
    "            applicant_logos.append(Logo(applicant_loc + '/' + applicant))"
   ]
  },
  {
   "cell_type": "markdown",
   "id": "3a71b662",
   "metadata": {},
   "source": [
    "## Create previous Logos (and store them)"
   ]
  },
  {
   "cell_type": "code",
   "execution_count": 60,
   "id": "5a976a69",
   "metadata": {},
   "outputs": [
    {
     "name": "stdout",
     "output_type": "stream",
     "text": [
      "Initializing previous logos (Test Set 1)\n"
     ]
    },
    {
     "name": "stderr",
     "output_type": "stream",
     "text": [
      "100%|███████████████████████████████████████████| 35/35 [01:28<00:00,  2.54s/it]\n"
     ]
    },
    {
     "name": "stdout",
     "output_type": "stream",
     "text": [
      "Initializing previous logos (Test Set 2)\n"
     ]
    },
    {
     "name": "stderr",
     "output_type": "stream",
     "text": [
      "100%|█████████████████████████████████████████████| 7/7 [00:14<00:00,  2.03s/it]\n"
     ]
    },
    {
     "name": "stdout",
     "output_type": "stream",
     "text": [
      "Initializing previous logos (Test Set 3)\n"
     ]
    },
    {
     "name": "stderr",
     "output_type": "stream",
     "text": [
      "100%|███████████████████████████████████████████| 14/14 [00:28<00:00,  2.05s/it]\n"
     ]
    },
    {
     "name": "stdout",
     "output_type": "stream",
     "text": [
      "Initializing previous logos (Test Set 4)\n"
     ]
    },
    {
     "name": "stderr",
     "output_type": "stream",
     "text": [
      "100%|███████████████████████████████████████████| 18/18 [00:34<00:00,  1.90s/it]\n"
     ]
    },
    {
     "name": "stdout",
     "output_type": "stream",
     "text": [
      "Initializing previous logos (Test Set 5)\n"
     ]
    },
    {
     "name": "stderr",
     "output_type": "stream",
     "text": [
      "100%|███████████████████████████████████████████| 40/40 [05:36<00:00,  8.42s/it]\n"
     ]
    },
    {
     "name": "stdout",
     "output_type": "stream",
     "text": [
      "Initializing previous logos (Test Set 6)\n"
     ]
    },
    {
     "name": "stderr",
     "output_type": "stream",
     "text": [
      "100%|███████████████████████████████████████████| 16/16 [00:52<00:00,  3.29s/it]\n"
     ]
    }
   ],
   "source": [
    "for i in group:        \n",
    "    print(f\"Initializing previous logos (Test Set {i})\")\n",
    "    \n",
    "    previous_loc = f'/Users/aaronrasin/Desktop/Logo/Logos/previous_{i}'\n",
    "    previous_logo_names = os.listdir(previous_loc)\n",
    "    \n",
    "    for previous in tqdm(previous_logo_names):\n",
    "        if previous != '.DS_Store':\n",
    "            previous_logos.append(Logo(previous_loc + '/' + previous))\n",
    "            row = store_logo(previous_logos[-1])\n",
    "            database = database.append(row, ignore_index=True)\n",
    "            \n",
    "database.to_csv('database.csv', index=False)"
   ]
  },
  {
   "cell_type": "markdown",
   "id": "ba74cad3",
   "metadata": {},
   "source": [
    "## Load in Oldlogos"
   ]
  },
  {
   "cell_type": "code",
   "execution_count": 55,
   "id": "df2c4cb2",
   "metadata": {},
   "outputs": [],
   "source": [
    "database"
   ]
  },
  {
   "cell_type": "code",
   "execution_count": 7,
   "id": "449682c5",
   "metadata": {},
   "outputs": [],
   "source": [
    "previous_oldlogos = list()"
   ]
  },
  {
   "cell_type": "code",
   "execution_count": 24,
   "id": "28d2a3d2",
   "metadata": {},
   "outputs": [
    {
     "name": "stdout",
     "output_type": "stream",
     "text": [
      "Uploading previous logos (Test Set 1)\n"
     ]
    },
    {
     "name": "stderr",
     "output_type": "stream",
     "text": [
      "100%|██████████████████████████████████████████| 16/16 [00:00<00:00, 613.38it/s]\n"
     ]
    },
    {
     "name": "stdout",
     "output_type": "stream",
     "text": [
      "Uploading previous logos (Test Set 2)\n"
     ]
    },
    {
     "name": "stderr",
     "output_type": "stream",
     "text": [
      "100%|██████████████████████████████████████████| 16/16 [00:00<00:00, 331.23it/s]\n"
     ]
    },
    {
     "name": "stdout",
     "output_type": "stream",
     "text": [
      "Uploading previous logos (Test Set 3)\n"
     ]
    },
    {
     "name": "stderr",
     "output_type": "stream",
     "text": [
      "100%|█████████████████████████████████████████| 16/16 [00:00<00:00, 1392.88it/s]\n"
     ]
    },
    {
     "name": "stdout",
     "output_type": "stream",
     "text": [
      "Uploading previous logos (Test Set 4)\n"
     ]
    },
    {
     "name": "stderr",
     "output_type": "stream",
     "text": [
      "100%|██████████████████████████████████████████| 16/16 [00:00<00:00, 664.73it/s]\n"
     ]
    },
    {
     "name": "stdout",
     "output_type": "stream",
     "text": [
      "Uploading previous logos (Test Set 5)\n"
     ]
    },
    {
     "name": "stderr",
     "output_type": "stream",
     "text": [
      "100%|██████████████████████████████████████████| 16/16 [00:00<00:00, 760.79it/s]\n"
     ]
    },
    {
     "name": "stdout",
     "output_type": "stream",
     "text": [
      "Uploading previous logos (Test Set 6)\n"
     ]
    },
    {
     "name": "stderr",
     "output_type": "stream",
     "text": [
      "100%|█████████████████████████████████████████| 16/16 [00:00<00:00, 1502.76it/s]\n"
     ]
    }
   ],
   "source": [
    "for i in group:\n",
    "    print(f\"Uploading previous logos (Test Set {i})\")\n",
    "    names = database['name'].unique()\n",
    "    \n",
    "    for oldname in tqdm(previous_logo_names):\n",
    "        if oldname in names:\n",
    "            previous_logos.append(Oldlogo(oldname, database))"
   ]
  },
  {
   "cell_type": "code",
   "execution_count": 27,
   "id": "370ac28e",
   "metadata": {},
   "outputs": [
    {
     "data": {
      "text/plain": [
       "90"
      ]
     },
     "execution_count": 27,
     "metadata": {},
     "output_type": "execute_result"
    }
   ],
   "source": [
    "len(previous_logos)"
   ]
  },
  {
   "cell_type": "markdown",
   "id": "7381f25d",
   "metadata": {},
   "source": [
    "## Compare and scale logos"
   ]
  },
  {
   "cell_type": "code",
   "execution_count": 18,
   "id": "9e87d9b0",
   "metadata": {
    "scrolled": true
   },
   "outputs": [
    {
     "name": "stdout",
     "output_type": "stream",
     "text": [
      "Initializing applicant logos (Test Set 5)\n"
     ]
    },
    {
     "name": "stderr",
     "output_type": "stream",
     "text": [
      "100%|███████████████████████████████████████████| 34/34 [02:20<00:00,  4.13s/it]\n"
     ]
    },
    {
     "name": "stdout",
     "output_type": "stream",
     "text": [
      "Initializing previous logos (Test Set 5)\n"
     ]
    },
    {
     "name": "stderr",
     "output_type": "stream",
     "text": [
      "100%|███████████████████████████████████████████| 40/40 [03:53<00:00,  5.84s/it]\n"
     ]
    },
    {
     "ename": "NameError",
     "evalue": "name 'df' is not defined",
     "output_type": "error",
     "traceback": [
      "\u001b[0;31m---------------------------------------------------------------------------\u001b[0m",
      "\u001b[0;31mNameError\u001b[0m                                 Traceback (most recent call last)",
      "Cell \u001b[0;32mIn[18], line 30\u001b[0m\n\u001b[1;32m     21\u001b[0m             previous_logos\u001b[38;5;241m.\u001b[39mappend(Logo(previous_loc \u001b[38;5;241m+\u001b[39m \u001b[38;5;124m'\u001b[39m\u001b[38;5;124m/\u001b[39m\u001b[38;5;124m'\u001b[39m \u001b[38;5;241m+\u001b[39m previous))\n\u001b[1;32m     24\u001b[0m     \u001b[38;5;66;03m# Comparing applicants and previous logos\u001b[39;00m\n\u001b[1;32m     25\u001b[0m \u001b[38;5;66;03m#     df = compare_logos(applicant_logos, previous_logos)\u001b[39;00m\n\u001b[1;32m     26\u001b[0m     \n\u001b[1;32m     27\u001b[0m     \u001b[38;5;66;03m# Scale the similarity scores (SSIM, Color, and Template)\u001b[39;00m\n\u001b[1;32m     28\u001b[0m \u001b[38;5;66;03m#     df = scale_scores(df, features = ['SSIM', 'Color Similarity Score', 'Template Matching'])\u001b[39;00m\n\u001b[0;32m---> 30\u001b[0m     data_dfs[\u001b[38;5;124mf\u001b[39m\u001b[38;5;124m'\u001b[39m\u001b[38;5;124mdf\u001b[39m\u001b[38;5;132;01m{\u001b[39;00mi\u001b[38;5;132;01m}\u001b[39;00m\u001b[38;5;124m'\u001b[39m] \u001b[38;5;241m=\u001b[39m df\n",
      "\u001b[0;31mNameError\u001b[0m: name 'df' is not defined"
     ]
    }
   ],
   "source": [
    "    # Comparing applicants and previous logos\n",
    "    df = compare_logos(applicant_logos, previous_logos)\n",
    "    \n",
    "    # Scale the similarity scores (SSIM, Color, and Template)\n",
    "    df = scale_scores(df, features = ['SSIM', 'Color Similarity Score', 'Template Matching'])\n",
    "    \n",
    "    data_dfs[f'df{i}'] = df"
   ]
  },
  {
   "cell_type": "markdown",
   "id": "a317052d",
   "metadata": {},
   "source": [
    "Need an Oldlogo class for logos that have already been analyzed and stored. "
   ]
  },
  {
   "cell_type": "code",
   "execution_count": 35,
   "id": "5624db90",
   "metadata": {},
   "outputs": [],
   "source": [
    "def store_logo(logoA):\n",
    "    row = {\n",
    "        'path': logoA.orig_path,\n",
    "        'name': logoA.name,\n",
    "        'image': logoA.image,\n",
    "        'text': logoA.text,\n",
    "        'primary': logoA.primary,\n",
    "        'secondary': logoA.secondary,\n",
    "        'rgb_df': logoA.rgb_df,\n",
    "        'contours': logoA.contours,\n",
    "        'contour_count': logoA.contour_count,\n",
    "        'contour_area': logoA.contour_area,\n",
    "        'contour_points': logoA.contour_points,\n",
    "        'image_with_contours': logoA.image_with_contours\n",
    "    }\n",
    "    return row"
   ]
  },
  {
   "cell_type": "code",
   "execution_count": null,
   "id": "98e8ee75",
   "metadata": {},
   "outputs": [],
   "source": []
  },
  {
   "cell_type": "code",
   "execution_count": null,
   "id": "ebfd5797",
   "metadata": {},
   "outputs": [],
   "source": []
  }
 ],
 "metadata": {
  "kernelspec": {
   "display_name": "Python 3 (ipykernel)",
   "language": "python",
   "name": "python3"
  },
  "language_info": {
   "codemirror_mode": {
    "name": "ipython",
    "version": 3
   },
   "file_extension": ".py",
   "mimetype": "text/x-python",
   "name": "python",
   "nbconvert_exporter": "python",
   "pygments_lexer": "ipython3",
   "version": "3.11.5"
  }
 },
 "nbformat": 4,
 "nbformat_minor": 5
}
