{
 "cells": [
  {
   "cell_type": "code",
   "execution_count": 1,
   "id": "196d2b2f",
   "metadata": {},
   "outputs": [],
   "source": [
    "%load_ext autoreload\n",
    "%autoreload 2"
   ]
  },
  {
   "cell_type": "code",
   "execution_count": 43,
   "id": "7ea9787b",
   "metadata": {},
   "outputs": [],
   "source": [
    "from logo import Logo\n",
    "import logo_comparison\n",
    "from logo_comparison import *\n",
    "\n",
    "import os\n",
    "import pandas as pd\n",
    "import numpy as np\n",
    "from tqdm import tqdm\n",
    "import matplotlib.pyplot as plt\n",
    "from sklearn.preprocessing import MinMaxScaler"
   ]
  },
  {
   "cell_type": "code",
   "execution_count": 3,
   "id": "b5a5c4dd",
   "metadata": {},
   "outputs": [],
   "source": [
    "# Loading the data\n",
    "data_dfs = dict()"
   ]
  },
  {
   "cell_type": "code",
   "execution_count": 65,
   "id": "9e87d9b0",
   "metadata": {
    "scrolled": true
   },
   "outputs": [
    {
     "name": "stdout",
     "output_type": "stream",
     "text": [
      "Initializing applicant logos (Test Set 3)\n"
     ]
    },
    {
     "name": "stderr",
     "output_type": "stream",
     "text": [
      "100%|███████████████████████████████████████████| 13/13 [00:52<00:00,  4.05s/it]\n"
     ]
    },
    {
     "name": "stdout",
     "output_type": "stream",
     "text": [
      "Initializing previous logos (Test Set 3)\n"
     ]
    },
    {
     "name": "stderr",
     "output_type": "stream",
     "text": [
      "100%|███████████████████████████████████████████| 14/14 [00:18<00:00,  1.34s/it]\n"
     ]
    },
    {
     "name": "stdout",
     "output_type": "stream",
     "text": [
      "Comparing logos\n"
     ]
    },
    {
     "name": "stderr",
     "output_type": "stream",
     "text": [
      "100%|███████████████████████████████████████████| 13/13 [00:55<00:00,  4.30s/it]\n"
     ]
    }
   ],
   "source": [
    "for i in np.arange(3, 4):\n",
    "\n",
    "    applicant_loc = f'/Users/aaronrasin/Desktop/Logo/Logos/applicant_{i}'\n",
    "    applicant_logo_names = os.listdir(applicant_loc)\n",
    "    applicant_logos = list()\n",
    "\n",
    "    previous_loc = f'/Users/aaronrasin/Desktop/Logo/Logos/previous_{i}'\n",
    "    previous_logo_names = os.listdir(previous_loc)\n",
    "    previous_logos = list()\n",
    "    \n",
    "    \n",
    "    # Analyzing logo individually\n",
    "    print(f\"Initializing applicant logos (Test Set {i})\")\n",
    "    for applicant in tqdm(applicant_logo_names):\n",
    "        if applicant != '.DS_Store':\n",
    "            applicant_logos.append(Logo(applicant_loc + '/' + applicant))\n",
    "            \n",
    "    print(f\"Initializing previous logos (Test Set {i})\")\n",
    "    for previous in tqdm(previous_logo_names):\n",
    "        if previous != '.DS_Store':\n",
    "            previous_logos.append(Logo(previous_loc + '/' + previous))\n",
    "    \n",
    "    \n",
    "    # Comparing applicants and previous logos\n",
    "    df = compare_logos(applicant_logos, previous_logos)\n",
    "    \n",
    "    data_dfs[f'df{i}'] = df"
   ]
  },
  {
   "cell_type": "code",
   "execution_count": 75,
   "id": "0810e7e2",
   "metadata": {},
   "outputs": [
    {
     "data": {
      "text/html": [
       "<div>\n",
       "<style scoped>\n",
       "    .dataframe tbody tr th:only-of-type {\n",
       "        vertical-align: middle;\n",
       "    }\n",
       "\n",
       "    .dataframe tbody tr th {\n",
       "        vertical-align: top;\n",
       "    }\n",
       "\n",
       "    .dataframe thead th {\n",
       "        text-align: right;\n",
       "    }\n",
       "</style>\n",
       "<table border=\"1\" class=\"dataframe\">\n",
       "  <thead>\n",
       "    <tr style=\"text-align: right;\">\n",
       "      <th></th>\n",
       "      <th>Applicant Logo</th>\n",
       "      <th>Previous Logo</th>\n",
       "      <th>SSIM</th>\n",
       "      <th>Color Similarity Score</th>\n",
       "      <th>Shape Complexity Score</th>\n",
       "      <th>Template Matching</th>\n",
       "      <th>Text Similarity Score</th>\n",
       "    </tr>\n",
       "  </thead>\n",
       "  <tbody>\n",
       "    <tr>\n",
       "      <th>0</th>\n",
       "      <td>GiorgoArmani DunkinDonuts (fake).png</td>\n",
       "      <td>Gucci.png</td>\n",
       "      <td>0.499813</td>\n",
       "      <td>51.343171</td>\n",
       "      <td>0.000000</td>\n",
       "      <td>0.105532</td>\n",
       "      <td>0.0</td>\n",
       "    </tr>\n",
       "    <tr>\n",
       "      <th>1</th>\n",
       "      <td>GiorgoArmani DunkinDonuts (fake).png</td>\n",
       "      <td>Puma.png</td>\n",
       "      <td>0.304312</td>\n",
       "      <td>50.391181</td>\n",
       "      <td>0.842152</td>\n",
       "      <td>0.111955</td>\n",
       "      <td>0.0</td>\n",
       "    </tr>\n",
       "    <tr>\n",
       "      <th>2</th>\n",
       "      <td>GiorgoArmani DunkinDonuts (fake).png</td>\n",
       "      <td>HomeDepot.png</td>\n",
       "      <td>0.172841</td>\n",
       "      <td>36.777876</td>\n",
       "      <td>1.000000</td>\n",
       "      <td>0.107001</td>\n",
       "      <td>0.0</td>\n",
       "    </tr>\n",
       "    <tr>\n",
       "      <th>3</th>\n",
       "      <td>GiorgoArmani DunkinDonuts (fake).png</td>\n",
       "      <td>miumiu.png</td>\n",
       "      <td>0.600280</td>\n",
       "      <td>49.756333</td>\n",
       "      <td>0.647716</td>\n",
       "      <td>0.128266</td>\n",
       "      <td>0.0</td>\n",
       "    </tr>\n",
       "    <tr>\n",
       "      <th>4</th>\n",
       "      <td>GiorgoArmani DunkinDonuts (fake).png</td>\n",
       "      <td>CalvinKlein.png</td>\n",
       "      <td>0.340250</td>\n",
       "      <td>51.343171</td>\n",
       "      <td>0.032658</td>\n",
       "      <td>0.100315</td>\n",
       "      <td>0.0</td>\n",
       "    </tr>\n",
       "    <tr>\n",
       "      <th>...</th>\n",
       "      <td>...</td>\n",
       "      <td>...</td>\n",
       "      <td>...</td>\n",
       "      <td>...</td>\n",
       "      <td>...</td>\n",
       "      <td>...</td>\n",
       "      <td>...</td>\n",
       "    </tr>\n",
       "    <tr>\n",
       "      <th>754</th>\n",
       "      <td>Shell(fake).png</td>\n",
       "      <td>DunkinDonuts.png</td>\n",
       "      <td>0.447610</td>\n",
       "      <td>10.234823</td>\n",
       "      <td>0.788838</td>\n",
       "      <td>0.126931</td>\n",
       "      <td>0.0</td>\n",
       "    </tr>\n",
       "    <tr>\n",
       "      <th>755</th>\n",
       "      <td>Shell(fake).png</td>\n",
       "      <td>Youtube.png</td>\n",
       "      <td>0.287527</td>\n",
       "      <td>47.547000</td>\n",
       "      <td>0.720005</td>\n",
       "      <td>0.196470</td>\n",
       "      <td>0.0</td>\n",
       "    </tr>\n",
       "    <tr>\n",
       "      <th>756</th>\n",
       "      <td>Shell(fake).png</td>\n",
       "      <td>MarcJacobs.png</td>\n",
       "      <td>0.625598</td>\n",
       "      <td>45.094166</td>\n",
       "      <td>0.843390</td>\n",
       "      <td>0.156135</td>\n",
       "      <td>0.0</td>\n",
       "    </tr>\n",
       "    <tr>\n",
       "      <th>757</th>\n",
       "      <td>Shell(fake).png</td>\n",
       "      <td>PizzaHut.png</td>\n",
       "      <td>0.329507</td>\n",
       "      <td>51.009894</td>\n",
       "      <td>0.130755</td>\n",
       "      <td>0.057321</td>\n",
       "      <td>0.0</td>\n",
       "    </tr>\n",
       "    <tr>\n",
       "      <th>758</th>\n",
       "      <td>Shell(fake).png</td>\n",
       "      <td>McDonald's.png</td>\n",
       "      <td>0.196625</td>\n",
       "      <td>21.183757</td>\n",
       "      <td>0.570625</td>\n",
       "      <td>0.076824</td>\n",
       "      <td>0.0</td>\n",
       "    </tr>\n",
       "  </tbody>\n",
       "</table>\n",
       "<p>759 rows × 7 columns</p>\n",
       "</div>"
      ],
      "text/plain": [
       "                           Applicant Logo     Previous Logo      SSIM  \\\n",
       "0    GiorgoArmani DunkinDonuts (fake).png         Gucci.png  0.499813   \n",
       "1    GiorgoArmani DunkinDonuts (fake).png          Puma.png  0.304312   \n",
       "2    GiorgoArmani DunkinDonuts (fake).png     HomeDepot.png  0.172841   \n",
       "3    GiorgoArmani DunkinDonuts (fake).png        miumiu.png  0.600280   \n",
       "4    GiorgoArmani DunkinDonuts (fake).png   CalvinKlein.png  0.340250   \n",
       "..                                    ...               ...       ...   \n",
       "754                       Shell(fake).png  DunkinDonuts.png  0.447610   \n",
       "755                       Shell(fake).png       Youtube.png  0.287527   \n",
       "756                       Shell(fake).png    MarcJacobs.png  0.625598   \n",
       "757                       Shell(fake).png      PizzaHut.png  0.329507   \n",
       "758                       Shell(fake).png    McDonald's.png  0.196625   \n",
       "\n",
       "     Color Similarity Score  Shape Complexity Score  Template Matching  \\\n",
       "0                 51.343171                0.000000           0.105532   \n",
       "1                 50.391181                0.842152           0.111955   \n",
       "2                 36.777876                1.000000           0.107001   \n",
       "3                 49.756333                0.647716           0.128266   \n",
       "4                 51.343171                0.032658           0.100315   \n",
       "..                      ...                     ...                ...   \n",
       "754               10.234823                0.788838           0.126931   \n",
       "755               47.547000                0.720005           0.196470   \n",
       "756               45.094166                0.843390           0.156135   \n",
       "757               51.009894                0.130755           0.057321   \n",
       "758               21.183757                0.570625           0.076824   \n",
       "\n",
       "     Text Similarity Score  \n",
       "0                      0.0  \n",
       "1                      0.0  \n",
       "2                      0.0  \n",
       "3                      0.0  \n",
       "4                      0.0  \n",
       "..                     ...  \n",
       "754                    0.0  \n",
       "755                    0.0  \n",
       "756                    0.0  \n",
       "757                    0.0  \n",
       "758                    0.0  \n",
       "\n",
       "[759 rows x 7 columns]"
      ]
     },
     "execution_count": 75,
     "metadata": {},
     "output_type": "execute_result"
    }
   ],
   "source": [
    "df1"
   ]
  },
  {
   "cell_type": "code",
   "execution_count": 66,
   "id": "2b0adef0",
   "metadata": {},
   "outputs": [
    {
     "data": {
      "text/html": [
       "<div>\n",
       "<style scoped>\n",
       "    .dataframe tbody tr th:only-of-type {\n",
       "        vertical-align: middle;\n",
       "    }\n",
       "\n",
       "    .dataframe tbody tr th {\n",
       "        vertical-align: top;\n",
       "    }\n",
       "\n",
       "    .dataframe thead th {\n",
       "        text-align: right;\n",
       "    }\n",
       "</style>\n",
       "<table border=\"1\" class=\"dataframe\">\n",
       "  <thead>\n",
       "    <tr style=\"text-align: right;\">\n",
       "      <th></th>\n",
       "      <th>Applicant Logo</th>\n",
       "      <th>Previous Logo</th>\n",
       "      <th>SSIM</th>\n",
       "      <th>Color Similarity Score</th>\n",
       "      <th>Shape Complexity Score</th>\n",
       "      <th>Template Matching</th>\n",
       "      <th>Text Similarity Score</th>\n",
       "    </tr>\n",
       "  </thead>\n",
       "  <tbody>\n",
       "    <tr>\n",
       "      <th>0</th>\n",
       "      <td>toyota(fake).png</td>\n",
       "      <td>greyhound.png</td>\n",
       "      <td>0.666611</td>\n",
       "      <td>46.279523</td>\n",
       "      <td>0.671606</td>\n",
       "      <td>0.089700</td>\n",
       "      <td>0.0</td>\n",
       "    </tr>\n",
       "    <tr>\n",
       "      <th>1</th>\n",
       "      <td>toyota(fake).png</td>\n",
       "      <td>AmericanAirlines.png</td>\n",
       "      <td>0.593721</td>\n",
       "      <td>26.795013</td>\n",
       "      <td>0.953279</td>\n",
       "      <td>0.062036</td>\n",
       "      <td>100.0</td>\n",
       "    </tr>\n",
       "    <tr>\n",
       "      <th>2</th>\n",
       "      <td>toyota(fake).png</td>\n",
       "      <td>postit.png</td>\n",
       "      <td>0.265003</td>\n",
       "      <td>45.350475</td>\n",
       "      <td>0.901085</td>\n",
       "      <td>0.082874</td>\n",
       "      <td>0.0</td>\n",
       "    </tr>\n",
       "    <tr>\n",
       "      <th>3</th>\n",
       "      <td>toyota(fake).png</td>\n",
       "      <td>samsung.png</td>\n",
       "      <td>0.248093</td>\n",
       "      <td>45.519935</td>\n",
       "      <td>0.963881</td>\n",
       "      <td>0.107394</td>\n",
       "      <td>100.0</td>\n",
       "    </tr>\n",
       "    <tr>\n",
       "      <th>4</th>\n",
       "      <td>toyota(fake).png</td>\n",
       "      <td>motorola.png</td>\n",
       "      <td>0.671249</td>\n",
       "      <td>46.279523</td>\n",
       "      <td>0.702799</td>\n",
       "      <td>0.159831</td>\n",
       "      <td>0.0</td>\n",
       "    </tr>\n",
       "    <tr>\n",
       "      <th>...</th>\n",
       "      <td>...</td>\n",
       "      <td>...</td>\n",
       "      <td>...</td>\n",
       "      <td>...</td>\n",
       "      <td>...</td>\n",
       "      <td>...</td>\n",
       "      <td>...</td>\n",
       "    </tr>\n",
       "    <tr>\n",
       "      <th>151</th>\n",
       "      <td>greyhound(fake).png</td>\n",
       "      <td>toyota.png</td>\n",
       "      <td>0.565951</td>\n",
       "      <td>40.391861</td>\n",
       "      <td>0.963641</td>\n",
       "      <td>0.086016</td>\n",
       "      <td>0.0</td>\n",
       "    </tr>\n",
       "    <tr>\n",
       "      <th>152</th>\n",
       "      <td>greyhound(fake).png</td>\n",
       "      <td>bmw.jpeg</td>\n",
       "      <td>0.315145</td>\n",
       "      <td>33.554948</td>\n",
       "      <td>0.961773</td>\n",
       "      <td>0.068648</td>\n",
       "      <td>0.0</td>\n",
       "    </tr>\n",
       "    <tr>\n",
       "      <th>153</th>\n",
       "      <td>greyhound(fake).png</td>\n",
       "      <td>nutella.png</td>\n",
       "      <td>0.505106</td>\n",
       "      <td>35.066163</td>\n",
       "      <td>0.923805</td>\n",
       "      <td>0.078720</td>\n",
       "      <td>0.0</td>\n",
       "    </tr>\n",
       "    <tr>\n",
       "      <th>154</th>\n",
       "      <td>greyhound(fake).png</td>\n",
       "      <td>caterpillar.png</td>\n",
       "      <td>0.577783</td>\n",
       "      <td>6.785261</td>\n",
       "      <td>0.908441</td>\n",
       "      <td>0.091825</td>\n",
       "      <td>0.0</td>\n",
       "    </tr>\n",
       "    <tr>\n",
       "      <th>155</th>\n",
       "      <td>greyhound(fake).png</td>\n",
       "      <td>windows.png</td>\n",
       "      <td>0.395268</td>\n",
       "      <td>32.841602</td>\n",
       "      <td>0.897398</td>\n",
       "      <td>0.064681</td>\n",
       "      <td>0.0</td>\n",
       "    </tr>\n",
       "  </tbody>\n",
       "</table>\n",
       "<p>156 rows × 7 columns</p>\n",
       "</div>"
      ],
      "text/plain": [
       "          Applicant Logo         Previous Logo      SSIM  \\\n",
       "0       toyota(fake).png         greyhound.png  0.666611   \n",
       "1       toyota(fake).png  AmericanAirlines.png  0.593721   \n",
       "2       toyota(fake).png            postit.png  0.265003   \n",
       "3       toyota(fake).png           samsung.png  0.248093   \n",
       "4       toyota(fake).png          motorola.png  0.671249   \n",
       "..                   ...                   ...       ...   \n",
       "151  greyhound(fake).png            toyota.png  0.565951   \n",
       "152  greyhound(fake).png              bmw.jpeg  0.315145   \n",
       "153  greyhound(fake).png           nutella.png  0.505106   \n",
       "154  greyhound(fake).png       caterpillar.png  0.577783   \n",
       "155  greyhound(fake).png           windows.png  0.395268   \n",
       "\n",
       "     Color Similarity Score  Shape Complexity Score  Template Matching  \\\n",
       "0                 46.279523                0.671606           0.089700   \n",
       "1                 26.795013                0.953279           0.062036   \n",
       "2                 45.350475                0.901085           0.082874   \n",
       "3                 45.519935                0.963881           0.107394   \n",
       "4                 46.279523                0.702799           0.159831   \n",
       "..                      ...                     ...                ...   \n",
       "151               40.391861                0.963641           0.086016   \n",
       "152               33.554948                0.961773           0.068648   \n",
       "153               35.066163                0.923805           0.078720   \n",
       "154                6.785261                0.908441           0.091825   \n",
       "155               32.841602                0.897398           0.064681   \n",
       "\n",
       "     Text Similarity Score  \n",
       "0                      0.0  \n",
       "1                    100.0  \n",
       "2                      0.0  \n",
       "3                    100.0  \n",
       "4                      0.0  \n",
       "..                     ...  \n",
       "151                    0.0  \n",
       "152                    0.0  \n",
       "153                    0.0  \n",
       "154                    0.0  \n",
       "155                    0.0  \n",
       "\n",
       "[156 rows x 7 columns]"
      ]
     },
     "execution_count": 66,
     "metadata": {},
     "output_type": "execute_result"
    }
   ],
   "source": [
    "df3 = data_dfs['df3']\n",
    "df3"
   ]
  },
  {
   "cell_type": "code",
   "execution_count": null,
   "id": "a55e792c",
   "metadata": {},
   "outputs": [],
   "source": []
  },
  {
   "cell_type": "code",
   "execution_count": 69,
   "id": "88cf3945",
   "metadata": {},
   "outputs": [],
   "source": [
    "features = ['SSIM', 'Color Similarity Score', 'Template Matching']\n",
    "app_groups = df3['Applicant Logo'].unique()\n",
    "prev_groups = df3['Previous Logo'].unique()\n",
    "\n",
    "# Scale applicant scores\n",
    "app_subs = dict()\n",
    "prev_subs = dict()\n",
    "\n",
    "for app_group in app_groups:\n",
    "    sub = df3[df3['Applicant Logo'] == app_group]\n",
    "\n",
    "    for feature in features:\n",
    "        scaler = MinMaxScaler()\n",
    "        sub[f'Applicant Scaled {feature}'] = scaler.fit_transform(sub[feature].values.reshape(-1,1))\n",
    "    \n",
    "    app_subs[app_group] = sub\n",
    "\n",
    "\n",
    "for prev_group in prev_groups:\n",
    "    sub = df3[df3['Previous Logo'] == prev_group]\n",
    "\n",
    "    for feature in features:\n",
    "        scaler = MinMaxScaler()\n",
    "        sub[f'Previous Scaled {feature}'] = scaler.fit_transform(sub[feature].values.reshape(-1,1))\n",
    "        \n",
    "    prev_subs[prev_group] = sub"
   ]
  },
  {
   "cell_type": "code",
   "execution_count": 70,
   "id": "150387f4",
   "metadata": {},
   "outputs": [],
   "source": [
    "app_scaled_df = pd.concat(list(app_subs.values()))\n",
    "prev_scaled_df = pd.concat(list(prev_subs.values()))"
   ]
  },
  {
   "cell_type": "code",
   "execution_count": 71,
   "id": "060f71d1",
   "metadata": {},
   "outputs": [],
   "source": [
    "scaled_df = app_scaled_df.merge(prev_scaled_df, left_on = ['Applicant Logo', 'Previous Logo'], right_on = ['Applicant Logo', 'Previous Logo'])"
   ]
  },
  {
   "cell_type": "code",
   "execution_count": 72,
   "id": "23377e6e",
   "metadata": {},
   "outputs": [],
   "source": [
    "final_df = pd.DataFrame({\n",
    "    'Applicant Logo': scaled_df['Applicant Logo'],\n",
    "    'Previous Logo': scaled_df['Previous Logo'],\n",
    "    'SSIM': (scaled_df['Applicant Scaled SSIM'] + scaled_df['Previous Scaled SSIM'])/2,\n",
    "    'Color Similarity Score': (scaled_df['Applicant Scaled Color Similarity Score'] + scaled_df['Previous Scaled Color Similarity Score'])/2,\n",
    "    'Shape Complexity Score': scaled_df['Shape Complexity Score_x'],\n",
    "    'Template Matching': (scaled_df['Applicant Scaled Template Matching'] + scaled_df['Previous Scaled Template Matching'])/2,\n",
    "    'Text Similarity Score': scaled_df['Text Similarity Score_x']\n",
    "})"
   ]
  },
  {
   "cell_type": "code",
   "execution_count": 73,
   "id": "10f6c182",
   "metadata": {},
   "outputs": [
    {
     "data": {
      "text/html": [
       "<div>\n",
       "<style scoped>\n",
       "    .dataframe tbody tr th:only-of-type {\n",
       "        vertical-align: middle;\n",
       "    }\n",
       "\n",
       "    .dataframe tbody tr th {\n",
       "        vertical-align: top;\n",
       "    }\n",
       "\n",
       "    .dataframe thead th {\n",
       "        text-align: right;\n",
       "    }\n",
       "</style>\n",
       "<table border=\"1\" class=\"dataframe\">\n",
       "  <thead>\n",
       "    <tr style=\"text-align: right;\">\n",
       "      <th></th>\n",
       "      <th>Applicant Logo</th>\n",
       "      <th>Previous Logo</th>\n",
       "      <th>SSIM</th>\n",
       "      <th>Color Similarity Score</th>\n",
       "      <th>Shape Complexity Score</th>\n",
       "      <th>Template Matching</th>\n",
       "      <th>Text Similarity Score</th>\n",
       "    </tr>\n",
       "  </thead>\n",
       "  <tbody>\n",
       "    <tr>\n",
       "      <th>0</th>\n",
       "      <td>toyota(fake).png</td>\n",
       "      <td>greyhound.png</td>\n",
       "      <td>0.888860</td>\n",
       "      <td>1.000000</td>\n",
       "      <td>0.671606</td>\n",
       "      <td>0.536591</td>\n",
       "      <td>0.0</td>\n",
       "    </tr>\n",
       "    <tr>\n",
       "      <th>1</th>\n",
       "      <td>toyota(fake).png</td>\n",
       "      <td>AmericanAirlines.png</td>\n",
       "      <td>0.748079</td>\n",
       "      <td>0.654234</td>\n",
       "      <td>0.953279</td>\n",
       "      <td>0.245537</td>\n",
       "      <td>100.0</td>\n",
       "    </tr>\n",
       "    <tr>\n",
       "      <th>2</th>\n",
       "      <td>toyota(fake).png</td>\n",
       "      <td>postit.png</td>\n",
       "      <td>0.285947</td>\n",
       "      <td>0.988865</td>\n",
       "      <td>0.901085</td>\n",
       "      <td>0.568028</td>\n",
       "      <td>0.0</td>\n",
       "    </tr>\n",
       "    <tr>\n",
       "      <th>3</th>\n",
       "      <td>toyota(fake).png</td>\n",
       "      <td>samsung.png</td>\n",
       "      <td>0.188238</td>\n",
       "      <td>0.990896</td>\n",
       "      <td>0.963881</td>\n",
       "      <td>0.714169</td>\n",
       "      <td>100.0</td>\n",
       "    </tr>\n",
       "    <tr>\n",
       "      <th>4</th>\n",
       "      <td>toyota(fake).png</td>\n",
       "      <td>motorola.png</td>\n",
       "      <td>0.829177</td>\n",
       "      <td>1.000000</td>\n",
       "      <td>0.702799</td>\n",
       "      <td>1.000000</td>\n",
       "      <td>0.0</td>\n",
       "    </tr>\n",
       "    <tr>\n",
       "      <th>...</th>\n",
       "      <td>...</td>\n",
       "      <td>...</td>\n",
       "      <td>...</td>\n",
       "      <td>...</td>\n",
       "      <td>...</td>\n",
       "      <td>...</td>\n",
       "      <td>...</td>\n",
       "    </tr>\n",
       "    <tr>\n",
       "      <th>151</th>\n",
       "      <td>greyhound(fake).png</td>\n",
       "      <td>toyota.png</td>\n",
       "      <td>0.571340</td>\n",
       "      <td>0.918319</td>\n",
       "      <td>0.963641</td>\n",
       "      <td>0.614528</td>\n",
       "      <td>0.0</td>\n",
       "    </tr>\n",
       "    <tr>\n",
       "      <th>152</th>\n",
       "      <td>greyhound(fake).png</td>\n",
       "      <td>bmw.jpeg</td>\n",
       "      <td>0.390080</td>\n",
       "      <td>0.591715</td>\n",
       "      <td>0.961773</td>\n",
       "      <td>0.497795</td>\n",
       "      <td>0.0</td>\n",
       "    </tr>\n",
       "    <tr>\n",
       "      <th>153</th>\n",
       "      <td>greyhound(fake).png</td>\n",
       "      <td>nutella.png</td>\n",
       "      <td>0.461967</td>\n",
       "      <td>0.802208</td>\n",
       "      <td>0.923805</td>\n",
       "      <td>0.435936</td>\n",
       "      <td>0.0</td>\n",
       "    </tr>\n",
       "    <tr>\n",
       "      <th>154</th>\n",
       "      <td>greyhound(fake).png</td>\n",
       "      <td>caterpillar.png</td>\n",
       "      <td>0.580950</td>\n",
       "      <td>0.063613</td>\n",
       "      <td>0.908441</td>\n",
       "      <td>0.602383</td>\n",
       "      <td>0.0</td>\n",
       "    </tr>\n",
       "    <tr>\n",
       "      <th>155</th>\n",
       "      <td>greyhound(fake).png</td>\n",
       "      <td>windows.png</td>\n",
       "      <td>0.354892</td>\n",
       "      <td>0.674977</td>\n",
       "      <td>0.897398</td>\n",
       "      <td>0.213310</td>\n",
       "      <td>0.0</td>\n",
       "    </tr>\n",
       "  </tbody>\n",
       "</table>\n",
       "<p>156 rows × 7 columns</p>\n",
       "</div>"
      ],
      "text/plain": [
       "          Applicant Logo         Previous Logo      SSIM  \\\n",
       "0       toyota(fake).png         greyhound.png  0.888860   \n",
       "1       toyota(fake).png  AmericanAirlines.png  0.748079   \n",
       "2       toyota(fake).png            postit.png  0.285947   \n",
       "3       toyota(fake).png           samsung.png  0.188238   \n",
       "4       toyota(fake).png          motorola.png  0.829177   \n",
       "..                   ...                   ...       ...   \n",
       "151  greyhound(fake).png            toyota.png  0.571340   \n",
       "152  greyhound(fake).png              bmw.jpeg  0.390080   \n",
       "153  greyhound(fake).png           nutella.png  0.461967   \n",
       "154  greyhound(fake).png       caterpillar.png  0.580950   \n",
       "155  greyhound(fake).png           windows.png  0.354892   \n",
       "\n",
       "     Color Similarity Score  Shape Complexity Score  Template Matching  \\\n",
       "0                  1.000000                0.671606           0.536591   \n",
       "1                  0.654234                0.953279           0.245537   \n",
       "2                  0.988865                0.901085           0.568028   \n",
       "3                  0.990896                0.963881           0.714169   \n",
       "4                  1.000000                0.702799           1.000000   \n",
       "..                      ...                     ...                ...   \n",
       "151                0.918319                0.963641           0.614528   \n",
       "152                0.591715                0.961773           0.497795   \n",
       "153                0.802208                0.923805           0.435936   \n",
       "154                0.063613                0.908441           0.602383   \n",
       "155                0.674977                0.897398           0.213310   \n",
       "\n",
       "     Text Similarity Score  \n",
       "0                      0.0  \n",
       "1                    100.0  \n",
       "2                      0.0  \n",
       "3                    100.0  \n",
       "4                      0.0  \n",
       "..                     ...  \n",
       "151                    0.0  \n",
       "152                    0.0  \n",
       "153                    0.0  \n",
       "154                    0.0  \n",
       "155                    0.0  \n",
       "\n",
       "[156 rows x 7 columns]"
      ]
     },
     "execution_count": 73,
     "metadata": {},
     "output_type": "execute_result"
    }
   ],
   "source": [
    "final_df"
   ]
  },
  {
   "cell_type": "code",
   "execution_count": 74,
   "id": "9c194121",
   "metadata": {},
   "outputs": [],
   "source": [
    "final_df.to_excel('/Users/aaronrasin/Desktop/Logo/LogoComparisonData.xlsx', index=False)"
   ]
  },
  {
   "cell_type": "code",
   "execution_count": null,
   "id": "e1133211",
   "metadata": {},
   "outputs": [],
   "source": [
    "df1[df1['Applicant Logo' == 'GiorgoArmani DunkinDonuts (fake).png']]"
   ]
  },
  {
   "cell_type": "code",
   "execution_count": null,
   "id": "ec88dc88",
   "metadata": {},
   "outputs": [],
   "source": []
  },
  {
   "cell_type": "code",
   "execution_count": 11,
   "id": "d3ec2f00",
   "metadata": {},
   "outputs": [
    {
     "data": {
      "text/html": [
       "<div>\n",
       "<style scoped>\n",
       "    .dataframe tbody tr th:only-of-type {\n",
       "        vertical-align: middle;\n",
       "    }\n",
       "\n",
       "    .dataframe tbody tr th {\n",
       "        vertical-align: top;\n",
       "    }\n",
       "\n",
       "    .dataframe thead th {\n",
       "        text-align: right;\n",
       "    }\n",
       "</style>\n",
       "<table border=\"1\" class=\"dataframe\">\n",
       "  <thead>\n",
       "    <tr style=\"text-align: right;\">\n",
       "      <th></th>\n",
       "      <th>Applicant Logo</th>\n",
       "      <th>Previous Logo</th>\n",
       "      <th>SSIM</th>\n",
       "      <th>Color Similarity Score</th>\n",
       "      <th>Shape Complexity Score</th>\n",
       "      <th>Template Matching</th>\n",
       "      <th>Text Similarity Score</th>\n",
       "    </tr>\n",
       "  </thead>\n",
       "  <tbody>\n",
       "    <tr>\n",
       "      <th>0</th>\n",
       "      <td>GiorgoArmani DunkinDonuts (fake).png</td>\n",
       "      <td>Gucci.png</td>\n",
       "      <td>0.499813</td>\n",
       "      <td>51.258226</td>\n",
       "      <td>0.000000</td>\n",
       "      <td>0.105532</td>\n",
       "      <td>0.0</td>\n",
       "    </tr>\n",
       "    <tr>\n",
       "      <th>1</th>\n",
       "      <td>GiorgoArmani DunkinDonuts (fake).png</td>\n",
       "      <td>Puma.png</td>\n",
       "      <td>0.304312</td>\n",
       "      <td>50.306802</td>\n",
       "      <td>0.842152</td>\n",
       "      <td>0.111955</td>\n",
       "      <td>0.0</td>\n",
       "    </tr>\n",
       "    <tr>\n",
       "      <th>2</th>\n",
       "      <td>GiorgoArmani DunkinDonuts (fake).png</td>\n",
       "      <td>HomeDepot.png</td>\n",
       "      <td>0.172841</td>\n",
       "      <td>36.565240</td>\n",
       "      <td>1.000000</td>\n",
       "      <td>0.107001</td>\n",
       "      <td>0.0</td>\n",
       "    </tr>\n",
       "    <tr>\n",
       "      <th>3</th>\n",
       "      <td>GiorgoArmani DunkinDonuts (fake).png</td>\n",
       "      <td>miumiu.png</td>\n",
       "      <td>0.600280</td>\n",
       "      <td>49.672382</td>\n",
       "      <td>0.647716</td>\n",
       "      <td>0.128266</td>\n",
       "      <td>0.0</td>\n",
       "    </tr>\n",
       "    <tr>\n",
       "      <th>4</th>\n",
       "      <td>GiorgoArmani DunkinDonuts (fake).png</td>\n",
       "      <td>CalvinKlein.png</td>\n",
       "      <td>0.340250</td>\n",
       "      <td>51.258226</td>\n",
       "      <td>0.032658</td>\n",
       "      <td>0.100315</td>\n",
       "      <td>0.0</td>\n",
       "    </tr>\n",
       "    <tr>\n",
       "      <th>...</th>\n",
       "      <td>...</td>\n",
       "      <td>...</td>\n",
       "      <td>...</td>\n",
       "      <td>...</td>\n",
       "      <td>...</td>\n",
       "      <td>...</td>\n",
       "      <td>...</td>\n",
       "    </tr>\n",
       "    <tr>\n",
       "      <th>777</th>\n",
       "      <td>Shell(fake).png</td>\n",
       "      <td>DunkinDonuts.png</td>\n",
       "      <td>0.447610</td>\n",
       "      <td>30.764535</td>\n",
       "      <td>0.788838</td>\n",
       "      <td>0.126931</td>\n",
       "      <td>0.0</td>\n",
       "    </tr>\n",
       "    <tr>\n",
       "      <th>778</th>\n",
       "      <td>Shell(fake).png</td>\n",
       "      <td>Youtube.png</td>\n",
       "      <td>0.287527</td>\n",
       "      <td>50.378172</td>\n",
       "      <td>0.720005</td>\n",
       "      <td>0.196470</td>\n",
       "      <td>0.0</td>\n",
       "    </tr>\n",
       "    <tr>\n",
       "      <th>779</th>\n",
       "      <td>Shell(fake).png</td>\n",
       "      <td>MarcJacobs.png</td>\n",
       "      <td>0.625598</td>\n",
       "      <td>44.600591</td>\n",
       "      <td>0.843390</td>\n",
       "      <td>0.156135</td>\n",
       "      <td>0.0</td>\n",
       "    </tr>\n",
       "    <tr>\n",
       "      <th>780</th>\n",
       "      <td>Shell(fake).png</td>\n",
       "      <td>PizzaHut.png</td>\n",
       "      <td>0.329507</td>\n",
       "      <td>53.305379</td>\n",
       "      <td>0.130755</td>\n",
       "      <td>0.057321</td>\n",
       "      <td>0.0</td>\n",
       "    </tr>\n",
       "    <tr>\n",
       "      <th>781</th>\n",
       "      <td>Shell(fake).png</td>\n",
       "      <td>McDonald's.png</td>\n",
       "      <td>0.196625</td>\n",
       "      <td>12.959238</td>\n",
       "      <td>0.570625</td>\n",
       "      <td>0.076824</td>\n",
       "      <td>0.0</td>\n",
       "    </tr>\n",
       "  </tbody>\n",
       "</table>\n",
       "<p>782 rows × 7 columns</p>\n",
       "</div>"
      ],
      "text/plain": [
       "                           Applicant Logo     Previous Logo      SSIM  \\\n",
       "0    GiorgoArmani DunkinDonuts (fake).png         Gucci.png  0.499813   \n",
       "1    GiorgoArmani DunkinDonuts (fake).png          Puma.png  0.304312   \n",
       "2    GiorgoArmani DunkinDonuts (fake).png     HomeDepot.png  0.172841   \n",
       "3    GiorgoArmani DunkinDonuts (fake).png        miumiu.png  0.600280   \n",
       "4    GiorgoArmani DunkinDonuts (fake).png   CalvinKlein.png  0.340250   \n",
       "..                                    ...               ...       ...   \n",
       "777                       Shell(fake).png  DunkinDonuts.png  0.447610   \n",
       "778                       Shell(fake).png       Youtube.png  0.287527   \n",
       "779                       Shell(fake).png    MarcJacobs.png  0.625598   \n",
       "780                       Shell(fake).png      PizzaHut.png  0.329507   \n",
       "781                       Shell(fake).png    McDonald's.png  0.196625   \n",
       "\n",
       "     Color Similarity Score  Shape Complexity Score  Template Matching  \\\n",
       "0                 51.258226                0.000000           0.105532   \n",
       "1                 50.306802                0.842152           0.111955   \n",
       "2                 36.565240                1.000000           0.107001   \n",
       "3                 49.672382                0.647716           0.128266   \n",
       "4                 51.258226                0.032658           0.100315   \n",
       "..                      ...                     ...                ...   \n",
       "777               30.764535                0.788838           0.126931   \n",
       "778               50.378172                0.720005           0.196470   \n",
       "779               44.600591                0.843390           0.156135   \n",
       "780               53.305379                0.130755           0.057321   \n",
       "781               12.959238                0.570625           0.076824   \n",
       "\n",
       "     Text Similarity Score  \n",
       "0                      0.0  \n",
       "1                      0.0  \n",
       "2                      0.0  \n",
       "3                      0.0  \n",
       "4                      0.0  \n",
       "..                     ...  \n",
       "777                    0.0  \n",
       "778                    0.0  \n",
       "779                    0.0  \n",
       "780                    0.0  \n",
       "781                    0.0  \n",
       "\n",
       "[782 rows x 7 columns]"
      ]
     },
     "execution_count": 11,
     "metadata": {},
     "output_type": "execute_result"
    }
   ],
   "source": [
    "df1"
   ]
  },
  {
   "cell_type": "code",
   "execution_count": 60,
   "id": "e9bed3b6",
   "metadata": {},
   "outputs": [
    {
     "data": {
      "text/html": [
       "<div>\n",
       "<style scoped>\n",
       "    .dataframe tbody tr th:only-of-type {\n",
       "        vertical-align: middle;\n",
       "    }\n",
       "\n",
       "    .dataframe tbody tr th {\n",
       "        vertical-align: top;\n",
       "    }\n",
       "\n",
       "    .dataframe thead th {\n",
       "        text-align: right;\n",
       "    }\n",
       "</style>\n",
       "<table border=\"1\" class=\"dataframe\">\n",
       "  <thead>\n",
       "    <tr style=\"text-align: right;\">\n",
       "      <th></th>\n",
       "      <th>Applicant Logo</th>\n",
       "      <th>Color Similarity Score</th>\n",
       "      <th>Previous Logo</th>\n",
       "    </tr>\n",
       "  </thead>\n",
       "  <tbody>\n",
       "    <tr>\n",
       "      <th>18</th>\n",
       "      <td>Nike(woman).png</td>\n",
       "      <td>80.233323</td>\n",
       "      <td>Visa.png</td>\n",
       "    </tr>\n",
       "    <tr>\n",
       "      <th>3</th>\n",
       "      <td>DHL YSL (fake).png</td>\n",
       "      <td>79.495635</td>\n",
       "      <td>Gucci.png</td>\n",
       "    </tr>\n",
       "    <tr>\n",
       "      <th>4</th>\n",
       "      <td>DHL YSL (fake).png</td>\n",
       "      <td>79.495635</td>\n",
       "      <td>CalvinKlein.png</td>\n",
       "    </tr>\n",
       "    <tr>\n",
       "      <th>5</th>\n",
       "      <td>DHL YSL (fake).png</td>\n",
       "      <td>79.495635</td>\n",
       "      <td>Versace.png</td>\n",
       "    </tr>\n",
       "    <tr>\n",
       "      <th>25</th>\n",
       "      <td>ebay chloe (fake).png</td>\n",
       "      <td>70.825932</td>\n",
       "      <td>PizzaHut.png</td>\n",
       "    </tr>\n",
       "    <tr>\n",
       "      <th>20</th>\n",
       "      <td>PizzaHut MarcJacobs (fake).png</td>\n",
       "      <td>65.643813</td>\n",
       "      <td>shell.png</td>\n",
       "    </tr>\n",
       "    <tr>\n",
       "      <th>1</th>\n",
       "      <td>BurgerKing CalvinKlein (fake).png</td>\n",
       "      <td>65.529231</td>\n",
       "      <td>shell.png</td>\n",
       "    </tr>\n",
       "    <tr>\n",
       "      <th>19</th>\n",
       "      <td>Pepsi Palace (fake).png</td>\n",
       "      <td>65.068888</td>\n",
       "      <td>shell.png</td>\n",
       "    </tr>\n",
       "    <tr>\n",
       "      <th>9</th>\n",
       "      <td>HomeDepot (fake).png</td>\n",
       "      <td>64.854484</td>\n",
       "      <td>Visa.png</td>\n",
       "    </tr>\n",
       "    <tr>\n",
       "      <th>10</th>\n",
       "      <td>Ikea Miumiu (fake).png</td>\n",
       "      <td>58.545819</td>\n",
       "      <td>Pepsi.png</td>\n",
       "    </tr>\n",
       "    <tr>\n",
       "      <th>12</th>\n",
       "      <td>Lego(fake).png</td>\n",
       "      <td>57.050380</td>\n",
       "      <td>shell.png</td>\n",
       "    </tr>\n",
       "    <tr>\n",
       "      <th>2</th>\n",
       "      <td>Chanel Champion (fake).png</td>\n",
       "      <td>56.724016</td>\n",
       "      <td>HomeDepot.png</td>\n",
       "    </tr>\n",
       "    <tr>\n",
       "      <th>15</th>\n",
       "      <td>Nike Dior (fake).png</td>\n",
       "      <td>54.452832</td>\n",
       "      <td>HomeDepot.png</td>\n",
       "    </tr>\n",
       "    <tr>\n",
       "      <th>16</th>\n",
       "      <td>Nike(fried).png</td>\n",
       "      <td>53.861831</td>\n",
       "      <td>HomeDepot.png</td>\n",
       "    </tr>\n",
       "    <tr>\n",
       "      <th>21</th>\n",
       "      <td>Puma Gucci (fake).png</td>\n",
       "      <td>53.140777</td>\n",
       "      <td>HomeDepot.png</td>\n",
       "    </tr>\n",
       "    <tr>\n",
       "      <th>8</th>\n",
       "      <td>GiorgoArmani DunkinDonuts (fake).png</td>\n",
       "      <td>51.343171</td>\n",
       "      <td>Versace.png</td>\n",
       "    </tr>\n",
       "    <tr>\n",
       "      <th>7</th>\n",
       "      <td>GiorgoArmani DunkinDonuts (fake).png</td>\n",
       "      <td>51.343171</td>\n",
       "      <td>CalvinKlein.png</td>\n",
       "    </tr>\n",
       "    <tr>\n",
       "      <th>6</th>\n",
       "      <td>GiorgoArmani DunkinDonuts (fake).png</td>\n",
       "      <td>51.343171</td>\n",
       "      <td>Gucci.png</td>\n",
       "    </tr>\n",
       "    <tr>\n",
       "      <th>22</th>\n",
       "      <td>Shell(fake).png</td>\n",
       "      <td>50.816578</td>\n",
       "      <td>Visa.png</td>\n",
       "    </tr>\n",
       "    <tr>\n",
       "      <th>24</th>\n",
       "      <td>Visa Versace (fake).png</td>\n",
       "      <td>50.553136</td>\n",
       "      <td>HomeDepot.png</td>\n",
       "    </tr>\n",
       "    <tr>\n",
       "      <th>17</th>\n",
       "      <td>Nike(jedi).png</td>\n",
       "      <td>49.013155</td>\n",
       "      <td>Pepsi.png</td>\n",
       "    </tr>\n",
       "    <tr>\n",
       "      <th>0</th>\n",
       "      <td>BaskinRobins DonnaKaran (fake).png</td>\n",
       "      <td>46.073335</td>\n",
       "      <td>lego.png</td>\n",
       "    </tr>\n",
       "    <tr>\n",
       "      <th>11</th>\n",
       "      <td>LG (fake).png</td>\n",
       "      <td>45.795930</td>\n",
       "      <td>lego.png</td>\n",
       "    </tr>\n",
       "    <tr>\n",
       "      <th>26</th>\n",
       "      <td>tokyo2020 (fake).png</td>\n",
       "      <td>45.742608</td>\n",
       "      <td>lego.png</td>\n",
       "    </tr>\n",
       "    <tr>\n",
       "      <th>23</th>\n",
       "      <td>TomFord Youtube (fake).png</td>\n",
       "      <td>44.863627</td>\n",
       "      <td>lego.png</td>\n",
       "    </tr>\n",
       "    <tr>\n",
       "      <th>13</th>\n",
       "      <td>McDonalds (fake).png</td>\n",
       "      <td>44.484704</td>\n",
       "      <td>Lowe's.png</td>\n",
       "    </tr>\n",
       "    <tr>\n",
       "      <th>14</th>\n",
       "      <td>McDonalds Stussy (fake).png</td>\n",
       "      <td>43.230618</td>\n",
       "      <td>Lowe's.png</td>\n",
       "    </tr>\n",
       "  </tbody>\n",
       "</table>\n",
       "</div>"
      ],
      "text/plain": [
       "                          Applicant Logo  Color Similarity Score  \\\n",
       "18                       Nike(woman).png               80.233323   \n",
       "3                     DHL YSL (fake).png               79.495635   \n",
       "4                     DHL YSL (fake).png               79.495635   \n",
       "5                     DHL YSL (fake).png               79.495635   \n",
       "25                 ebay chloe (fake).png               70.825932   \n",
       "20        PizzaHut MarcJacobs (fake).png               65.643813   \n",
       "1      BurgerKing CalvinKlein (fake).png               65.529231   \n",
       "19               Pepsi Palace (fake).png               65.068888   \n",
       "9                   HomeDepot (fake).png               64.854484   \n",
       "10                Ikea Miumiu (fake).png               58.545819   \n",
       "12                        Lego(fake).png               57.050380   \n",
       "2             Chanel Champion (fake).png               56.724016   \n",
       "15                  Nike Dior (fake).png               54.452832   \n",
       "16                       Nike(fried).png               53.861831   \n",
       "21                 Puma Gucci (fake).png               53.140777   \n",
       "8   GiorgoArmani DunkinDonuts (fake).png               51.343171   \n",
       "7   GiorgoArmani DunkinDonuts (fake).png               51.343171   \n",
       "6   GiorgoArmani DunkinDonuts (fake).png               51.343171   \n",
       "22                       Shell(fake).png               50.816578   \n",
       "24               Visa Versace (fake).png               50.553136   \n",
       "17                        Nike(jedi).png               49.013155   \n",
       "0     BaskinRobins DonnaKaran (fake).png               46.073335   \n",
       "11                         LG (fake).png               45.795930   \n",
       "26                  tokyo2020 (fake).png               45.742608   \n",
       "23            TomFord Youtube (fake).png               44.863627   \n",
       "13                  McDonalds (fake).png               44.484704   \n",
       "14           McDonalds Stussy (fake).png               43.230618   \n",
       "\n",
       "      Previous Logo  \n",
       "18         Visa.png  \n",
       "3         Gucci.png  \n",
       "4   CalvinKlein.png  \n",
       "5       Versace.png  \n",
       "25     PizzaHut.png  \n",
       "20        shell.png  \n",
       "1         shell.png  \n",
       "19        shell.png  \n",
       "9          Visa.png  \n",
       "10        Pepsi.png  \n",
       "12        shell.png  \n",
       "2     HomeDepot.png  \n",
       "15    HomeDepot.png  \n",
       "16    HomeDepot.png  \n",
       "21    HomeDepot.png  \n",
       "8       Versace.png  \n",
       "7   CalvinKlein.png  \n",
       "6         Gucci.png  \n",
       "22         Visa.png  \n",
       "24    HomeDepot.png  \n",
       "17        Pepsi.png  \n",
       "0          lego.png  \n",
       "11         lego.png  \n",
       "26         lego.png  \n",
       "23         lego.png  \n",
       "13       Lowe's.png  \n",
       "14       Lowe's.png  "
      ]
     },
     "execution_count": 60,
     "metadata": {},
     "output_type": "execute_result"
    }
   ],
   "source": [
    "df1 = list(data_dfs.values())[1]\n",
    "\n",
    "prev_color = df1[['Previous Logo', 'Color Similarity Score']]\n",
    "appl_color = df1[['Applicant Logo', 'Color Similarity Score']]\n",
    "thing = (appl_color.groupby('Applicant Logo')\n",
    "         .max()\n",
    "         .reset_index()\n",
    "         .merge(prev_color)\n",
    "         .drop_duplicates()\n",
    "         .iloc[:50])\n",
    "\n",
    "thing.sort_values('Color Similarity Score', ascending=False)\n"
   ]
  },
  {
   "cell_type": "code",
   "execution_count": 238,
   "id": "4c3b654e",
   "metadata": {},
   "outputs": [],
   "source": [
    "dd_colors = applicant_logos[29].color_detect()"
   ]
  },
  {
   "cell_type": "code",
   "execution_count": 239,
   "id": "8a14895c",
   "metadata": {},
   "outputs": [
    {
     "data": {
      "text/plain": [
       "{(164, 116, 113): 0.1734857497543061,\n",
       " (214, 3, 111): 0.40454145761133814,\n",
       " (240, 110, 27): 0.4219727926343558}"
      ]
     },
     "execution_count": 239,
     "metadata": {},
     "output_type": "execute_result"
    }
   ],
   "source": [
    "dd_colors"
   ]
  },
  {
   "cell_type": "code",
   "execution_count": 240,
   "id": "a74286d8",
   "metadata": {},
   "outputs": [
    {
     "data": {
      "image/png": "[encoded data removed]",
      "text/plain": [
       "<Figure size 640x480 with 1 Axes>"
      ]
     },
     "metadata": {},
     "output_type": "display_data"
    }
   ],
   "source": [
    "plt.imshow([list(dd_colors.keys())])\n",
    "plt.xticks([]), plt.yticks([])\n",
    "plt.show()"
   ]
  },
  {
   "cell_type": "code",
   "execution_count": 39,
   "id": "fac318a6",
   "metadata": {},
   "outputs": [
    {
     "data": {
      "image/png": "[encoded data removed]",
      "text/plain": [
       "<Figure size 640x480 with 1 Axes>"
      ]
     },
     "metadata": {},
     "output_type": "display_data"
    }
   ],
   "source": [
    "bridgestone = applicant_logos[0]\n",
    "bridgestone.color_detect(include_white=True)\n",
    "bridgestone.show_colors()"
   ]
  },
  {
   "cell_type": "code",
   "execution_count": 45,
   "id": "16099e3c",
   "metadata": {},
   "outputs": [
    {
     "data": {
      "image/png": "[encoded data removed]",
      "text/plain": [
       "<Figure size 640x480 with 1 Axes>"
      ]
     },
     "metadata": {},
     "output_type": "display_data"
    }
   ],
   "source": [
    "previous_logos[4].colors = previous_logos[4].color_detect(include_white=True)\n",
    "# previous_logos[4].show_colors()\n"
   ]
  },
  {
   "cell_type": "code",
   "execution_count": null,
   "id": "c6aaca8a",
   "metadata": {},
   "outputs": [],
   "source": []
  },
  {
   "cell_type": "code",
   "execution_count": 31,
   "id": "668c4acc",
   "metadata": {},
   "outputs": [
    {
     "name": "stdout",
     "output_type": "stream",
     "text": [
      "GiorgoArmani DunkinDonuts (fake).png {(229, 143, 81): 0.16572077185017026, (237, 74, 151): 0.27063401978271445, (221, 95, 155): 0.13507377979568672, (245, 130, 57): 0.2677152586346684, (244, 188, 180): 0.16085616993676016}\n"
     ]
    },
    {
     "data": {
      "image/png": "[encoded data removed]",
      "text/plain": [
       "<Figure size 640x480 with 1 Axes>"
      ]
     },
     "metadata": {},
     "output_type": "display_data"
    },
    {
     "name": "stdout",
     "output_type": "stream",
     "text": [
      "Visa Versace (fake).png {(154, 186, 208): 0.21925566343042072, (19, 91, 148): 0.7807443365695793}\n"
     ]
    },
    {
     "data": {
      "image/png": "[encoded data removed]",
      "text/plain": [
       "<Figure size 640x480 with 1 Axes>"
      ]
     },
     "metadata": {},
     "output_type": "display_data"
    },
    {
     "name": "stdout",
     "output_type": "stream",
     "text": [
      "McDonalds (fake).png {(203, 35, 42): 0.798810548556225, (243, 186, 98): 0.20118945144377495}\n"
     ]
    },
    {
     "data": {
      "image/png": "[encoded data removed]",
      "text/plain": [
       "<Figure size 640x480 with 1 Axes>"
      ]
     },
     "metadata": {},
     "output_type": "display_data"
    },
    {
     "name": "stdout",
     "output_type": "stream",
     "text": [
      "ebay chloe (fake).png {(210, 69, 67): 0.25145317545748114, (189, 193, 88): 0.5784714747039827, (37, 106, 164): 0.17007534983853606}\n"
     ]
    },
    {
     "data": {
      "image/png": "[encoded data removed]",
      "text/plain": [
       "<Figure size 640x480 with 1 Axes>"
      ]
     },
     "metadata": {},
     "output_type": "display_data"
    },
    {
     "name": "stdout",
     "output_type": "stream",
     "text": [
      "Nike Dior (fake).png {(6, 6, 6): 0.8262992125984252, (160, 160, 160): 0.1737007874015748}\n"
     ]
    },
    {
     "data": {
      "image/png": "[encoded data removed]",
      "text/plain": [
       "<Figure size 640x480 with 1 Axes>"
      ]
     },
     "metadata": {},
     "output_type": "display_data"
    },
    {
     "name": "stdout",
     "output_type": "stream",
     "text": [
      "McDonalds Stussy (fake).png {(192, 51, 48): 0.6540499281609196, (252, 246, 245): 0.18498563218390804, (241, 164, 76): 0.1609644396551724}\n"
     ]
    },
    {
     "data": {
      "image/png": "[encoded data removed]",
      "text/plain": [
       "<Figure size 640x480 with 1 Axes>"
      ]
     },
     "metadata": {},
     "output_type": "display_data"
    },
    {
     "name": "stdout",
     "output_type": "stream",
     "text": [
      "Nike(jedi).png {(52, 43, 41): 0.833568177291204, (181, 182, 113): 0.16643182270879595}\n"
     ]
    },
    {
     "data": {
      "image/png": "[encoded data removed]",
      "text/plain": [
       "<Figure size 640x480 with 1 Axes>"
      ]
     },
     "metadata": {},
     "output_type": "display_data"
    },
    {
     "name": "stdout",
     "output_type": "stream",
     "text": [
      "BaskinRobins DonnaKaran (fake).png {(179, 205, 231): 0.2193211488250653, (32, 110, 171): 0.204177545691906, (209, 112, 159): 0.15195822454308094, (113, 157, 193): 0.15221932114882505, (27, 96, 149): 0.2723237597911227}\n"
     ]
    },
    {
     "data": {
      "image/png": "[encoded data removed]",
      "text/plain": [
       "<Figure size 640x480 with 1 Axes>"
      ]
     },
     "metadata": {},
     "output_type": "display_data"
    },
    {
     "name": "stdout",
     "output_type": "stream",
     "text": [
      "Lego(fake).png {(211, 77, 43): 0.8574582150741091, (30, 26, 24): 0.1425417849258909}\n"
     ]
    },
    {
     "data": {
      "image/png": "[encoded data removed]",
      "text/plain": [
       "<Figure size 640x480 with 1 Axes>"
      ]
     },
     "metadata": {},
     "output_type": "display_data"
    },
    {
     "name": "stdout",
     "output_type": "stream",
     "text": [
      "Nike(fried).png {(8, 8, 8): 0.7873895080118185, (158, 157, 157): 0.2126104919881815}\n"
     ]
    },
    {
     "data": {
      "image/png": "[encoded data removed]",
      "text/plain": [
       "<Figure size 640x480 with 1 Axes>"
      ]
     },
     "metadata": {},
     "output_type": "display_data"
    },
    {
     "name": "stdout",
     "output_type": "stream",
     "text": [
      "PizzaHut MarcJacobs (fake).png {(12, 9, 9): 0.5836143374547271, (177, 174, 152): 0.19183214687148745, (209, 47, 51): 0.22455351567378543}\n"
     ]
    },
    {
     "data": {
      "image/png": "[encoded data removed]",
      "text/plain": [
       "<Figure size 640x480 with 1 Axes>"
      ]
     },
     "metadata": {},
     "output_type": "display_data"
    },
    {
     "name": "stdout",
     "output_type": "stream",
     "text": [
      "TomFord Youtube (fake).png {(214, 52, 50): 0.6509819171689676, (216, 168, 167): 0.1677036748979195, (10, 10, 10): 0.18131440793311296}\n"
     ]
    },
    {
     "data": {
      "image/png": "[encoded data removed]",
      "text/plain": [
       "<Figure size 640x480 with 1 Axes>"
      ]
     },
     "metadata": {},
     "output_type": "display_data"
    },
    {
     "name": "stdout",
     "output_type": "stream",
     "text": [
      "Nike(woman).png {(241, 217, 155): 0.4393239153086612, (21, 17, 12): 0.18927606909701794, (229, 196, 110): 0.37140001559432084}\n"
     ]
    },
    {
     "data": {
      "image/png": "[encoded data removed]",
      "text/plain": [
       "<Figure size 640x480 with 1 Axes>"
      ]
     },
     "metadata": {},
     "output_type": "display_data"
    },
    {
     "name": "stdout",
     "output_type": "stream",
     "text": [
      "DHL YSL (fake).png {(253, 199, 54): 0.881429045459573, (210, 39, 42): 0.11857095454042695}\n"
     ]
    },
    {
     "data": {
      "image/png": "[encoded data removed]",
      "text/plain": [
       "<Figure size 640x480 with 1 Axes>"
      ]
     },
     "metadata": {},
     "output_type": "display_data"
    },
    {
     "name": "stdout",
     "output_type": "stream",
     "text": [
      "Ikea Miumiu (fake).png {(35, 102, 137): 0.35795454545454547, (240, 230, 74): 0.4359549441786284, (239, 247, 249): 0.20609051036682616}\n"
     ]
    },
    {
     "data": {
      "image/png": "[encoded data removed]",
      "text/plain": [
       "<Figure size 640x480 with 1 Axes>"
      ]
     },
     "metadata": {},
     "output_type": "display_data"
    },
    {
     "name": "stdout",
     "output_type": "stream",
     "text": [
      "BurgerKing CalvinKlein (fake).png {(33, 84, 157): 0.2433852140077821, (226, 39, 48): 0.3916731517509728, (244, 194, 100): 0.36494163424124515}\n"
     ]
    },
    {
     "data": {
      "image/png": "[encoded data removed]",
      "text/plain": [
       "<Figure size 640x480 with 1 Axes>"
      ]
     },
     "metadata": {},
     "output_type": "display_data"
    },
    {
     "name": "stdout",
     "output_type": "stream",
     "text": [
      "Pepsi Palace (fake).png {(234, 33, 44): 0.5801651470841218, (65, 114, 164): 0.4198348529158782}\n"
     ]
    },
    {
     "data": {
      "image/png": "[encoded data removed]",
      "text/plain": [
       "<Figure size 640x480 with 1 Axes>"
      ]
     },
     "metadata": {},
     "output_type": "display_data"
    },
    {
     "name": "stdout",
     "output_type": "stream",
     "text": [
      "LG (fake).png {(148, 134, 147): 0.395440414507772, (198, 38, 87): 0.604559585492228}\n"
     ]
    },
    {
     "data": {
      "image/png": "[encoded data removed]",
      "text/plain": [
       "<Figure size 640x480 with 1 Axes>"
      ]
     },
     "metadata": {},
     "output_type": "display_data"
    },
    {
     "name": "stdout",
     "output_type": "stream",
     "text": [
      "HomeDepot (fake).png {(243, 134, 40): 0.8739602191378841, (245, 202, 149): 0.1260397808621159}\n"
     ]
    },
    {
     "data": {
      "image/png": "[encoded data removed]",
      "text/plain": [
       "<Figure size 640x480 with 1 Axes>"
      ]
     },
     "metadata": {},
     "output_type": "display_data"
    },
    {
     "name": "stdout",
     "output_type": "stream",
     "text": [
      "tokyo2020 (fake).png {(180, 171, 152): 0.37394685677252104, (81, 43, 45): 0.626053143227479}\n"
     ]
    },
    {
     "data": {
      "image/png": "[encoded data removed]",
      "text/plain": [
       "<Figure size 640x480 with 1 Axes>"
      ]
     },
     "metadata": {},
     "output_type": "display_data"
    },
    {
     "name": "stdout",
     "output_type": "stream",
     "text": [
      "Chanel Champion (fake).png {(57, 27, 99): 0.7676169983862292, (164, 166, 198): 0.23238300161377085}\n"
     ]
    },
    {
     "data": {
      "image/png": "[encoded data removed]",
      "text/plain": [
       "<Figure size 640x480 with 1 Axes>"
      ]
     },
     "metadata": {},
     "output_type": "display_data"
    },
    {
     "name": "stdout",
     "output_type": "stream",
     "text": [
      "Puma Gucci (fake).png {(12, 12, 12): 0.7692, (168, 168, 168): 0.2308}\n"
     ]
    },
    {
     "data": {
      "image/png": "[encoded data removed]",
      "text/plain": [
       "<Figure size 640x480 with 1 Axes>"
      ]
     },
     "metadata": {},
     "output_type": "display_data"
    },
    {
     "name": "stdout",
     "output_type": "stream",
     "text": [
      "Shell(fake).png {(244, 11, 5): 0.5221535029909764, (246, 205, 42): 0.4778464970090236}\n"
     ]
    },
    {
     "data": {
      "image/png": "[encoded data removed]",
      "text/plain": [
       "<Figure size 640x480 with 1 Axes>"
      ]
     },
     "metadata": {},
     "output_type": "display_data"
    }
   ],
   "source": [
    "for logo in applicant_logos:\n",
    "    print(logo.name, logo.colors)\n",
    "    logo.show_colors()"
   ]
  },
  {
   "cell_type": "code",
   "execution_count": 32,
   "id": "1dd52ebc",
   "metadata": {},
   "outputs": [
    {
     "name": "stdout",
     "output_type": "stream",
     "text": [
      "Gucci.png {(0, 0, 0): 0.0, (255, 255, 255): 0.79364013671875}\n"
     ]
    },
    {
     "data": {
      "image/png": "[encoded data removed]",
      "text/plain": [
       "<Figure size 640x480 with 1 Axes>"
      ]
     },
     "metadata": {},
     "output_type": "display_data"
    },
    {
     "name": "stdout",
     "output_type": "stream",
     "text": [
      "Puma.png {(2, 2, 2): 0.8970552046591748, (73, 73, 73): 0.1029447953408252}\n"
     ]
    },
    {
     "data": {
      "image/png": "[encoded data removed]",
      "text/plain": [
       "<Figure size 640x480 with 1 Axes>"
      ]
     },
     "metadata": {},
     "output_type": "display_data"
    },
    {
     "name": "stdout",
     "output_type": "stream",
     "text": [
      "HomeDepot.png {(249, 98, 4): 0.9289129969309828, (242, 163, 111): 0.0710870030690172}\n"
     ]
    },
    {
     "data": {
      "image/png": "[encoded data removed]",
      "text/plain": [
       "<Figure size 640x480 with 1 Axes>"
      ]
     },
     "metadata": {},
     "output_type": "display_data"
    },
    {
     "name": "stdout",
     "output_type": "stream",
     "text": [
      "miumiu.png {(171, 169, 168): 0.18202374222724704, (8, 8, 8): 0.817976257772753}\n"
     ]
    },
    {
     "data": {
      "image/png": "[encoded data removed]",
      "text/plain": [
       "<Figure size 640x480 with 1 Axes>"
      ]
     },
     "metadata": {},
     "output_type": "display_data"
    },
    {
     "name": "stdout",
     "output_type": "stream",
     "text": [
      "CalvinKlein.png {(255, 255, 255): 0.0, (0, 0, 0): 0.24638671875}\n"
     ]
    },
    {
     "data": {
      "image/png": "[encoded data removed]",
      "text/plain": [
       "<Figure size 640x480 with 1 Axes>"
      ]
     },
     "metadata": {},
     "output_type": "display_data"
    },
    {
     "name": "stdout",
     "output_type": "stream",
     "text": [
      "BaskinRobbins.png {(218, 99, 161): 0.47505841714924313, (12, 96, 165): 0.3547698872295032, (185, 187, 210): 0.17017169562125367}\n"
     ]
    },
    {
     "data": {
      "image/png": "[encoded data removed]",
      "text/plain": [
       "<Figure size 640x480 with 1 Axes>"
      ]
     },
     "metadata": {},
     "output_type": "display_data"
    },
    {
     "name": "stdout",
     "output_type": "stream",
     "text": [
      "BurgerKing.png {(246, 182, 104): 0.35785829108445655, (235, 29, 34): 0.40459997526895014, (18, 102, 173): 0.2375417336465933}\n"
     ]
    },
    {
     "data": {
      "image/png": "[encoded data removed]",
      "text/plain": [
       "<Figure size 640x480 with 1 Axes>"
      ]
     },
     "metadata": {},
     "output_type": "display_data"
    },
    {
     "name": "stdout",
     "output_type": "stream",
     "text": [
      "LG.png {(135, 124, 128): 0.257396449704142, (165, 23, 81): 0.5187376725838264, (230, 171, 198): 0.22386587771203156}\n"
     ]
    },
    {
     "data": {
      "image/png": "[encoded data removed]",
      "text/plain": [
       "<Figure size 640x480 with 1 Axes>"
      ]
     },
     "metadata": {},
     "output_type": "display_data"
    },
    {
     "name": "stdout",
     "output_type": "stream",
     "text": [
      "theatre.png {(27, 24, 28): 0.8041431261770244, (175, 175, 175): 0.1958568738229755}\n"
     ]
    },
    {
     "data": {
      "image/png": "[encoded data removed]",
      "text/plain": [
       "<Figure size 640x480 with 1 Axes>"
      ]
     },
     "metadata": {},
     "output_type": "display_data"
    },
    {
     "name": "stdout",
     "output_type": "stream",
     "text": [
      "shell.png {(253, 251, 250): 0.2736922554347826, (250, 150, 14): 0.6422809103260869, (216, 47, 14): 0.08402683423913043}\n"
     ]
    },
    {
     "data": {
      "image/png": "[encoded data removed]",
      "text/plain": [
       "<Figure size 640x480 with 1 Axes>"
      ]
     },
     "metadata": {},
     "output_type": "display_data"
    },
    {
     "name": "stdout",
     "output_type": "stream",
     "text": [
      "Chanel.png {(21, 21, 20): 0.775709219858156, (170, 169, 169): 0.22429078014184398}\n"
     ]
    },
    {
     "data": {
      "image/png": "[encoded data removed]",
      "text/plain": [
       "<Figure size 640x480 with 1 Axes>"
      ]
     },
     "metadata": {},
     "output_type": "display_data"
    },
    {
     "name": "stdout",
     "output_type": "stream",
     "text": [
      "lego.png {(250, 2, 0): 0.7738885440045843, (101, 86, 27): 0.22611145599541568}\n"
     ]
    },
    {
     "data": {
      "image/png": "[encoded data removed]",
      "text/plain": [
       "<Figure size 640x480 with 1 Axes>"
      ]
     },
     "metadata": {},
     "output_type": "display_data"
    },
    {
     "name": "stdout",
     "output_type": "stream",
     "text": [
      "Nike.png {(26, 26, 26): 0.05604440232841478, (0, 0, 0): 0.9439555976715852}\n"
     ]
    },
    {
     "data": {
      "image/png": "[encoded data removed]",
      "text/plain": [
       "<Figure size 640x480 with 1 Axes>"
      ]
     },
     "metadata": {},
     "output_type": "display_data"
    },
    {
     "name": "stdout",
     "output_type": "stream",
     "text": [
      "GiorgioArmani.jpeg {(99, 99, 99): 0.23342541436464087, (16, 16, 16): 0.4233425414364641, (195, 195, 195): 0.343232044198895}\n"
     ]
    },
    {
     "data": {
      "image/png": "[encoded data removed]",
      "text/plain": [
       "<Figure size 640x480 with 1 Axes>"
      ]
     },
     "metadata": {},
     "output_type": "display_data"
    },
    {
     "name": "stdout",
     "output_type": "stream",
     "text": [
      "Visa.png {(26, 42, 116): 0.8491204330175913, (177, 181, 198): 0.15087956698240865}\n"
     ]
    },
    {
     "data": {
      "image/png": "[encoded data removed]",
      "text/plain": [
       "<Figure size 640x480 with 1 Axes>"
      ]
     },
     "metadata": {},
     "output_type": "display_data"
    },
    {
     "name": "stdout",
     "output_type": "stream",
     "text": [
      "Stussy.png {(30, 29, 30): 0.7666483214089158, (109, 109, 109): 0.23335167859108422}\n"
     ]
    },
    {
     "data": {
      "image/png": "[encoded data removed]",
      "text/plain": [
       "<Figure size 640x480 with 1 Axes>"
      ]
     },
     "metadata": {},
     "output_type": "display_data"
    },
    {
     "name": "stdout",
     "output_type": "stream",
     "text": [
      "TomFord.jpeg {(7, 7, 7): 0.7869362363919129, (142, 142, 142): 0.2130637636080871}\n"
     ]
    },
    {
     "data": {
      "image/png": "[encoded data removed]",
      "text/plain": [
       "<Figure size 640x480 with 1 Axes>"
      ]
     },
     "metadata": {},
     "output_type": "display_data"
    },
    {
     "name": "stdout",
     "output_type": "stream",
     "text": [
      "Pepsi.png {(14, 84, 162): 0.28991913377192985, (255, 23, 33): 0.3901452850877193, (253, 253, 254): 0.31993558114035087}\n"
     ]
    },
    {
     "data": {
      "image/png": "[encoded data removed]",
      "text/plain": [
       "<Figure size 640x480 with 1 Axes>"
      ]
     },
     "metadata": {},
     "output_type": "display_data"
    },
    {
     "name": "stdout",
     "output_type": "stream",
     "text": [
      "HarleyDavidson.png {(250, 250, 250): 0.45186237373737376, (20, 11, 5): 0.3379892676767677, (213, 98, 22): 0.2101483585858586}\n"
     ]
    },
    {
     "data": {
      "image/png": "[encoded data removed]",
      "text/plain": [
       "<Figure size 640x480 with 1 Axes>"
      ]
     },
     "metadata": {},
     "output_type": "display_data"
    },
    {
     "name": "stdout",
     "output_type": "stream",
     "text": [
      "Ikea.png {(2, 62, 149): 0.0433349609375, (234, 234, 235): 0.3359375, (239, 201, 49): 0.17291259765625, (252, 252, 252): 0.3310546875, (43, 83, 148): 0.11676025390625}\n"
     ]
    },
    {
     "data": {
      "image/png": "[encoded data removed]",
      "text/plain": [
       "<Figure size 640x480 with 1 Axes>"
      ]
     },
     "metadata": {},
     "output_type": "display_data"
    },
    {
     "name": "stdout",
     "output_type": "stream",
     "text": [
      "Lowe's.png {(2, 73, 143): 0.939203354297694, (148, 178, 208): 0.06079664570230608}\n"
     ]
    },
    {
     "data": {
      "image/png": "[encoded data removed]",
      "text/plain": [
       "<Figure size 640x480 with 1 Axes>"
      ]
     },
     "metadata": {},
     "output_type": "display_data"
    },
    {
     "name": "stdout",
     "output_type": "stream",
     "text": [
      "Dior.png {(10, 10, 10): 0.7732092061029222, (164, 164, 164): 0.22679079389707785}\n"
     ]
    },
    {
     "data": {
      "image/png": "[encoded data removed]",
      "text/plain": [
       "<Figure size 640x480 with 1 Axes>"
      ]
     },
     "metadata": {},
     "output_type": "display_data"
    },
    {
     "name": "stdout",
     "output_type": "stream",
     "text": [
      "Versace.png {(0, 0, 0): 0.0, (255, 255, 255): 0.7590361445783133}\n"
     ]
    },
    {
     "data": {
      "image/png": "[encoded data removed]",
      "text/plain": [
       "<Figure size 640x480 with 1 Axes>"
      ]
     },
     "metadata": {},
     "output_type": "display_data"
    },
    {
     "name": "stdout",
     "output_type": "stream",
     "text": [
      "ebay.png {(133, 184, 21): 0.20535041446872646, (1, 99, 210): 0.28183873398643555, (232, 47, 52): 0.24642049736247174, (247, 179, 2): 0.2513187641296157, (30, 0, 0): 0.015071590052750565}\n"
     ]
    },
    {
     "data": {
      "image/png": "[encoded data removed]",
      "text/plain": [
       "<Figure size 640x480 with 1 Axes>"
      ]
     },
     "metadata": {},
     "output_type": "display_data"
    },
    {
     "name": "stdout",
     "output_type": "stream",
     "text": [
      "Palace.png {(164, 164, 164): 0.1019542298791463, (8, 8, 8): 0.8980457701208537}\n"
     ]
    },
    {
     "data": {
      "image/png": "[encoded data removed]",
      "text/plain": [
       "<Figure size 640x480 with 1 Axes>"
      ]
     },
     "metadata": {},
     "output_type": "display_data"
    },
    {
     "name": "stdout",
     "output_type": "stream",
     "text": [
      "DHL.png {(254, 202, 0): 0.8893173758865248, (216, 14, 18): 0.11068262411347518}\n"
     ]
    },
    {
     "data": {
      "image/png": "[encoded data removed]",
      "text/plain": [
       "<Figure size 640x480 with 1 Axes>"
      ]
     },
     "metadata": {},
     "output_type": "display_data"
    },
    {
     "name": "stdout",
     "output_type": "stream",
     "text": [
      "Champion.png {(45, 42, 98): 0.9701057236602261, (0, 0, 2): 0.02989427633977397}\n"
     ]
    },
    {
     "data": {
      "image/png": "[encoded data removed]",
      "text/plain": [
       "<Figure size 640x480 with 1 Axes>"
      ]
     },
     "metadata": {},
     "output_type": "display_data"
    },
    {
     "name": "stdout",
     "output_type": "stream",
     "text": [
      "DonnaKaran.png {(32, 32, 32): 0.28789279112754157, (3, 3, 3): 0.7121072088724584}\n"
     ]
    },
    {
     "data": {
      "image/png": "[encoded data removed]",
      "text/plain": [
       "<Figure size 640x480 with 1 Axes>"
      ]
     },
     "metadata": {},
     "output_type": "display_data"
    },
    {
     "name": "stdout",
     "output_type": "stream",
     "text": [
      "DunkinDonuts.png {(253, 250, 250): 0.5914107921511628, (226, 60, 71): 0.3748410247093023, (85, 39, 26): 0.033748183139534885}\n"
     ]
    },
    {
     "data": {
      "image/png": "[encoded data removed]",
      "text/plain": [
       "<Figure size 640x480 with 1 Axes>"
      ]
     },
     "metadata": {},
     "output_type": "display_data"
    },
    {
     "name": "stdout",
     "output_type": "stream",
     "text": [
      "Youtube.png {(230, 230, 230): 0.3010373073642873, (254, 0, 0): 0.19238779031714234, (36, 36, 36): 0.18407743112715444, (253, 253, 253): 0.30956583827525336, (169, 144, 144): 0.012931632916162557}\n"
     ]
    },
    {
     "data": {
      "image/png": "[encoded data removed]",
      "text/plain": [
       "<Figure size 640x480 with 1 Axes>"
      ]
     },
     "metadata": {},
     "output_type": "display_data"
    },
    {
     "name": "stdout",
     "output_type": "stream",
     "text": [
      "MarcJacobs.png {(0, 0, 0): 0.2507836990595611, (39, 32, 34): 0.7492163009404389}\n"
     ]
    },
    {
     "data": {
      "image/png": "[encoded data removed]",
      "text/plain": [
       "<Figure size 640x480 with 1 Axes>"
      ]
     },
     "metadata": {},
     "output_type": "display_data"
    },
    {
     "name": "stdout",
     "output_type": "stream",
     "text": [
      "PizzaHut.png {(58, 5, 6): 0.8906473351031243, (176, 173, 120): 0.10935266489687563}\n"
     ]
    },
    {
     "data": {
      "image/png": "[encoded data removed]",
      "text/plain": [
       "<Figure size 640x480 with 1 Axes>"
      ]
     },
     "metadata": {},
     "output_type": "display_data"
    },
    {
     "name": "stdout",
     "output_type": "stream",
     "text": [
      "McDonald's.png {(188, 1, 21): 0.92083740234375, (248, 213, 84): 0.07916259765625}\n"
     ]
    },
    {
     "data": {
      "image/png": "[encoded data removed]",
      "text/plain": [
       "<Figure size 640x480 with 1 Axes>"
      ]
     },
     "metadata": {},
     "output_type": "display_data"
    },
    {
     "name": "stdout",
     "output_type": "stream",
     "text": [
      "YvesSaintLaurent.png {(0, 0, 0): 0.20540364583333334, (255, 255, 255): 0.0}\n"
     ]
    },
    {
     "data": {
      "image/png": "[encoded data removed]",
      "text/plain": [
       "<Figure size 640x480 with 1 Axes>"
      ]
     },
     "metadata": {},
     "output_type": "display_data"
    },
    {
     "name": "stdout",
     "output_type": "stream",
     "text": [
      "GiorgoArmani DunkinDonuts (fake).png {(229, 143, 81): 0.16572077185017026, (237, 74, 151): 0.27063401978271445, (221, 95, 155): 0.13507377979568672, (245, 130, 57): 0.2677152586346684, (244, 188, 180): 0.16085616993676016}\n"
     ]
    },
    {
     "data": {
      "image/png": "[encoded data removed]",
      "text/plain": [
       "<Figure size 640x480 with 1 Axes>"
      ]
     },
     "metadata": {},
     "output_type": "display_data"
    }
   ],
   "source": [
    "for logo in previous_logos:\n",
    "    print(logo.name, logo.colors)\n",
    "    logo.show_colors()"
   ]
  },
  {
   "cell_type": "code",
   "execution_count": 20,
   "id": "28b86250",
   "metadata": {},
   "outputs": [
    {
     "data": {
      "text/plain": [
       "{(253, 250, 250): 0.5925690406976745, (215, 58, 67): 0.4074309593023256}"
      ]
     },
     "execution_count": 20,
     "metadata": {},
     "output_type": "execute_result"
    }
   ],
   "source": [
    "previous_logos[29].colors = previous_logos[29].color_detect(include_white=True)\n",
    "previous_logos[29].colors"
   ]
  },
  {
   "cell_type": "code",
   "execution_count": 68,
   "id": "a3d30284",
   "metadata": {},
   "outputs": [
    {
     "data": {
      "text/plain": [
       "{(12, 98, 172): 0.22492889823172993,\n",
       " (235, 41, 47): 0.2975145294917769,\n",
       " (221, 188, 187): 0.12056386793619389,\n",
       " (253, 178, 68): 0.24619760108816618,\n",
       " (234, 0, 2): 0.11079510325213306}"
      ]
     },
     "execution_count": 68,
     "metadata": {},
     "output_type": "execute_result"
    }
   ],
   "source": [
    "previous_logos[7].colors = previous_logos[7].color_detect(include_white=False)\n",
    "previous_logos[7].colors"
   ]
  },
  {
   "cell_type": "code",
   "execution_count": 62,
   "id": "03a7f420",
   "metadata": {},
   "outputs": [
    {
     "name": "stdout",
     "output_type": "stream",
     "text": [
      "Gucci.png\n"
     ]
    },
    {
     "data": {
      "image/png": "[encoded data removed]",
      "text/plain": [
       "<Figure size 640x480 with 1 Axes>"
      ]
     },
     "metadata": {},
     "output_type": "display_data"
    },
    {
     "name": "stdout",
     "output_type": "stream",
     "text": [
      "Puma.png\n"
     ]
    },
    {
     "data": {
      "image/png": "[encoded data removed]",
      "text/plain": [
       "<Figure size 640x480 with 1 Axes>"
      ]
     },
     "metadata": {},
     "output_type": "display_data"
    },
    {
     "name": "stdout",
     "output_type": "stream",
     "text": [
      "HomeDepot.png\n"
     ]
    },
    {
     "data": {
      "image/png": "[encoded data removed]",
      "text/plain": [
       "<Figure size 640x480 with 1 Axes>"
      ]
     },
     "metadata": {},
     "output_type": "display_data"
    },
    {
     "name": "stdout",
     "output_type": "stream",
     "text": [
      "miumiu.png\n"
     ]
    },
    {
     "data": {
      "image/png": "[encoded data removed]",
      "text/plain": [
       "<Figure size 640x480 with 1 Axes>"
      ]
     },
     "metadata": {},
     "output_type": "display_data"
    },
    {
     "name": "stdout",
     "output_type": "stream",
     "text": [
      "CalvinKlein.png\n"
     ]
    },
    {
     "data": {
      "image/png": "[encoded data removed]",
      "text/plain": [
       "<Figure size 640x480 with 1 Axes>"
      ]
     },
     "metadata": {},
     "output_type": "display_data"
    },
    {
     "name": "stdout",
     "output_type": "stream",
     "text": [
      "BaskinRobbins.png\n"
     ]
    },
    {
     "data": {
      "image/png": "[encoded data removed]",
      "text/plain": [
       "<Figure size 640x480 with 1 Axes>"
      ]
     },
     "metadata": {},
     "output_type": "display_data"
    },
    {
     "name": "stdout",
     "output_type": "stream",
     "text": [
      "McDonald's 2.png\n"
     ]
    },
    {
     "data": {
      "image/png": "[encoded data removed]",
      "text/plain": [
       "<Figure size 640x480 with 1 Axes>"
      ]
     },
     "metadata": {},
     "output_type": "display_data"
    },
    {
     "name": "stdout",
     "output_type": "stream",
     "text": [
      "BurgerKing.png\n"
     ]
    },
    {
     "data": {
      "image/png": "[encoded data removed]",
      "text/plain": [
       "<Figure size 640x480 with 1 Axes>"
      ]
     },
     "metadata": {},
     "output_type": "display_data"
    },
    {
     "name": "stdout",
     "output_type": "stream",
     "text": [
      "LG.png\n"
     ]
    },
    {
     "data": {
      "image/png": "[encoded data removed]",
      "text/plain": [
       "<Figure size 640x480 with 1 Axes>"
      ]
     },
     "metadata": {},
     "output_type": "display_data"
    },
    {
     "name": "stdout",
     "output_type": "stream",
     "text": [
      "theatre.png\n"
     ]
    },
    {
     "data": {
      "image/png": "[encoded data removed]",
      "text/plain": [
       "<Figure size 640x480 with 1 Axes>"
      ]
     },
     "metadata": {},
     "output_type": "display_data"
    },
    {
     "name": "stdout",
     "output_type": "stream",
     "text": [
      "shell.png\n"
     ]
    },
    {
     "data": {
      "image/png": "[encoded data removed]",
      "text/plain": [
       "<Figure size 640x480 with 1 Axes>"
      ]
     },
     "metadata": {},
     "output_type": "display_data"
    },
    {
     "name": "stdout",
     "output_type": "stream",
     "text": [
      "Chanel.png\n"
     ]
    },
    {
     "data": {
      "image/png": "[encoded data removed]",
      "text/plain": [
       "<Figure size 640x480 with 1 Axes>"
      ]
     },
     "metadata": {},
     "output_type": "display_data"
    },
    {
     "name": "stdout",
     "output_type": "stream",
     "text": [
      "lego.png\n"
     ]
    },
    {
     "data": {
      "image/png": "[encoded data removed]",
      "text/plain": [
       "<Figure size 640x480 with 1 Axes>"
      ]
     },
     "metadata": {},
     "output_type": "display_data"
    },
    {
     "name": "stdout",
     "output_type": "stream",
     "text": [
      "Nike.png\n"
     ]
    },
    {
     "data": {
      "image/png": "[encoded data removed]",
      "text/plain": [
       "<Figure size 640x480 with 1 Axes>"
      ]
     },
     "metadata": {},
     "output_type": "display_data"
    },
    {
     "name": "stdout",
     "output_type": "stream",
     "text": [
      "GiorgioArmani.jpeg\n"
     ]
    },
    {
     "data": {
      "image/png": "[encoded data removed]",
      "text/plain": [
       "<Figure size 640x480 with 1 Axes>"
      ]
     },
     "metadata": {},
     "output_type": "display_data"
    },
    {
     "name": "stdout",
     "output_type": "stream",
     "text": [
      "Visa.png\n"
     ]
    },
    {
     "data": {
      "image/png": "[encoded data removed]",
      "text/plain": [
       "<Figure size 640x480 with 1 Axes>"
      ]
     },
     "metadata": {},
     "output_type": "display_data"
    },
    {
     "name": "stdout",
     "output_type": "stream",
     "text": [
      "Stussy.png\n"
     ]
    },
    {
     "data": {
      "image/png": "[encoded data removed]",
      "text/plain": [
       "<Figure size 640x480 with 1 Axes>"
      ]
     },
     "metadata": {},
     "output_type": "display_data"
    },
    {
     "name": "stdout",
     "output_type": "stream",
     "text": [
      "TomFord.jpeg\n"
     ]
    },
    {
     "data": {
      "image/png": "[encoded data removed]",
      "text/plain": [
       "<Figure size 640x480 with 1 Axes>"
      ]
     },
     "metadata": {},
     "output_type": "display_data"
    },
    {
     "name": "stdout",
     "output_type": "stream",
     "text": [
      "Pepsi.png\n"
     ]
    },
    {
     "data": {
      "image/png": "[encoded data removed]",
      "text/plain": [
       "<Figure size 640x480 with 1 Axes>"
      ]
     },
     "metadata": {},
     "output_type": "display_data"
    },
    {
     "name": "stdout",
     "output_type": "stream",
     "text": [
      "HarleyDavidson.png\n"
     ]
    },
    {
     "data": {
      "image/png": "[encoded data removed]",
      "text/plain": [
       "<Figure size 640x480 with 1 Axes>"
      ]
     },
     "metadata": {},
     "output_type": "display_data"
    },
    {
     "name": "stdout",
     "output_type": "stream",
     "text": [
      "Ikea.png\n"
     ]
    },
    {
     "data": {
      "image/png": "[encoded data removed]",
      "text/plain": [
       "<Figure size 640x480 with 1 Axes>"
      ]
     },
     "metadata": {},
     "output_type": "display_data"
    },
    {
     "name": "stdout",
     "output_type": "stream",
     "text": [
      "Lowe's.png\n"
     ]
    },
    {
     "data": {
      "image/png": "[encoded data removed]",
      "text/plain": [
       "<Figure size 640x480 with 1 Axes>"
      ]
     },
     "metadata": {},
     "output_type": "display_data"
    },
    {
     "name": "stdout",
     "output_type": "stream",
     "text": [
      "Dior.png\n"
     ]
    },
    {
     "data": {
      "image/png": "[encoded data removed]",
      "text/plain": [
       "<Figure size 640x480 with 1 Axes>"
      ]
     },
     "metadata": {},
     "output_type": "display_data"
    },
    {
     "name": "stdout",
     "output_type": "stream",
     "text": [
      "Versace.png\n"
     ]
    },
    {
     "data": {
      "image/png": "[encoded data removed]",
      "text/plain": [
       "<Figure size 640x480 with 1 Axes>"
      ]
     },
     "metadata": {},
     "output_type": "display_data"
    },
    {
     "name": "stdout",
     "output_type": "stream",
     "text": [
      "ebay.png\n"
     ]
    },
    {
     "data": {
      "image/png": "[encoded data removed]",
      "text/plain": [
       "<Figure size 640x480 with 1 Axes>"
      ]
     },
     "metadata": {},
     "output_type": "display_data"
    },
    {
     "name": "stdout",
     "output_type": "stream",
     "text": [
      "Palace.png\n"
     ]
    },
    {
     "data": {
      "image/png": "[encoded data removed]",
      "text/plain": [
       "<Figure size 640x480 with 1 Axes>"
      ]
     },
     "metadata": {},
     "output_type": "display_data"
    },
    {
     "name": "stdout",
     "output_type": "stream",
     "text": [
      "DHL.png\n"
     ]
    },
    {
     "data": {
      "image/png": "[encoded data removed]",
      "text/plain": [
       "<Figure size 640x480 with 1 Axes>"
      ]
     },
     "metadata": {},
     "output_type": "display_data"
    },
    {
     "name": "stdout",
     "output_type": "stream",
     "text": [
      "Champion.png\n"
     ]
    },
    {
     "data": {
      "image/png": "[encoded data removed]",
      "text/plain": [
       "<Figure size 640x480 with 1 Axes>"
      ]
     },
     "metadata": {},
     "output_type": "display_data"
    },
    {
     "name": "stdout",
     "output_type": "stream",
     "text": [
      "DonnaKaran.png\n"
     ]
    },
    {
     "data": {
      "image/png": "[encoded data removed]",
      "text/plain": [
       "<Figure size 640x480 with 1 Axes>"
      ]
     },
     "metadata": {},
     "output_type": "display_data"
    },
    {
     "name": "stdout",
     "output_type": "stream",
     "text": [
      "DunkinDonuts.png\n"
     ]
    },
    {
     "data": {
      "image/png": "[encoded data removed]",
      "text/plain": [
       "<Figure size 640x480 with 1 Axes>"
      ]
     },
     "metadata": {},
     "output_type": "display_data"
    },
    {
     "name": "stdout",
     "output_type": "stream",
     "text": [
      "Youtube.png\n"
     ]
    },
    {
     "data": {
      "image/png": "[encoded data removed]",
      "text/plain": [
       "<Figure size 640x480 with 1 Axes>"
      ]
     },
     "metadata": {},
     "output_type": "display_data"
    },
    {
     "name": "stdout",
     "output_type": "stream",
     "text": [
      "MarcJacobs.png\n"
     ]
    },
    {
     "data": {
      "image/png": "[encoded data removed]",
      "text/plain": [
       "<Figure size 640x480 with 1 Axes>"
      ]
     },
     "metadata": {},
     "output_type": "display_data"
    },
    {
     "name": "stdout",
     "output_type": "stream",
     "text": [
      "PizzaHut.png\n"
     ]
    },
    {
     "data": {
      "image/png": "[encoded data removed]",
      "text/plain": [
       "<Figure size 640x480 with 1 Axes>"
      ]
     },
     "metadata": {},
     "output_type": "display_data"
    },
    {
     "name": "stdout",
     "output_type": "stream",
     "text": [
      "McDonald's.png\n"
     ]
    },
    {
     "data": {
      "image/png": "[encoded data removed]",
      "text/plain": [
       "<Figure size 640x480 with 1 Axes>"
      ]
     },
     "metadata": {},
     "output_type": "display_data"
    },
    {
     "name": "stdout",
     "output_type": "stream",
     "text": [
      "YvesSaintLaurent.png\n"
     ]
    },
    {
     "data": {
      "image/png": "[encoded data removed]",
      "text/plain": [
       "<Figure size 640x480 with 1 Axes>"
      ]
     },
     "metadata": {},
     "output_type": "display_data"
    },
    {
     "name": "stdout",
     "output_type": "stream",
     "text": [
      "GiorgoArmani DunkinDonuts (fake).png\n"
     ]
    },
    {
     "data": {
      "image/png": "[encoded data removed]",
      "text/plain": [
       "<Figure size 640x480 with 1 Axes>"
      ]
     },
     "metadata": {},
     "output_type": "display_data"
    }
   ],
   "source": [
    "for logo in previous_logos:\n",
    "    print(logo.name)\n",
    "    logo.show_colors()"
   ]
  },
  {
   "cell_type": "code",
   "execution_count": null,
   "id": "ec8827fd",
   "metadata": {},
   "outputs": [],
   "source": []
  },
  {
   "cell_type": "markdown",
   "id": "ba0ede3f",
   "metadata": {},
   "source": [
    "# Time Complexity\n",
    "\n",
    "- 1-2 seconds to initialize each logo (1.5 on average)\n",
    "- 1-2 seconds to compare two logos (1.5 on average)\n",
    "- So runtime of whole program can be calculated using this formula (plug in number of applicants (a) and number of previous (p))\n",
    "\n",
    "$$\\large \\text{number of minutes} \\approx \\frac {(a+p) + (a \\cdot p)}{60}$$"
   ]
  },
  {
   "cell_type": "code",
   "execution_count": 30,
   "id": "f91e936a",
   "metadata": {},
   "outputs": [],
   "source": []
  },
  {
   "cell_type": "code",
   "execution_count": null,
   "id": "bc1dba91",
   "metadata": {},
   "outputs": [],
   "source": []
  },
  {
   "cell_type": "code",
   "execution_count": 35,
   "id": "8a36ff8b",
   "metadata": {},
   "outputs": [],
   "source": []
  },
  {
   "cell_type": "markdown",
   "id": "10a32965",
   "metadata": {},
   "source": [
    "## Template matching should be scaled! \n",
    "The first DataFrame shows how inaccurate template matching is when a single threshold is set for all pairs. However, when you look at the highest template matching score for each applicant logo, results are significantly better. "
   ]
  },
  {
   "cell_type": "markdown",
   "id": "932e956b",
   "metadata": {},
   "source": [
    "### Top 16 Template Matches (3 actual matches)"
   ]
  },
  {
   "cell_type": "code",
   "execution_count": 85,
   "id": "fcf9a81c",
   "metadata": {},
   "outputs": [
    {
     "data": {
      "text/html": [
       "<div>\n",
       "<style scoped>\n",
       "    .dataframe tbody tr th:only-of-type {\n",
       "        vertical-align: middle;\n",
       "    }\n",
       "\n",
       "    .dataframe tbody tr th {\n",
       "        vertical-align: top;\n",
       "    }\n",
       "\n",
       "    .dataframe thead th {\n",
       "        text-align: right;\n",
       "    }\n",
       "</style>\n",
       "<table border=\"1\" class=\"dataframe\">\n",
       "  <thead>\n",
       "    <tr style=\"text-align: right;\">\n",
       "      <th></th>\n",
       "      <th>Applicant Logo</th>\n",
       "      <th>Template Matching</th>\n",
       "      <th>Previous Logo</th>\n",
       "    </tr>\n",
       "  </thead>\n",
       "  <tbody>\n",
       "    <tr>\n",
       "      <th>441</th>\n",
       "      <td>mastercard.png</td>\n",
       "      <td>0.566091</td>\n",
       "      <td>Mastercard (reversed).png</td>\n",
       "    </tr>\n",
       "    <tr>\n",
       "      <th>477</th>\n",
       "      <td>facebook.png</td>\n",
       "      <td>0.466919</td>\n",
       "      <td>Facebook (reversed).png</td>\n",
       "    </tr>\n",
       "    <tr>\n",
       "      <th>491</th>\n",
       "      <td>facebook.png</td>\n",
       "      <td>0.420871</td>\n",
       "      <td>nikon.png</td>\n",
       "    </tr>\n",
       "    <tr>\n",
       "      <th>415</th>\n",
       "      <td>espn.png</td>\n",
       "      <td>0.419725</td>\n",
       "      <td>CNN (reversed).png</td>\n",
       "    </tr>\n",
       "    <tr>\n",
       "      <th>472</th>\n",
       "      <td>facebook.png</td>\n",
       "      <td>0.414893</td>\n",
       "      <td>HomeDepot (reversed).png</td>\n",
       "    </tr>\n",
       "    <tr>\n",
       "      <th>418</th>\n",
       "      <td>espn.png</td>\n",
       "      <td>0.414081</td>\n",
       "      <td>Facebook (reversed).png</td>\n",
       "    </tr>\n",
       "    <tr>\n",
       "      <th>409</th>\n",
       "      <td>espn.png</td>\n",
       "      <td>0.414081</td>\n",
       "      <td>HolidayInn (reversed).png</td>\n",
       "    </tr>\n",
       "    <tr>\n",
       "      <th>413</th>\n",
       "      <td>espn.png</td>\n",
       "      <td>0.408475</td>\n",
       "      <td>HomeDepot (reversed).png</td>\n",
       "    </tr>\n",
       "    <tr>\n",
       "      <th>431</th>\n",
       "      <td>espn.png</td>\n",
       "      <td>0.405530</td>\n",
       "      <td>fedex.png</td>\n",
       "    </tr>\n",
       "    <tr>\n",
       "      <th>422</th>\n",
       "      <td>espn.png</td>\n",
       "      <td>0.404455</td>\n",
       "      <td>ESPN (reversed).png</td>\n",
       "    </tr>\n",
       "    <tr>\n",
       "      <th>363</th>\n",
       "      <td>holidayinn.png</td>\n",
       "      <td>0.396468</td>\n",
       "      <td>Facebook (reversed).png</td>\n",
       "    </tr>\n",
       "    <tr>\n",
       "      <th>360</th>\n",
       "      <td>holidayinn.png</td>\n",
       "      <td>0.392912</td>\n",
       "      <td>CNN (reversed).png</td>\n",
       "    </tr>\n",
       "    <tr>\n",
       "      <th>376</th>\n",
       "      <td>holidayinn.png</td>\n",
       "      <td>0.388029</td>\n",
       "      <td>fedex.png</td>\n",
       "    </tr>\n",
       "    <tr>\n",
       "      <th>486</th>\n",
       "      <td>facebook.png</td>\n",
       "      <td>0.382986</td>\n",
       "      <td>philips.png</td>\n",
       "    </tr>\n",
       "    <tr>\n",
       "      <th>490</th>\n",
       "      <td>facebook.png</td>\n",
       "      <td>0.376854</td>\n",
       "      <td>fedex.png</td>\n",
       "    </tr>\n",
       "    <tr>\n",
       "      <th>371</th>\n",
       "      <td>holidayinn.png</td>\n",
       "      <td>0.372486</td>\n",
       "      <td>BaskinRobbins.png</td>\n",
       "    </tr>\n",
       "  </tbody>\n",
       "</table>\n",
       "</div>"
      ],
      "text/plain": [
       "     Applicant Logo  Template Matching              Previous Logo\n",
       "441  mastercard.png           0.566091  Mastercard (reversed).png\n",
       "477    facebook.png           0.466919    Facebook (reversed).png\n",
       "491    facebook.png           0.420871                  nikon.png\n",
       "415        espn.png           0.419725         CNN (reversed).png\n",
       "472    facebook.png           0.414893   HomeDepot (reversed).png\n",
       "418        espn.png           0.414081    Facebook (reversed).png\n",
       "409        espn.png           0.414081  HolidayInn (reversed).png\n",
       "413        espn.png           0.408475   HomeDepot (reversed).png\n",
       "431        espn.png           0.405530                  fedex.png\n",
       "422        espn.png           0.404455        ESPN (reversed).png\n",
       "363  holidayinn.png           0.396468    Facebook (reversed).png\n",
       "360  holidayinn.png           0.392912         CNN (reversed).png\n",
       "376  holidayinn.png           0.388029                  fedex.png\n",
       "486    facebook.png           0.382986                philips.png\n",
       "490    facebook.png           0.376854                  fedex.png\n",
       "371  holidayinn.png           0.372486          BaskinRobbins.png"
      ]
     },
     "execution_count": 85,
     "metadata": {},
     "output_type": "execute_result"
    }
   ],
   "source": [
    "df4 = data_dfs['df4']\n",
    "df4[['Applicant Logo', 'Template Matching', 'Previous Logo']].sort_values('Template Matching', ascending = False).iloc[:16]"
   ]
  },
  {
   "cell_type": "markdown",
   "id": "0bec3f8c",
   "metadata": {},
   "source": [
    "### Highest Template Match for each of 16 applicants (7 actual matches)"
   ]
  },
  {
   "cell_type": "code",
   "execution_count": 84,
   "id": "64540a04",
   "metadata": {},
   "outputs": [
    {
     "data": {
      "text/html": [
       "<div>\n",
       "<style scoped>\n",
       "    .dataframe tbody tr th:only-of-type {\n",
       "        vertical-align: middle;\n",
       "    }\n",
       "\n",
       "    .dataframe tbody tr th {\n",
       "        vertical-align: top;\n",
       "    }\n",
       "\n",
       "    .dataframe thead th {\n",
       "        text-align: right;\n",
       "    }\n",
       "</style>\n",
       "<table border=\"1\" class=\"dataframe\">\n",
       "  <thead>\n",
       "    <tr style=\"text-align: right;\">\n",
       "      <th></th>\n",
       "      <th>Applicant Logo</th>\n",
       "      <th>Template Matching</th>\n",
       "      <th>Previous Logo</th>\n",
       "    </tr>\n",
       "  </thead>\n",
       "  <tbody>\n",
       "    <tr>\n",
       "      <th>0</th>\n",
       "      <td>BaskinRobbins.png</td>\n",
       "      <td>0.343831</td>\n",
       "      <td>CNN (reversed).png</td>\n",
       "    </tr>\n",
       "    <tr>\n",
       "      <th>1</th>\n",
       "      <td>cnn.png</td>\n",
       "      <td>0.252814</td>\n",
       "      <td>Mastercard (reversed).png</td>\n",
       "    </tr>\n",
       "    <tr>\n",
       "      <th>2</th>\n",
       "      <td>dhl.png</td>\n",
       "      <td>0.313572</td>\n",
       "      <td>DHL (reversed).png</td>\n",
       "    </tr>\n",
       "    <tr>\n",
       "      <th>3</th>\n",
       "      <td>dunkin.png</td>\n",
       "      <td>0.256506</td>\n",
       "      <td>Dunkin (reversed).png</td>\n",
       "    </tr>\n",
       "    <tr>\n",
       "      <th>4</th>\n",
       "      <td>espn.png</td>\n",
       "      <td>0.419725</td>\n",
       "      <td>CNN (reversed).png</td>\n",
       "    </tr>\n",
       "    <tr>\n",
       "      <th>5</th>\n",
       "      <td>facebook.png</td>\n",
       "      <td>0.466919</td>\n",
       "      <td>Facebook (reversed).png</td>\n",
       "    </tr>\n",
       "    <tr>\n",
       "      <th>6</th>\n",
       "      <td>fedex.png</td>\n",
       "      <td>0.213830</td>\n",
       "      <td>BaskinRobbins.png</td>\n",
       "    </tr>\n",
       "    <tr>\n",
       "      <th>7</th>\n",
       "      <td>ford.png</td>\n",
       "      <td>0.197845</td>\n",
       "      <td>Ford (reversed).png</td>\n",
       "    </tr>\n",
       "    <tr>\n",
       "      <th>8</th>\n",
       "      <td>holidayinn.png</td>\n",
       "      <td>0.396468</td>\n",
       "      <td>Facebook (reversed).png</td>\n",
       "    </tr>\n",
       "    <tr>\n",
       "      <th>9</th>\n",
       "      <td>homedepot.png</td>\n",
       "      <td>0.230129</td>\n",
       "      <td>HomeDepot (reversed).png</td>\n",
       "    </tr>\n",
       "    <tr>\n",
       "      <th>10</th>\n",
       "      <td>lacoste.png</td>\n",
       "      <td>0.084460</td>\n",
       "      <td>Lacoste (reversed).png</td>\n",
       "    </tr>\n",
       "    <tr>\n",
       "      <th>11</th>\n",
       "      <td>lacoste_text.png</td>\n",
       "      <td>0.139477</td>\n",
       "      <td>CNN (reversed).png</td>\n",
       "    </tr>\n",
       "    <tr>\n",
       "      <th>12</th>\n",
       "      <td>lyft.png</td>\n",
       "      <td>0.286571</td>\n",
       "      <td>Facebook (reversed).png</td>\n",
       "    </tr>\n",
       "    <tr>\n",
       "      <th>13</th>\n",
       "      <td>mastercard.png</td>\n",
       "      <td>0.566091</td>\n",
       "      <td>Mastercard (reversed).png</td>\n",
       "    </tr>\n",
       "    <tr>\n",
       "      <th>14</th>\n",
       "      <td>nikon.png</td>\n",
       "      <td>0.271185</td>\n",
       "      <td>CNN (reversed).png</td>\n",
       "    </tr>\n",
       "    <tr>\n",
       "      <th>15</th>\n",
       "      <td>philips.png</td>\n",
       "      <td>0.208382</td>\n",
       "      <td>CNN (reversed).png</td>\n",
       "    </tr>\n",
       "    <tr>\n",
       "      <th>16</th>\n",
       "      <td>wholefoods.png</td>\n",
       "      <td>0.214869</td>\n",
       "      <td>ESPN (reversed).png</td>\n",
       "    </tr>\n",
       "  </tbody>\n",
       "</table>\n",
       "</div>"
      ],
      "text/plain": [
       "       Applicant Logo  Template Matching              Previous Logo\n",
       "0   BaskinRobbins.png           0.343831         CNN (reversed).png\n",
       "1             cnn.png           0.252814  Mastercard (reversed).png\n",
       "2             dhl.png           0.313572         DHL (reversed).png\n",
       "3          dunkin.png           0.256506      Dunkin (reversed).png\n",
       "4            espn.png           0.419725         CNN (reversed).png\n",
       "5        facebook.png           0.466919    Facebook (reversed).png\n",
       "6           fedex.png           0.213830          BaskinRobbins.png\n",
       "7            ford.png           0.197845        Ford (reversed).png\n",
       "8      holidayinn.png           0.396468    Facebook (reversed).png\n",
       "9       homedepot.png           0.230129   HomeDepot (reversed).png\n",
       "10        lacoste.png           0.084460     Lacoste (reversed).png\n",
       "11   lacoste_text.png           0.139477         CNN (reversed).png\n",
       "12           lyft.png           0.286571    Facebook (reversed).png\n",
       "13     mastercard.png           0.566091  Mastercard (reversed).png\n",
       "14          nikon.png           0.271185         CNN (reversed).png\n",
       "15        philips.png           0.208382         CNN (reversed).png\n",
       "16     wholefoods.png           0.214869        ESPN (reversed).png"
      ]
     },
     "execution_count": 84,
     "metadata": {},
     "output_type": "execute_result"
    }
   ],
   "source": [
    "prev_template = df4[['Previous Logo', 'Template Matching']]\n",
    "appl_template = df4[['Applicant Logo', 'Template Matching']]\n",
    "appl_template.groupby('Applicant Logo').max().reset_index().merge(prev_template)"
   ]
  },
  {
   "cell_type": "code",
   "execution_count": 47,
   "id": "5b7f7a60",
   "metadata": {},
   "outputs": [
    {
     "name": "stdout",
     "output_type": "stream",
     "text": [
      "t-mobile.png \n",
      "batman.png \n",
      "burgerking.png \n",
      "doritos.png \n",
      "tommyhilfiger.png TOM ™M Y\n",
      "\n",
      "HILFIGER\n",
      "\n",
      "bridgestone.png \n",
      "disney.png Disney\n",
      "\n",
      "microsoft.png \n",
      "apple.png \n",
      "aldi.png \n",
      "caterpillar.png CAT\n",
      "\n",
      "chiquita.png \n",
      "bmw.png \n",
      "nbc.png YA\n",
      "\n",
      "porsche.png \n",
      "bridgestone(rotated).png \n"
     ]
    }
   ],
   "source": [
    "for logo in previous_logos:\n",
    "    print(logo.name, logo.text)"
   ]
  },
  {
   "cell_type": "code",
   "execution_count": 69,
   "id": "15a2f2a6",
   "metadata": {},
   "outputs": [
    {
     "data": {
      "text/plain": [
       "{(157, 175, 166): 0.10245028409090909,\n",
       " (16, 81, 49): 0.3416193181818182,\n",
       " (251, 252, 252): 0.5559303977272727}"
      ]
     },
     "execution_count": 69,
     "metadata": {},
     "output_type": "execute_result"
    }
   ],
   "source": [
    "applicant_logos[6].colors"
   ]
  },
  {
   "cell_type": "code",
   "execution_count": 154,
   "id": "2e45931d",
   "metadata": {},
   "outputs": [
    {
     "data": {
      "text/plain": [
       "BaskinRobbins.png"
      ]
     },
     "execution_count": 154,
     "metadata": {},
     "output_type": "execute_result"
    }
   ],
   "source": [
    "logoA = applicant_logos[5]\n",
    "logoA"
   ]
  },
  {
   "cell_type": "code",
   "execution_count": 168,
   "id": "820ae2f8",
   "metadata": {},
   "outputs": [
    {
     "data": {
      "text/plain": [
       "[GiorgoArmani DunkinDonuts (fake).png,\n",
       " Visa Versace (fake).png,\n",
       " McDonalds (fake).png,\n",
       " ebay chloe (fake).png,\n",
       " Nike Dior (fake).png,\n",
       " McDonalds Stussy (fake).png,\n",
       " Nike(jedi).png,\n",
       " BaskinRobins DonnaKaran (fake).png,\n",
       " Lego(fake).png,\n",
       " Nike(fried).png,\n",
       " PizzaHut MarcJacobs (fake).png,\n",
       " TomFord Youtube (fake).png,\n",
       " Nike(woman).png,\n",
       " DHL YSL (fake).png,\n",
       " Ikea Miumiu (fake).png,\n",
       " BurgerKing CalvinKlein (fake).png,\n",
       " Pepsi Palace (fake).png,\n",
       " LG (fake).png,\n",
       " HomeDepot (fake).png,\n",
       " tokyo2020 (fake).png,\n",
       " Chanel Champion (fake).png,\n",
       " Puma Gucci (fake).png,\n",
       " Shell(fake).png,\n",
       " BaskinRobbins.png]"
      ]
     },
     "execution_count": 168,
     "metadata": {},
     "output_type": "execute_result"
    }
   ],
   "source": [
    "test"
   ]
  },
  {
   "cell_type": "code",
   "execution_count": 167,
   "id": "cb3ff795",
   "metadata": {},
   "outputs": [
    {
     "data": {
      "text/html": [
       "<div>\n",
       "<style scoped>\n",
       "    .dataframe tbody tr th:only-of-type {\n",
       "        vertical-align: middle;\n",
       "    }\n",
       "\n",
       "    .dataframe tbody tr th {\n",
       "        vertical-align: top;\n",
       "    }\n",
       "\n",
       "    .dataframe thead th {\n",
       "        text-align: right;\n",
       "    }\n",
       "</style>\n",
       "<table border=\"1\" class=\"dataframe\">\n",
       "  <thead>\n",
       "    <tr style=\"text-align: right;\">\n",
       "      <th></th>\n",
       "      <th>Logo 1</th>\n",
       "      <th>Logo 2</th>\n",
       "      <th>Similarity Score</th>\n",
       "    </tr>\n",
       "  </thead>\n",
       "  <tbody>\n",
       "    <tr>\n",
       "      <th>9</th>\n",
       "      <td>BaskinRobbins.png</td>\n",
       "      <td>Nike(fried).png</td>\n",
       "      <td>1.000000e+00</td>\n",
       "    </tr>\n",
       "    <tr>\n",
       "      <th>0</th>\n",
       "      <td>BaskinRobbins.png</td>\n",
       "      <td>GiorgoArmani DunkinDonuts (fake).png</td>\n",
       "      <td>9.934217e-01</td>\n",
       "    </tr>\n",
       "    <tr>\n",
       "      <th>17</th>\n",
       "      <td>BaskinRobbins.png</td>\n",
       "      <td>LG (fake).png</td>\n",
       "      <td>9.292078e-01</td>\n",
       "    </tr>\n",
       "    <tr>\n",
       "      <th>12</th>\n",
       "      <td>BaskinRobbins.png</td>\n",
       "      <td>Nike(woman).png</td>\n",
       "      <td>8.893117e-01</td>\n",
       "    </tr>\n",
       "    <tr>\n",
       "      <th>7</th>\n",
       "      <td>BaskinRobbins.png</td>\n",
       "      <td>BaskinRobins DonnaKaran (fake).png</td>\n",
       "      <td>8.526124e-01</td>\n",
       "    </tr>\n",
       "    <tr>\n",
       "      <th>2</th>\n",
       "      <td>BaskinRobbins.png</td>\n",
       "      <td>McDonalds (fake).png</td>\n",
       "      <td>7.960148e-01</td>\n",
       "    </tr>\n",
       "    <tr>\n",
       "      <th>16</th>\n",
       "      <td>BaskinRobbins.png</td>\n",
       "      <td>Pepsi Palace (fake).png</td>\n",
       "      <td>7.301788e-01</td>\n",
       "    </tr>\n",
       "    <tr>\n",
       "      <th>1</th>\n",
       "      <td>BaskinRobbins.png</td>\n",
       "      <td>Visa Versace (fake).png</td>\n",
       "      <td>6.676095e-01</td>\n",
       "    </tr>\n",
       "    <tr>\n",
       "      <th>3</th>\n",
       "      <td>BaskinRobbins.png</td>\n",
       "      <td>ebay chloe (fake).png</td>\n",
       "      <td>6.599102e-01</td>\n",
       "    </tr>\n",
       "    <tr>\n",
       "      <th>4</th>\n",
       "      <td>BaskinRobbins.png</td>\n",
       "      <td>Nike Dior (fake).png</td>\n",
       "      <td>6.592395e-01</td>\n",
       "    </tr>\n",
       "    <tr>\n",
       "      <th>18</th>\n",
       "      <td>BaskinRobbins.png</td>\n",
       "      <td>HomeDepot (fake).png</td>\n",
       "      <td>6.223343e-01</td>\n",
       "    </tr>\n",
       "    <tr>\n",
       "      <th>19</th>\n",
       "      <td>BaskinRobbins.png</td>\n",
       "      <td>tokyo2020 (fake).png</td>\n",
       "      <td>6.221775e-01</td>\n",
       "    </tr>\n",
       "    <tr>\n",
       "      <th>11</th>\n",
       "      <td>BaskinRobbins.png</td>\n",
       "      <td>TomFord Youtube (fake).png</td>\n",
       "      <td>5.872510e-01</td>\n",
       "    </tr>\n",
       "    <tr>\n",
       "      <th>15</th>\n",
       "      <td>BaskinRobbins.png</td>\n",
       "      <td>BurgerKing CalvinKlein (fake).png</td>\n",
       "      <td>5.547508e-01</td>\n",
       "    </tr>\n",
       "    <tr>\n",
       "      <th>21</th>\n",
       "      <td>BaskinRobbins.png</td>\n",
       "      <td>Puma Gucci (fake).png</td>\n",
       "      <td>5.190803e-01</td>\n",
       "    </tr>\n",
       "    <tr>\n",
       "      <th>13</th>\n",
       "      <td>BaskinRobbins.png</td>\n",
       "      <td>DHL YSL (fake).png</td>\n",
       "      <td>4.889009e-01</td>\n",
       "    </tr>\n",
       "    <tr>\n",
       "      <th>14</th>\n",
       "      <td>BaskinRobbins.png</td>\n",
       "      <td>Ikea Miumiu (fake).png</td>\n",
       "      <td>4.845871e-01</td>\n",
       "    </tr>\n",
       "    <tr>\n",
       "      <th>8</th>\n",
       "      <td>BaskinRobbins.png</td>\n",
       "      <td>Lego(fake).png</td>\n",
       "      <td>4.129735e-01</td>\n",
       "    </tr>\n",
       "    <tr>\n",
       "      <th>6</th>\n",
       "      <td>BaskinRobbins.png</td>\n",
       "      <td>Nike(jedi).png</td>\n",
       "      <td>3.387001e-01</td>\n",
       "    </tr>\n",
       "    <tr>\n",
       "      <th>20</th>\n",
       "      <td>BaskinRobbins.png</td>\n",
       "      <td>Chanel Champion (fake).png</td>\n",
       "      <td>3.317759e-01</td>\n",
       "    </tr>\n",
       "    <tr>\n",
       "      <th>5</th>\n",
       "      <td>BaskinRobbins.png</td>\n",
       "      <td>McDonalds Stussy (fake).png</td>\n",
       "      <td>2.138146e-01</td>\n",
       "    </tr>\n",
       "    <tr>\n",
       "      <th>10</th>\n",
       "      <td>BaskinRobbins.png</td>\n",
       "      <td>PizzaHut MarcJacobs (fake).png</td>\n",
       "      <td>1.110223e-16</td>\n",
       "    </tr>\n",
       "  </tbody>\n",
       "</table>\n",
       "</div>"
      ],
      "text/plain": [
       "               Logo 1                                Logo 2  Similarity Score\n",
       "9   BaskinRobbins.png                       Nike(fried).png      1.000000e+00\n",
       "0   BaskinRobbins.png  GiorgoArmani DunkinDonuts (fake).png      9.934217e-01\n",
       "17  BaskinRobbins.png                         LG (fake).png      9.292078e-01\n",
       "12  BaskinRobbins.png                       Nike(woman).png      8.893117e-01\n",
       "7   BaskinRobbins.png    BaskinRobins DonnaKaran (fake).png      8.526124e-01\n",
       "2   BaskinRobbins.png                  McDonalds (fake).png      7.960148e-01\n",
       "16  BaskinRobbins.png               Pepsi Palace (fake).png      7.301788e-01\n",
       "1   BaskinRobbins.png               Visa Versace (fake).png      6.676095e-01\n",
       "3   BaskinRobbins.png                 ebay chloe (fake).png      6.599102e-01\n",
       "4   BaskinRobbins.png                  Nike Dior (fake).png      6.592395e-01\n",
       "18  BaskinRobbins.png                  HomeDepot (fake).png      6.223343e-01\n",
       "19  BaskinRobbins.png                  tokyo2020 (fake).png      6.221775e-01\n",
       "11  BaskinRobbins.png            TomFord Youtube (fake).png      5.872510e-01\n",
       "15  BaskinRobbins.png     BurgerKing CalvinKlein (fake).png      5.547508e-01\n",
       "21  BaskinRobbins.png                 Puma Gucci (fake).png      5.190803e-01\n",
       "13  BaskinRobbins.png                    DHL YSL (fake).png      4.889009e-01\n",
       "14  BaskinRobbins.png                Ikea Miumiu (fake).png      4.845871e-01\n",
       "8   BaskinRobbins.png                        Lego(fake).png      4.129735e-01\n",
       "6   BaskinRobbins.png                        Nike(jedi).png      3.387001e-01\n",
       "20  BaskinRobbins.png            Chanel Champion (fake).png      3.317759e-01\n",
       "5   BaskinRobbins.png           McDonalds Stussy (fake).png      2.138146e-01\n",
       "10  BaskinRobbins.png        PizzaHut MarcJacobs (fake).png      1.110223e-16"
      ]
     },
     "execution_count": 167,
     "metadata": {},
     "output_type": "execute_result"
    }
   ],
   "source": [
    "calculate_logo_shape_complexity_similarity(logoA, test)"
   ]
  },
  {
   "cell_type": "code",
   "execution_count": null,
   "id": "11b8bdbf",
   "metadata": {},
   "outputs": [],
   "source": []
  },
  {
   "cell_type": "code",
   "execution_count": null,
   "id": "ae61dec0",
   "metadata": {},
   "outputs": [],
   "source": []
  },
  {
   "cell_type": "code",
   "execution_count": null,
   "id": "1070b1b1",
   "metadata": {},
   "outputs": [],
   "source": []
  },
  {
   "cell_type": "code",
   "execution_count": null,
   "id": "87495380",
   "metadata": {},
   "outputs": [],
   "source": []
  },
  {
   "cell_type": "code",
   "execution_count": null,
   "id": "05ad0f53",
   "metadata": {},
   "outputs": [],
   "source": []
  },
  {
   "cell_type": "code",
   "execution_count": null,
   "id": "b2d332db",
   "metadata": {},
   "outputs": [],
   "source": []
  },
  {
   "cell_type": "code",
   "execution_count": null,
   "id": "fe6509b0",
   "metadata": {},
   "outputs": [],
   "source": []
  },
  {
   "cell_type": "code",
   "execution_count": 86,
   "id": "cbc4623d",
   "metadata": {},
   "outputs": [
    {
     "data": {
      "image/png": "[encoded data removed]",
      "text/plain": [
       "<Figure size 640x480 with 1 Axes>"
      ]
     },
     "metadata": {},
     "output_type": "display_data"
    }
   ],
   "source": [
    "plt.imshow(ck.image, 'gray')\n",
    "plt.xticks([]), plt.yticks([])\n",
    "plt.show()"
   ]
  },
  {
   "cell_type": "code",
   "execution_count": 84,
   "id": "9e9b2321",
   "metadata": {},
   "outputs": [],
   "source": [
    "ck = applicant_logos[15]"
   ]
  },
  {
   "cell_type": "code",
   "execution_count": 89,
   "id": "3ce73eb6",
   "metadata": {},
   "outputs": [
    {
     "data": {
      "image/png": "[encoded data removed]",
      "text/plain": [
       "<Figure size 640x480 with 1 Axes>"
      ]
     },
     "metadata": {},
     "output_type": "display_data"
    }
   ],
   "source": [
    "resized = imutils.resize(ck.image, width=300)\n",
    "\n",
    "# Blurring the image\n",
    "ck.blurred = cv2.GaussianBlur(resized, (5,5), 0)\n",
    "\n",
    "# Setting all pixels to white or black\n",
    "binary_image = ck.image_to_binary()\n",
    "\n",
    "plt.imshow(binary_image, 'gray')\n",
    "plt.xticks([]), plt.yticks([])\n",
    "plt.show()"
   ]
  },
  {
   "cell_type": "code",
   "execution_count": null,
   "id": "6882aa0c",
   "metadata": {},
   "outputs": [],
   "source": []
  }
 ],
 "metadata": {
  "kernelspec": {
   "display_name": "Python 3 (ipykernel)",
   "language": "python",
   "name": "python3"
  },
  "language_info": {
   "codemirror_mode": {
    "name": "ipython",
    "version": 3
   },
   "file_extension": ".py",
   "mimetype": "text/x-python",
   "name": "python",
   "nbconvert_exporter": "python",
   "pygments_lexer": "ipython3",
   "version": "3.11.5"
  }
 },
 "nbformat": 4,
 "nbformat_minor": 5
}
