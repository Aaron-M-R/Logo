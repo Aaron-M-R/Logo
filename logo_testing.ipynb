{
 "cells": [
  {
   "cell_type": "code",
   "execution_count": 91,
   "id": "196d2b2f",
   "metadata": {},
   "outputs": [
    {
     "name": "stdout",
     "output_type": "stream",
     "text": [
      "The autoreload extension is already loaded. To reload it, use:\n",
      "  %reload_ext autoreload\n"
     ]
    }
   ],
   "source": [
    "%load_ext autoreload\n",
    "%autoreload 2"
   ]
  },
  {
   "cell_type": "code",
   "execution_count": 197,
   "id": "7ea9787b",
   "metadata": {},
   "outputs": [],
   "source": [
    "from logo import Logo\n",
    "import logo_comparison\n",
    "from logo_comparison import *\n",
    "\n",
    "import os\n",
    "import pandas as pd\n",
    "import numpy as np\n",
    "from tqdm import tqdm\n",
    "import matplotlib.pyplot as plt"
   ]
  },
  {
   "cell_type": "code",
   "execution_count": 262,
   "id": "b5a5c4dd",
   "metadata": {},
   "outputs": [],
   "source": [
    "# Loading the data\n",
    "data_dfs = dict()"
   ]
  },
  {
   "cell_type": "code",
   "execution_count": 269,
   "id": "9e87d9b0",
   "metadata": {
    "scrolled": false
   },
   "outputs": [
    {
     "name": "stdout",
     "output_type": "stream",
     "text": [
      "Initializing applicant logos (Test Set 6)\n"
     ]
    },
    {
     "name": "stderr",
     "output_type": "stream",
     "text": [
      "100%|████████████████████████████████████████████████████| 16/16 [00:27<00:00,  1.72s/it]\n"
     ]
    },
    {
     "name": "stdout",
     "output_type": "stream",
     "text": [
      "Initializing previous logos (Test Set 6)\n"
     ]
    },
    {
     "name": "stderr",
     "output_type": "stream",
     "text": [
      "100%|████████████████████████████████████████████████████| 16/16 [00:26<00:00,  1.68s/it]\n"
     ]
    },
    {
     "name": "stdout",
     "output_type": "stream",
     "text": [
      "Comparing logos\n"
     ]
    },
    {
     "name": "stderr",
     "output_type": "stream",
     "text": [
      "100%|████████████████████████████████████████████████████| 15/15 [04:03<00:00, 16.22s/it]\n"
     ]
    }
   ],
   "source": [
    "for i in np.arange(6, 7):\n",
    "\n",
    "    applicant_loc = f'/Users/aaronrasin/Desktop/Logo/Logos/applicant_{i}'\n",
    "    applicant_logo_names = os.listdir(applicant_loc)\n",
    "    applicant_logos = list()\n",
    "\n",
    "    previous_loc = f'/Users/aaronrasin/Desktop/Logo/Logos/previous_{i}'\n",
    "    previous_logo_names = os.listdir(previous_loc)\n",
    "    previous_logos = list()\n",
    "    \n",
    "    \n",
    "    # Analyzing logo individually\n",
    "    print(f\"Initializing applicant logos (Test Set {i})\")\n",
    "    for applicant in tqdm(applicant_logo_names):\n",
    "        if applicant != '.DS_Store':\n",
    "            applicant_logos.append(Logo(applicant_loc + '/' + applicant))\n",
    "            \n",
    "    print(f\"Initializing previous logos (Test Set {i})\")\n",
    "    for previous in tqdm(previous_logo_names):\n",
    "        if previous != '.DS_Store':\n",
    "            previous_logos.append(Logo(previous_loc + '/' + previous))\n",
    "    \n",
    "    \n",
    "    # Comparing applicants and previous logos\n",
    "    df = compare_logos(applicant_logos, previous_logos)\n",
    "    \n",
    "    data_dfs[f'df{i}'] = df"
   ]
  },
  {
   "cell_type": "code",
   "execution_count": 270,
   "id": "cf0bb776",
   "metadata": {
    "scrolled": true
   },
   "outputs": [
    {
     "data": {
      "text/html": [
       "<div>\n",
       "<style scoped>\n",
       "    .dataframe tbody tr th:only-of-type {\n",
       "        vertical-align: middle;\n",
       "    }\n",
       "\n",
       "    .dataframe tbody tr th {\n",
       "        vertical-align: top;\n",
       "    }\n",
       "\n",
       "    .dataframe thead th {\n",
       "        text-align: right;\n",
       "    }\n",
       "</style>\n",
       "<table border=\"1\" class=\"dataframe\">\n",
       "  <thead>\n",
       "    <tr style=\"text-align: right;\">\n",
       "      <th></th>\n",
       "      <th>Applicant Logo</th>\n",
       "      <th>Previous Logo</th>\n",
       "      <th>SSIM</th>\n",
       "      <th>Color Similarity Score</th>\n",
       "      <th>Shape Complexity Score</th>\n",
       "      <th>Template Matching</th>\n",
       "      <th>Text Similarity Score</th>\n",
       "    </tr>\n",
       "  </thead>\n",
       "  <tbody>\n",
       "    <tr>\n",
       "      <th>0</th>\n",
       "      <td>bridgestone(rotated).png</td>\n",
       "      <td>t-mobile.png</td>\n",
       "      <td>0.325478</td>\n",
       "      <td>41.099236</td>\n",
       "      <td>0.874141</td>\n",
       "      <td>0.056666</td>\n",
       "      <td>0.0</td>\n",
       "    </tr>\n",
       "    <tr>\n",
       "      <th>1</th>\n",
       "      <td>bridgestone(rotated).png</td>\n",
       "      <td>batman.png</td>\n",
       "      <td>0.205106</td>\n",
       "      <td>33.646576</td>\n",
       "      <td>0.913518</td>\n",
       "      <td>0.068026</td>\n",
       "      <td>0.0</td>\n",
       "    </tr>\n",
       "    <tr>\n",
       "      <th>2</th>\n",
       "      <td>bridgestone(rotated).png</td>\n",
       "      <td>burgerking.png</td>\n",
       "      <td>0.242524</td>\n",
       "      <td>33.942704</td>\n",
       "      <td>0.679073</td>\n",
       "      <td>0.074275</td>\n",
       "      <td>0.0</td>\n",
       "    </tr>\n",
       "    <tr>\n",
       "      <th>3</th>\n",
       "      <td>bridgestone(rotated).png</td>\n",
       "      <td>doritos.png</td>\n",
       "      <td>0.305761</td>\n",
       "      <td>28.283435</td>\n",
       "      <td>0.713691</td>\n",
       "      <td>0.143685</td>\n",
       "      <td>0.0</td>\n",
       "    </tr>\n",
       "    <tr>\n",
       "      <th>4</th>\n",
       "      <td>bridgestone(rotated).png</td>\n",
       "      <td>tommyhilfiger.png</td>\n",
       "      <td>0.144734</td>\n",
       "      <td>20.448841</td>\n",
       "      <td>0.859818</td>\n",
       "      <td>0.041631</td>\n",
       "      <td>0.0</td>\n",
       "    </tr>\n",
       "    <tr>\n",
       "      <th>...</th>\n",
       "      <td>...</td>\n",
       "      <td>...</td>\n",
       "      <td>...</td>\n",
       "      <td>...</td>\n",
       "      <td>...</td>\n",
       "      <td>...</td>\n",
       "      <td>...</td>\n",
       "    </tr>\n",
       "    <tr>\n",
       "      <th>205</th>\n",
       "      <td>apple(rotated).png</td>\n",
       "      <td>aldi.png</td>\n",
       "      <td>0.003482</td>\n",
       "      <td>34.371224</td>\n",
       "      <td>0.629810</td>\n",
       "      <td>0.139893</td>\n",
       "      <td>0.0</td>\n",
       "    </tr>\n",
       "    <tr>\n",
       "      <th>206</th>\n",
       "      <td>apple(rotated).png</td>\n",
       "      <td>caterpillar.png</td>\n",
       "      <td>0.324995</td>\n",
       "      <td>30.821309</td>\n",
       "      <td>0.891849</td>\n",
       "      <td>0.078414</td>\n",
       "      <td>0.0</td>\n",
       "    </tr>\n",
       "    <tr>\n",
       "      <th>207</th>\n",
       "      <td>apple(rotated).png</td>\n",
       "      <td>chiquita.png</td>\n",
       "      <td>0.152973</td>\n",
       "      <td>41.590577</td>\n",
       "      <td>0.164431</td>\n",
       "      <td>0.142274</td>\n",
       "      <td>0.0</td>\n",
       "    </tr>\n",
       "    <tr>\n",
       "      <th>208</th>\n",
       "      <td>apple(rotated).png</td>\n",
       "      <td>bmw.png</td>\n",
       "      <td>0.335953</td>\n",
       "      <td>22.853526</td>\n",
       "      <td>0.690537</td>\n",
       "      <td>0.109477</td>\n",
       "      <td>0.0</td>\n",
       "    </tr>\n",
       "    <tr>\n",
       "      <th>209</th>\n",
       "      <td>apple(rotated).png</td>\n",
       "      <td>nbc.png</td>\n",
       "      <td>0.246191</td>\n",
       "      <td>41.975263</td>\n",
       "      <td>0.843368</td>\n",
       "      <td>0.121867</td>\n",
       "      <td>0.0</td>\n",
       "    </tr>\n",
       "  </tbody>\n",
       "</table>\n",
       "<p>210 rows × 7 columns</p>\n",
       "</div>"
      ],
      "text/plain": [
       "               Applicant Logo      Previous Logo      SSIM  \\\n",
       "0    bridgestone(rotated).png       t-mobile.png  0.325478   \n",
       "1    bridgestone(rotated).png         batman.png  0.205106   \n",
       "2    bridgestone(rotated).png     burgerking.png  0.242524   \n",
       "3    bridgestone(rotated).png        doritos.png  0.305761   \n",
       "4    bridgestone(rotated).png  tommyhilfiger.png  0.144734   \n",
       "..                        ...                ...       ...   \n",
       "205        apple(rotated).png           aldi.png  0.003482   \n",
       "206        apple(rotated).png    caterpillar.png  0.324995   \n",
       "207        apple(rotated).png       chiquita.png  0.152973   \n",
       "208        apple(rotated).png            bmw.png  0.335953   \n",
       "209        apple(rotated).png            nbc.png  0.246191   \n",
       "\n",
       "     Color Similarity Score  Shape Complexity Score  Template Matching  \\\n",
       "0                 41.099236                0.874141           0.056666   \n",
       "1                 33.646576                0.913518           0.068026   \n",
       "2                 33.942704                0.679073           0.074275   \n",
       "3                 28.283435                0.713691           0.143685   \n",
       "4                 20.448841                0.859818           0.041631   \n",
       "..                      ...                     ...                ...   \n",
       "205               34.371224                0.629810           0.139893   \n",
       "206               30.821309                0.891849           0.078414   \n",
       "207               41.590577                0.164431           0.142274   \n",
       "208               22.853526                0.690537           0.109477   \n",
       "209               41.975263                0.843368           0.121867   \n",
       "\n",
       "     Text Similarity Score  \n",
       "0                      0.0  \n",
       "1                      0.0  \n",
       "2                      0.0  \n",
       "3                      0.0  \n",
       "4                      0.0  \n",
       "..                     ...  \n",
       "205                    0.0  \n",
       "206                    0.0  \n",
       "207                    0.0  \n",
       "208                    0.0  \n",
       "209                    0.0  \n",
       "\n",
       "[210 rows x 7 columns]"
      ]
     },
     "execution_count": 270,
     "metadata": {},
     "output_type": "execute_result"
    }
   ],
   "source": [
    "data_dfs['df6']"
   ]
  },
  {
   "cell_type": "code",
   "execution_count": null,
   "id": "3c24cb43",
   "metadata": {},
   "outputs": [],
   "source": [
    "for logo "
   ]
  },
  {
   "cell_type": "code",
   "execution_count": null,
   "id": "9c194121",
   "metadata": {},
   "outputs": [],
   "source": []
  },
  {
   "cell_type": "code",
   "execution_count": null,
   "id": "e1133211",
   "metadata": {},
   "outputs": [],
   "source": []
  },
  {
   "cell_type": "code",
   "execution_count": null,
   "id": "ec88dc88",
   "metadata": {},
   "outputs": [],
   "source": []
  },
  {
   "cell_type": "code",
   "execution_count": null,
   "id": "d3ec2f00",
   "metadata": {},
   "outputs": [],
   "source": []
  },
  {
   "cell_type": "code",
   "execution_count": null,
   "id": "f9eaac20",
   "metadata": {},
   "outputs": [],
   "source": []
  },
  {
   "cell_type": "code",
   "execution_count": null,
   "id": "c37e63ce",
   "metadata": {},
   "outputs": [],
   "source": [
    "from scipy.spatial.distance import euclidean\n",
    "euclidean([123, 123, 123])"
   ]
  },
  {
   "cell_type": "code",
   "execution_count": 275,
   "id": "e9bed3b6",
   "metadata": {},
   "outputs": [
    {
     "data": {
      "text/html": [
       "<div>\n",
       "<style scoped>\n",
       "    .dataframe tbody tr th:only-of-type {\n",
       "        vertical-align: middle;\n",
       "    }\n",
       "\n",
       "    .dataframe tbody tr th {\n",
       "        vertical-align: top;\n",
       "    }\n",
       "\n",
       "    .dataframe thead th {\n",
       "        text-align: right;\n",
       "    }\n",
       "</style>\n",
       "<table border=\"1\" class=\"dataframe\">\n",
       "  <thead>\n",
       "    <tr style=\"text-align: right;\">\n",
       "      <th></th>\n",
       "      <th>Applicant Logo</th>\n",
       "      <th>Color Similarity Score</th>\n",
       "      <th>Previous Logo</th>\n",
       "    </tr>\n",
       "  </thead>\n",
       "  <tbody>\n",
       "    <tr>\n",
       "      <th>10</th>\n",
       "      <td>microsoft(rotated).png</td>\n",
       "      <td>65.240508</td>\n",
       "      <td>t-mobile.png</td>\n",
       "    </tr>\n",
       "    <tr>\n",
       "      <th>15</th>\n",
       "      <td>tommyhilfiger(rotated).png</td>\n",
       "      <td>63.245055</td>\n",
       "      <td>chiquita.png</td>\n",
       "    </tr>\n",
       "    <tr>\n",
       "      <th>4</th>\n",
       "      <td>bridgestone(rotated).png</td>\n",
       "      <td>63.162917</td>\n",
       "      <td>microsoft.png</td>\n",
       "    </tr>\n",
       "    <tr>\n",
       "      <th>7</th>\n",
       "      <td>chiquita(rotated).png</td>\n",
       "      <td>63.077786</td>\n",
       "      <td>tommyhilfiger.png</td>\n",
       "    </tr>\n",
       "    <tr>\n",
       "      <th>0</th>\n",
       "      <td>aldi(rotated).png</td>\n",
       "      <td>62.236354</td>\n",
       "      <td>microsoft.png</td>\n",
       "    </tr>\n",
       "    <tr>\n",
       "      <th>6</th>\n",
       "      <td>caterpillar(rotated).png</td>\n",
       "      <td>61.991520</td>\n",
       "      <td>bmw.png</td>\n",
       "    </tr>\n",
       "    <tr>\n",
       "      <th>5</th>\n",
       "      <td>burgerking(rotated).png</td>\n",
       "      <td>61.464623</td>\n",
       "      <td>chiquita.png</td>\n",
       "    </tr>\n",
       "    <tr>\n",
       "      <th>2</th>\n",
       "      <td>batman(rotated).png</td>\n",
       "      <td>59.944106</td>\n",
       "      <td>microsoft.png</td>\n",
       "    </tr>\n",
       "    <tr>\n",
       "      <th>1</th>\n",
       "      <td>apple(rotated).png</td>\n",
       "      <td>59.829046</td>\n",
       "      <td>microsoft.png</td>\n",
       "    </tr>\n",
       "    <tr>\n",
       "      <th>3</th>\n",
       "      <td>bmw(rotated).png</td>\n",
       "      <td>59.279722</td>\n",
       "      <td>microsoft.png</td>\n",
       "    </tr>\n",
       "    <tr>\n",
       "      <th>8</th>\n",
       "      <td>disney(rotated).png</td>\n",
       "      <td>59.249265</td>\n",
       "      <td>microsoft.png</td>\n",
       "    </tr>\n",
       "    <tr>\n",
       "      <th>9</th>\n",
       "      <td>doritos(rotated).png</td>\n",
       "      <td>57.924364</td>\n",
       "      <td>microsoft.png</td>\n",
       "    </tr>\n",
       "    <tr>\n",
       "      <th>12</th>\n",
       "      <td>porsche(rotated).png</td>\n",
       "      <td>56.953283</td>\n",
       "      <td>microsoft.png</td>\n",
       "    </tr>\n",
       "    <tr>\n",
       "      <th>11</th>\n",
       "      <td>nbc(rotated).png</td>\n",
       "      <td>50.403906</td>\n",
       "      <td>bmw.png</td>\n",
       "    </tr>\n",
       "    <tr>\n",
       "      <th>13</th>\n",
       "      <td>t-mobile(rotated).png</td>\n",
       "      <td>50.268199</td>\n",
       "      <td>t-mobile.png</td>\n",
       "    </tr>\n",
       "    <tr>\n",
       "      <th>14</th>\n",
       "      <td>t-mobile(rotated).png</td>\n",
       "      <td>50.268199</td>\n",
       "      <td>chiquita.png</td>\n",
       "    </tr>\n",
       "  </tbody>\n",
       "</table>\n",
       "</div>"
      ],
      "text/plain": [
       "                Applicant Logo  Color Similarity Score      Previous Logo\n",
       "10      microsoft(rotated).png               65.240508       t-mobile.png\n",
       "15  tommyhilfiger(rotated).png               63.245055       chiquita.png\n",
       "4     bridgestone(rotated).png               63.162917      microsoft.png\n",
       "7        chiquita(rotated).png               63.077786  tommyhilfiger.png\n",
       "0            aldi(rotated).png               62.236354      microsoft.png\n",
       "6     caterpillar(rotated).png               61.991520            bmw.png\n",
       "5      burgerking(rotated).png               61.464623       chiquita.png\n",
       "2          batman(rotated).png               59.944106      microsoft.png\n",
       "1           apple(rotated).png               59.829046      microsoft.png\n",
       "3             bmw(rotated).png               59.279722      microsoft.png\n",
       "8          disney(rotated).png               59.249265      microsoft.png\n",
       "9         doritos(rotated).png               57.924364      microsoft.png\n",
       "12        porsche(rotated).png               56.953283      microsoft.png\n",
       "11            nbc(rotated).png               50.403906            bmw.png\n",
       "13       t-mobile(rotated).png               50.268199       t-mobile.png\n",
       "14       t-mobile(rotated).png               50.268199       chiquita.png"
      ]
     },
     "execution_count": 275,
     "metadata": {},
     "output_type": "execute_result"
    }
   ],
   "source": [
    "df1 = list(data_dfs.values())[1]\n",
    "\n",
    "prev_color = df1[['Previous Logo', 'Color Similarity Score']]\n",
    "appl_color = df1[['Applicant Logo', 'Color Similarity Score']]\n",
    "thing = (appl_color.groupby('Applicant Logo')\n",
    "         .max().reset_index()\n",
    "         .merge(prev_color)\n",
    "         .drop_duplicates()\n",
    "         .iloc[:50])\n",
    "\n",
    "thing.sort_values('Color Similarity Score', ascending=False)\n"
   ]
  },
  {
   "cell_type": "code",
   "execution_count": 238,
   "id": "4c3b654e",
   "metadata": {},
   "outputs": [],
   "source": [
    "dd_colors = applicant_logos[29].color_detect()"
   ]
  },
  {
   "cell_type": "code",
   "execution_count": 239,
   "id": "8a14895c",
   "metadata": {},
   "outputs": [
    {
     "data": {
      "text/plain": [
       "{(164, 116, 113): 0.1734857497543061,\n",
       " (214, 3, 111): 0.40454145761133814,\n",
       " (240, 110, 27): 0.4219727926343558}"
      ]
     },
     "execution_count": 239,
     "metadata": {},
     "output_type": "execute_result"
    }
   ],
   "source": [
    "dd_colors"
   ]
  },
  {
   "cell_type": "code",
   "execution_count": 240,
   "id": "a74286d8",
   "metadata": {},
   "outputs": [
    {
     "data": {
      "image/png": "[encoded data removed]",
      "text/plain": [
       "<Figure size 640x480 with 1 Axes>"
      ]
     },
     "metadata": {},
     "output_type": "display_data"
    }
   ],
   "source": [
    "plt.imshow([list(dd_colors.keys())])\n",
    "plt.xticks([]), plt.yticks([])\n",
    "plt.show()"
   ]
  },
  {
   "cell_type": "code",
   "execution_count": 271,
   "id": "668c4acc",
   "metadata": {},
   "outputs": [
    {
     "name": "stdout",
     "output_type": "stream",
     "text": [
      "bridgestone(rotated).png\n"
     ]
    },
    {
     "data": {
      "image/png": "[encoded data removed]",
      "text/plain": [
       "<Figure size 640x480 with 1 Axes>"
      ]
     },
     "metadata": {},
     "output_type": "display_data"
    },
    {
     "name": "stdout",
     "output_type": "stream",
     "text": [
      "porsche(rotated).png\n"
     ]
    },
    {
     "data": {
      "image/png": "[encoded data removed]",
      "text/plain": [
       "<Figure size 640x480 with 1 Axes>"
      ]
     },
     "metadata": {},
     "output_type": "display_data"
    },
    {
     "name": "stdout",
     "output_type": "stream",
     "text": [
      "doritos(rotated).png\n"
     ]
    },
    {
     "data": {
      "image/png": "[encoded data removed]",
      "text/plain": [
       "<Figure size 640x480 with 1 Axes>"
      ]
     },
     "metadata": {},
     "output_type": "display_data"
    },
    {
     "name": "stdout",
     "output_type": "stream",
     "text": [
      "nbc(rotated).png\n"
     ]
    },
    {
     "data": {
      "image/png": "[encoded data removed]",
      "text/plain": [
       "<Figure size 640x480 with 1 Axes>"
      ]
     },
     "metadata": {},
     "output_type": "display_data"
    },
    {
     "name": "stdout",
     "output_type": "stream",
     "text": [
      "caterpillar(rotated).png\n"
     ]
    },
    {
     "data": {
      "image/png": "[encoded data removed]",
      "text/plain": [
       "<Figure size 640x480 with 1 Axes>"
      ]
     },
     "metadata": {},
     "output_type": "display_data"
    },
    {
     "name": "stdout",
     "output_type": "stream",
     "text": [
      "chiquita(rotated).png\n"
     ]
    },
    {
     "data": {
      "image/png": "[encoded data removed]",
      "text/plain": [
       "<Figure size 640x480 with 1 Axes>"
      ]
     },
     "metadata": {},
     "output_type": "display_data"
    },
    {
     "name": "stdout",
     "output_type": "stream",
     "text": [
      "batman(rotated).png\n"
     ]
    },
    {
     "data": {
      "image/png": "[encoded data removed]",
      "text/plain": [
       "<Figure size 640x480 with 1 Axes>"
      ]
     },
     "metadata": {},
     "output_type": "display_data"
    },
    {
     "name": "stdout",
     "output_type": "stream",
     "text": [
      "t-mobile(rotated).png\n"
     ]
    },
    {
     "data": {
      "image/png": "[encoded data removed]",
      "text/plain": [
       "<Figure size 640x480 with 1 Axes>"
      ]
     },
     "metadata": {},
     "output_type": "display_data"
    },
    {
     "name": "stdout",
     "output_type": "stream",
     "text": [
      "disney(rotated).png\n"
     ]
    },
    {
     "data": {
      "image/png": "[encoded data removed]",
      "text/plain": [
       "<Figure size 640x480 with 1 Axes>"
      ]
     },
     "metadata": {},
     "output_type": "display_data"
    },
    {
     "name": "stdout",
     "output_type": "stream",
     "text": [
      "burgerking(rotated).png\n"
     ]
    },
    {
     "data": {
      "image/png": "[encoded data removed]",
      "text/plain": [
       "<Figure size 640x480 with 1 Axes>"
      ]
     },
     "metadata": {},
     "output_type": "display_data"
    },
    {
     "name": "stdout",
     "output_type": "stream",
     "text": [
      "tommyhilfiger(rotated).png\n"
     ]
    },
    {
     "data": {
      "image/png": "[encoded data removed]",
      "text/plain": [
       "<Figure size 640x480 with 1 Axes>"
      ]
     },
     "metadata": {},
     "output_type": "display_data"
    },
    {
     "name": "stdout",
     "output_type": "stream",
     "text": [
      "bmw(rotated).png\n"
     ]
    },
    {
     "data": {
      "image/png": "[encoded data removed]",
      "text/plain": [
       "<Figure size 640x480 with 1 Axes>"
      ]
     },
     "metadata": {},
     "output_type": "display_data"
    },
    {
     "name": "stdout",
     "output_type": "stream",
     "text": [
      "microsoft(rotated).png\n"
     ]
    },
    {
     "data": {
      "image/png": "[encoded data removed]",
      "text/plain": [
       "<Figure size 640x480 with 1 Axes>"
      ]
     },
     "metadata": {},
     "output_type": "display_data"
    },
    {
     "name": "stdout",
     "output_type": "stream",
     "text": [
      "aldi(rotated).png\n"
     ]
    },
    {
     "data": {
      "image/png": "[encoded data removed]",
      "text/plain": [
       "<Figure size 640x480 with 1 Axes>"
      ]
     },
     "metadata": {},
     "output_type": "display_data"
    },
    {
     "name": "stdout",
     "output_type": "stream",
     "text": [
      "apple(rotated).png\n"
     ]
    },
    {
     "data": {
      "image/png": "[encoded data removed]",
      "text/plain": [
       "<Figure size 640x480 with 1 Axes>"
      ]
     },
     "metadata": {},
     "output_type": "display_data"
    }
   ],
   "source": [
    "for logo in applicant_logos:\n",
    "    print(logo.name)\n",
    "    logo.show_colors()"
   ]
  },
  {
   "cell_type": "code",
   "execution_count": 272,
   "id": "03a7f420",
   "metadata": {},
   "outputs": [
    {
     "name": "stdout",
     "output_type": "stream",
     "text": [
      "t-mobile.png\n"
     ]
    },
    {
     "data": {
      "image/png": "[encoded data removed]",
      "text/plain": [
       "<Figure size 640x480 with 1 Axes>"
      ]
     },
     "metadata": {},
     "output_type": "display_data"
    },
    {
     "name": "stdout",
     "output_type": "stream",
     "text": [
      "batman.png\n"
     ]
    },
    {
     "data": {
      "image/png": "[encoded data removed]",
      "text/plain": [
       "<Figure size 640x480 with 1 Axes>"
      ]
     },
     "metadata": {},
     "output_type": "display_data"
    },
    {
     "name": "stdout",
     "output_type": "stream",
     "text": [
      "burgerking.png\n"
     ]
    },
    {
     "data": {
      "image/png": "[encoded data removed]",
      "text/plain": [
       "<Figure size 640x480 with 1 Axes>"
      ]
     },
     "metadata": {},
     "output_type": "display_data"
    },
    {
     "name": "stdout",
     "output_type": "stream",
     "text": [
      "doritos.png\n"
     ]
    },
    {
     "data": {
      "image/png": "[encoded data removed]",
      "text/plain": [
       "<Figure size 640x480 with 1 Axes>"
      ]
     },
     "metadata": {},
     "output_type": "display_data"
    },
    {
     "name": "stdout",
     "output_type": "stream",
     "text": [
      "tommyhilfiger.png\n"
     ]
    },
    {
     "data": {
      "image/png": "[encoded data removed]",
      "text/plain": [
       "<Figure size 640x480 with 1 Axes>"
      ]
     },
     "metadata": {},
     "output_type": "display_data"
    },
    {
     "name": "stdout",
     "output_type": "stream",
     "text": [
      "bridgestone.png\n"
     ]
    },
    {
     "data": {
      "image/png": "[encoded data removed]",
      "text/plain": [
       "<Figure size 640x480 with 1 Axes>"
      ]
     },
     "metadata": {},
     "output_type": "display_data"
    },
    {
     "name": "stdout",
     "output_type": "stream",
     "text": [
      "disney.png\n"
     ]
    },
    {
     "data": {
      "image/png": "[encoded data removed]",
      "text/plain": [
       "<Figure size 640x480 with 1 Axes>"
      ]
     },
     "metadata": {},
     "output_type": "display_data"
    },
    {
     "name": "stdout",
     "output_type": "stream",
     "text": [
      "microsoft.png\n"
     ]
    },
    {
     "data": {
      "image/png": "[encoded data removed]",
      "text/plain": [
       "<Figure size 640x480 with 1 Axes>"
      ]
     },
     "metadata": {},
     "output_type": "display_data"
    },
    {
     "name": "stdout",
     "output_type": "stream",
     "text": [
      "apple.png\n"
     ]
    },
    {
     "data": {
      "image/png": "[encoded data removed]",
      "text/plain": [
       "<Figure size 640x480 with 1 Axes>"
      ]
     },
     "metadata": {},
     "output_type": "display_data"
    },
    {
     "name": "stdout",
     "output_type": "stream",
     "text": [
      "aldi.png\n"
     ]
    },
    {
     "data": {
      "image/png": "[encoded data removed]",
      "text/plain": [
       "<Figure size 640x480 with 1 Axes>"
      ]
     },
     "metadata": {},
     "output_type": "display_data"
    },
    {
     "name": "stdout",
     "output_type": "stream",
     "text": [
      "caterpillar.png\n"
     ]
    },
    {
     "data": {
      "image/png": "[encoded data removed]",
      "text/plain": [
       "<Figure size 640x480 with 1 Axes>"
      ]
     },
     "metadata": {},
     "output_type": "display_data"
    },
    {
     "name": "stdout",
     "output_type": "stream",
     "text": [
      "chiquita.png\n"
     ]
    },
    {
     "data": {
      "image/png": "[encoded data removed]",
      "text/plain": [
       "<Figure size 640x480 with 1 Axes>"
      ]
     },
     "metadata": {},
     "output_type": "display_data"
    },
    {
     "name": "stdout",
     "output_type": "stream",
     "text": [
      "bmw.png\n"
     ]
    },
    {
     "data": {
      "image/png": "[encoded data removed]",
      "text/plain": [
       "<Figure size 640x480 with 1 Axes>"
      ]
     },
     "metadata": {},
     "output_type": "display_data"
    },
    {
     "name": "stdout",
     "output_type": "stream",
     "text": [
      "nbc.png\n"
     ]
    },
    {
     "data": {
      "image/png": "[encoded data removed]",
      "text/plain": [
       "<Figure size 640x480 with 1 Axes>"
      ]
     },
     "metadata": {},
     "output_type": "display_data"
    },
    {
     "name": "stdout",
     "output_type": "stream",
     "text": [
      "porsche.png\n"
     ]
    },
    {
     "data": {
      "image/png": "[encoded data removed]",
      "text/plain": [
       "<Figure size 640x480 with 1 Axes>"
      ]
     },
     "metadata": {},
     "output_type": "display_data"
    },
    {
     "name": "stdout",
     "output_type": "stream",
     "text": [
      "bridgestone(rotated).png\n"
     ]
    },
    {
     "data": {
      "image/png": "[encoded data removed]",
      "text/plain": [
       "<Figure size 640x480 with 1 Axes>"
      ]
     },
     "metadata": {},
     "output_type": "display_data"
    }
   ],
   "source": [
    "for logo in previous_logos:\n",
    "    print(logo.name)\n",
    "    logo.show_colors()"
   ]
  },
  {
   "cell_type": "markdown",
   "id": "ba0ede3f",
   "metadata": {},
   "source": [
    "# Time Complexity Improvement\n",
    "\n",
    "- 1-2 seconds to initialize each logo (1.5 on average)\n",
    "- 1-2 seconds to compare two logos (1.5 on average)\n",
    "- So runtime of whole program can be calculated using this formula (plug in number of applicants (a) and number of previous (p))\n",
    "\n",
    "$$\\large \\text{number of minutes} \\approx \\frac {(a+p) + (a \\cdot p)}{60}$$"
   ]
  },
  {
   "cell_type": "code",
   "execution_count": 30,
   "id": "f91e936a",
   "metadata": {},
   "outputs": [],
   "source": []
  },
  {
   "cell_type": "code",
   "execution_count": null,
   "id": "bc1dba91",
   "metadata": {},
   "outputs": [],
   "source": []
  },
  {
   "cell_type": "code",
   "execution_count": 35,
   "id": "8a36ff8b",
   "metadata": {},
   "outputs": [],
   "source": []
  },
  {
   "cell_type": "markdown",
   "id": "10a32965",
   "metadata": {},
   "source": [
    "## Template matching should be scaled! \n",
    "The first DataFrame shows how inaccurate template matching is when a single threshold is set for all pairs. However, when you look at the highest template matching score for each applicant logo, results are significantly better. "
   ]
  },
  {
   "cell_type": "markdown",
   "id": "932e956b",
   "metadata": {},
   "source": [
    "### Top 16 Template Matches (3 actual matches)"
   ]
  },
  {
   "cell_type": "code",
   "execution_count": 85,
   "id": "fcf9a81c",
   "metadata": {},
   "outputs": [
    {
     "data": {
      "text/html": [
       "<div>\n",
       "<style scoped>\n",
       "    .dataframe tbody tr th:only-of-type {\n",
       "        vertical-align: middle;\n",
       "    }\n",
       "\n",
       "    .dataframe tbody tr th {\n",
       "        vertical-align: top;\n",
       "    }\n",
       "\n",
       "    .dataframe thead th {\n",
       "        text-align: right;\n",
       "    }\n",
       "</style>\n",
       "<table border=\"1\" class=\"dataframe\">\n",
       "  <thead>\n",
       "    <tr style=\"text-align: right;\">\n",
       "      <th></th>\n",
       "      <th>Applicant Logo</th>\n",
       "      <th>Template Matching</th>\n",
       "      <th>Previous Logo</th>\n",
       "    </tr>\n",
       "  </thead>\n",
       "  <tbody>\n",
       "    <tr>\n",
       "      <th>441</th>\n",
       "      <td>mastercard.png</td>\n",
       "      <td>0.566091</td>\n",
       "      <td>Mastercard (reversed).png</td>\n",
       "    </tr>\n",
       "    <tr>\n",
       "      <th>477</th>\n",
       "      <td>facebook.png</td>\n",
       "      <td>0.466919</td>\n",
       "      <td>Facebook (reversed).png</td>\n",
       "    </tr>\n",
       "    <tr>\n",
       "      <th>491</th>\n",
       "      <td>facebook.png</td>\n",
       "      <td>0.420871</td>\n",
       "      <td>nikon.png</td>\n",
       "    </tr>\n",
       "    <tr>\n",
       "      <th>415</th>\n",
       "      <td>espn.png</td>\n",
       "      <td>0.419725</td>\n",
       "      <td>CNN (reversed).png</td>\n",
       "    </tr>\n",
       "    <tr>\n",
       "      <th>472</th>\n",
       "      <td>facebook.png</td>\n",
       "      <td>0.414893</td>\n",
       "      <td>HomeDepot (reversed).png</td>\n",
       "    </tr>\n",
       "    <tr>\n",
       "      <th>418</th>\n",
       "      <td>espn.png</td>\n",
       "      <td>0.414081</td>\n",
       "      <td>Facebook (reversed).png</td>\n",
       "    </tr>\n",
       "    <tr>\n",
       "      <th>409</th>\n",
       "      <td>espn.png</td>\n",
       "      <td>0.414081</td>\n",
       "      <td>HolidayInn (reversed).png</td>\n",
       "    </tr>\n",
       "    <tr>\n",
       "      <th>413</th>\n",
       "      <td>espn.png</td>\n",
       "      <td>0.408475</td>\n",
       "      <td>HomeDepot (reversed).png</td>\n",
       "    </tr>\n",
       "    <tr>\n",
       "      <th>431</th>\n",
       "      <td>espn.png</td>\n",
       "      <td>0.405530</td>\n",
       "      <td>fedex.png</td>\n",
       "    </tr>\n",
       "    <tr>\n",
       "      <th>422</th>\n",
       "      <td>espn.png</td>\n",
       "      <td>0.404455</td>\n",
       "      <td>ESPN (reversed).png</td>\n",
       "    </tr>\n",
       "    <tr>\n",
       "      <th>363</th>\n",
       "      <td>holidayinn.png</td>\n",
       "      <td>0.396468</td>\n",
       "      <td>Facebook (reversed).png</td>\n",
       "    </tr>\n",
       "    <tr>\n",
       "      <th>360</th>\n",
       "      <td>holidayinn.png</td>\n",
       "      <td>0.392912</td>\n",
       "      <td>CNN (reversed).png</td>\n",
       "    </tr>\n",
       "    <tr>\n",
       "      <th>376</th>\n",
       "      <td>holidayinn.png</td>\n",
       "      <td>0.388029</td>\n",
       "      <td>fedex.png</td>\n",
       "    </tr>\n",
       "    <tr>\n",
       "      <th>486</th>\n",
       "      <td>facebook.png</td>\n",
       "      <td>0.382986</td>\n",
       "      <td>philips.png</td>\n",
       "    </tr>\n",
       "    <tr>\n",
       "      <th>490</th>\n",
       "      <td>facebook.png</td>\n",
       "      <td>0.376854</td>\n",
       "      <td>fedex.png</td>\n",
       "    </tr>\n",
       "    <tr>\n",
       "      <th>371</th>\n",
       "      <td>holidayinn.png</td>\n",
       "      <td>0.372486</td>\n",
       "      <td>BaskinRobbins.png</td>\n",
       "    </tr>\n",
       "  </tbody>\n",
       "</table>\n",
       "</div>"
      ],
      "text/plain": [
       "     Applicant Logo  Template Matching              Previous Logo\n",
       "441  mastercard.png           0.566091  Mastercard (reversed).png\n",
       "477    facebook.png           0.466919    Facebook (reversed).png\n",
       "491    facebook.png           0.420871                  nikon.png\n",
       "415        espn.png           0.419725         CNN (reversed).png\n",
       "472    facebook.png           0.414893   HomeDepot (reversed).png\n",
       "418        espn.png           0.414081    Facebook (reversed).png\n",
       "409        espn.png           0.414081  HolidayInn (reversed).png\n",
       "413        espn.png           0.408475   HomeDepot (reversed).png\n",
       "431        espn.png           0.405530                  fedex.png\n",
       "422        espn.png           0.404455        ESPN (reversed).png\n",
       "363  holidayinn.png           0.396468    Facebook (reversed).png\n",
       "360  holidayinn.png           0.392912         CNN (reversed).png\n",
       "376  holidayinn.png           0.388029                  fedex.png\n",
       "486    facebook.png           0.382986                philips.png\n",
       "490    facebook.png           0.376854                  fedex.png\n",
       "371  holidayinn.png           0.372486          BaskinRobbins.png"
      ]
     },
     "execution_count": 85,
     "metadata": {},
     "output_type": "execute_result"
    }
   ],
   "source": [
    "df4 = data_dfs['df4']\n",
    "df4[['Applicant Logo', 'Template Matching', 'Previous Logo']].sort_values('Template Matching', ascending = False).iloc[:16]"
   ]
  },
  {
   "cell_type": "markdown",
   "id": "0bec3f8c",
   "metadata": {},
   "source": [
    "### Highest Template Match for each of 16 applicants (7 actual matches)"
   ]
  },
  {
   "cell_type": "code",
   "execution_count": 84,
   "id": "64540a04",
   "metadata": {},
   "outputs": [
    {
     "data": {
      "text/html": [
       "<div>\n",
       "<style scoped>\n",
       "    .dataframe tbody tr th:only-of-type {\n",
       "        vertical-align: middle;\n",
       "    }\n",
       "\n",
       "    .dataframe tbody tr th {\n",
       "        vertical-align: top;\n",
       "    }\n",
       "\n",
       "    .dataframe thead th {\n",
       "        text-align: right;\n",
       "    }\n",
       "</style>\n",
       "<table border=\"1\" class=\"dataframe\">\n",
       "  <thead>\n",
       "    <tr style=\"text-align: right;\">\n",
       "      <th></th>\n",
       "      <th>Applicant Logo</th>\n",
       "      <th>Template Matching</th>\n",
       "      <th>Previous Logo</th>\n",
       "    </tr>\n",
       "  </thead>\n",
       "  <tbody>\n",
       "    <tr>\n",
       "      <th>0</th>\n",
       "      <td>BaskinRobbins.png</td>\n",
       "      <td>0.343831</td>\n",
       "      <td>CNN (reversed).png</td>\n",
       "    </tr>\n",
       "    <tr>\n",
       "      <th>1</th>\n",
       "      <td>cnn.png</td>\n",
       "      <td>0.252814</td>\n",
       "      <td>Mastercard (reversed).png</td>\n",
       "    </tr>\n",
       "    <tr>\n",
       "      <th>2</th>\n",
       "      <td>dhl.png</td>\n",
       "      <td>0.313572</td>\n",
       "      <td>DHL (reversed).png</td>\n",
       "    </tr>\n",
       "    <tr>\n",
       "      <th>3</th>\n",
       "      <td>dunkin.png</td>\n",
       "      <td>0.256506</td>\n",
       "      <td>Dunkin (reversed).png</td>\n",
       "    </tr>\n",
       "    <tr>\n",
       "      <th>4</th>\n",
       "      <td>espn.png</td>\n",
       "      <td>0.419725</td>\n",
       "      <td>CNN (reversed).png</td>\n",
       "    </tr>\n",
       "    <tr>\n",
       "      <th>5</th>\n",
       "      <td>facebook.png</td>\n",
       "      <td>0.466919</td>\n",
       "      <td>Facebook (reversed).png</td>\n",
       "    </tr>\n",
       "    <tr>\n",
       "      <th>6</th>\n",
       "      <td>fedex.png</td>\n",
       "      <td>0.213830</td>\n",
       "      <td>BaskinRobbins.png</td>\n",
       "    </tr>\n",
       "    <tr>\n",
       "      <th>7</th>\n",
       "      <td>ford.png</td>\n",
       "      <td>0.197845</td>\n",
       "      <td>Ford (reversed).png</td>\n",
       "    </tr>\n",
       "    <tr>\n",
       "      <th>8</th>\n",
       "      <td>holidayinn.png</td>\n",
       "      <td>0.396468</td>\n",
       "      <td>Facebook (reversed).png</td>\n",
       "    </tr>\n",
       "    <tr>\n",
       "      <th>9</th>\n",
       "      <td>homedepot.png</td>\n",
       "      <td>0.230129</td>\n",
       "      <td>HomeDepot (reversed).png</td>\n",
       "    </tr>\n",
       "    <tr>\n",
       "      <th>10</th>\n",
       "      <td>lacoste.png</td>\n",
       "      <td>0.084460</td>\n",
       "      <td>Lacoste (reversed).png</td>\n",
       "    </tr>\n",
       "    <tr>\n",
       "      <th>11</th>\n",
       "      <td>lacoste_text.png</td>\n",
       "      <td>0.139477</td>\n",
       "      <td>CNN (reversed).png</td>\n",
       "    </tr>\n",
       "    <tr>\n",
       "      <th>12</th>\n",
       "      <td>lyft.png</td>\n",
       "      <td>0.286571</td>\n",
       "      <td>Facebook (reversed).png</td>\n",
       "    </tr>\n",
       "    <tr>\n",
       "      <th>13</th>\n",
       "      <td>mastercard.png</td>\n",
       "      <td>0.566091</td>\n",
       "      <td>Mastercard (reversed).png</td>\n",
       "    </tr>\n",
       "    <tr>\n",
       "      <th>14</th>\n",
       "      <td>nikon.png</td>\n",
       "      <td>0.271185</td>\n",
       "      <td>CNN (reversed).png</td>\n",
       "    </tr>\n",
       "    <tr>\n",
       "      <th>15</th>\n",
       "      <td>philips.png</td>\n",
       "      <td>0.208382</td>\n",
       "      <td>CNN (reversed).png</td>\n",
       "    </tr>\n",
       "    <tr>\n",
       "      <th>16</th>\n",
       "      <td>wholefoods.png</td>\n",
       "      <td>0.214869</td>\n",
       "      <td>ESPN (reversed).png</td>\n",
       "    </tr>\n",
       "  </tbody>\n",
       "</table>\n",
       "</div>"
      ],
      "text/plain": [
       "       Applicant Logo  Template Matching              Previous Logo\n",
       "0   BaskinRobbins.png           0.343831         CNN (reversed).png\n",
       "1             cnn.png           0.252814  Mastercard (reversed).png\n",
       "2             dhl.png           0.313572         DHL (reversed).png\n",
       "3          dunkin.png           0.256506      Dunkin (reversed).png\n",
       "4            espn.png           0.419725         CNN (reversed).png\n",
       "5        facebook.png           0.466919    Facebook (reversed).png\n",
       "6           fedex.png           0.213830          BaskinRobbins.png\n",
       "7            ford.png           0.197845        Ford (reversed).png\n",
       "8      holidayinn.png           0.396468    Facebook (reversed).png\n",
       "9       homedepot.png           0.230129   HomeDepot (reversed).png\n",
       "10        lacoste.png           0.084460     Lacoste (reversed).png\n",
       "11   lacoste_text.png           0.139477         CNN (reversed).png\n",
       "12           lyft.png           0.286571    Facebook (reversed).png\n",
       "13     mastercard.png           0.566091  Mastercard (reversed).png\n",
       "14          nikon.png           0.271185         CNN (reversed).png\n",
       "15        philips.png           0.208382         CNN (reversed).png\n",
       "16     wholefoods.png           0.214869        ESPN (reversed).png"
      ]
     },
     "execution_count": 84,
     "metadata": {},
     "output_type": "execute_result"
    }
   ],
   "source": [
    "prev_template = df4[['Previous Logo', 'Template Matching']]\n",
    "appl_template = df4[['Applicant Logo', 'Template Matching']]\n",
    "appl_template.groupby('Applicant Logo').max().reset_index().merge(prev_template)"
   ]
  },
  {
   "cell_type": "code",
   "execution_count": 71,
   "id": "5b7f7a60",
   "metadata": {},
   "outputs": [
    {
     "name": "stdout",
     "output_type": "stream",
     "text": [
      "Philips (reversed).png eqijiHa\n",
      "\n",
      "HolidayInn (reversed).png \n",
      "DHL (reversed).png \n",
      "Fedex (reversed).png x3bo1\n",
      "\n",
      "22x\n",
      "\n",
      "Mastercard (reversed).png bips19s20m\n",
      "\n",
      "HomeDepot (reversed).png \n",
      "Lacoste (reversed).png AIT2ODAI\n",
      "\n",
      "CNN (reversed).png \n",
      "Dunkin (reversed).png \n",
      "Nikon (reversed).png noni\n",
      "\n",
      "Facebook (reversed).png \n",
      "lyft(reversed).png \n",
      "WholeFoods (reversed).png FIGHW\n",
      "20004\n",
      "\n",
      "BaskinRobbins (reversed).png \n",
      "ESPN (reversed).png ioc:\n",
      "\n",
      "Ford (reversed).png \n",
      "homedepot.png \n",
      "ford.png \n",
      "BaskinRobbins.png \n",
      "philips.png \n",
      "lacoste.png \n",
      "lacoste_text.png LACOSTE @=\n",
      "\n",
      "wholefoods.png MARKET\n",
      "\n",
      "fedex.png \n",
      "nikon.png Nikon\n",
      "\n",
      "cnn.png 2\n",
      "\n",
      "dhl.png \n",
      "holidayinn.png \n",
      "dunkin.png OUNKIN’\n",
      "\n",
      "espn.png Eoril\n",
      "\n",
      "mastercard.png \n",
      "facebook.png \n",
      "lyft.png \n"
     ]
    }
   ],
   "source": [
    "for logo in previous_logos:\n",
    "    print(logo.name, logo.text)"
   ]
  },
  {
   "cell_type": "code",
   "execution_count": 69,
   "id": "15a2f2a6",
   "metadata": {},
   "outputs": [
    {
     "data": {
      "text/plain": [
       "{(157, 175, 166): 0.10245028409090909,\n",
       " (16, 81, 49): 0.3416193181818182,\n",
       " (251, 252, 252): 0.5559303977272727}"
      ]
     },
     "execution_count": 69,
     "metadata": {},
     "output_type": "execute_result"
    }
   ],
   "source": [
    "applicant_logos[6].colors"
   ]
  },
  {
   "cell_type": "code",
   "execution_count": 154,
   "id": "2e45931d",
   "metadata": {},
   "outputs": [
    {
     "data": {
      "text/plain": [
       "BaskinRobbins.png"
      ]
     },
     "execution_count": 154,
     "metadata": {},
     "output_type": "execute_result"
    }
   ],
   "source": [
    "logoA = applicant_logos[5]\n",
    "logoA"
   ]
  },
  {
   "cell_type": "code",
   "execution_count": 168,
   "id": "820ae2f8",
   "metadata": {},
   "outputs": [
    {
     "data": {
      "text/plain": [
       "[GiorgoArmani DunkinDonuts (fake).png,\n",
       " Visa Versace (fake).png,\n",
       " McDonalds (fake).png,\n",
       " ebay chloe (fake).png,\n",
       " Nike Dior (fake).png,\n",
       " McDonalds Stussy (fake).png,\n",
       " Nike(jedi).png,\n",
       " BaskinRobins DonnaKaran (fake).png,\n",
       " Lego(fake).png,\n",
       " Nike(fried).png,\n",
       " PizzaHut MarcJacobs (fake).png,\n",
       " TomFord Youtube (fake).png,\n",
       " Nike(woman).png,\n",
       " DHL YSL (fake).png,\n",
       " Ikea Miumiu (fake).png,\n",
       " BurgerKing CalvinKlein (fake).png,\n",
       " Pepsi Palace (fake).png,\n",
       " LG (fake).png,\n",
       " HomeDepot (fake).png,\n",
       " tokyo2020 (fake).png,\n",
       " Chanel Champion (fake).png,\n",
       " Puma Gucci (fake).png,\n",
       " Shell(fake).png,\n",
       " BaskinRobbins.png]"
      ]
     },
     "execution_count": 168,
     "metadata": {},
     "output_type": "execute_result"
    }
   ],
   "source": [
    "test"
   ]
  },
  {
   "cell_type": "code",
   "execution_count": 167,
   "id": "cb3ff795",
   "metadata": {},
   "outputs": [
    {
     "data": {
      "text/html": [
       "<div>\n",
       "<style scoped>\n",
       "    .dataframe tbody tr th:only-of-type {\n",
       "        vertical-align: middle;\n",
       "    }\n",
       "\n",
       "    .dataframe tbody tr th {\n",
       "        vertical-align: top;\n",
       "    }\n",
       "\n",
       "    .dataframe thead th {\n",
       "        text-align: right;\n",
       "    }\n",
       "</style>\n",
       "<table border=\"1\" class=\"dataframe\">\n",
       "  <thead>\n",
       "    <tr style=\"text-align: right;\">\n",
       "      <th></th>\n",
       "      <th>Logo 1</th>\n",
       "      <th>Logo 2</th>\n",
       "      <th>Similarity Score</th>\n",
       "    </tr>\n",
       "  </thead>\n",
       "  <tbody>\n",
       "    <tr>\n",
       "      <th>9</th>\n",
       "      <td>BaskinRobbins.png</td>\n",
       "      <td>Nike(fried).png</td>\n",
       "      <td>1.000000e+00</td>\n",
       "    </tr>\n",
       "    <tr>\n",
       "      <th>0</th>\n",
       "      <td>BaskinRobbins.png</td>\n",
       "      <td>GiorgoArmani DunkinDonuts (fake).png</td>\n",
       "      <td>9.934217e-01</td>\n",
       "    </tr>\n",
       "    <tr>\n",
       "      <th>17</th>\n",
       "      <td>BaskinRobbins.png</td>\n",
       "      <td>LG (fake).png</td>\n",
       "      <td>9.292078e-01</td>\n",
       "    </tr>\n",
       "    <tr>\n",
       "      <th>12</th>\n",
       "      <td>BaskinRobbins.png</td>\n",
       "      <td>Nike(woman).png</td>\n",
       "      <td>8.893117e-01</td>\n",
       "    </tr>\n",
       "    <tr>\n",
       "      <th>7</th>\n",
       "      <td>BaskinRobbins.png</td>\n",
       "      <td>BaskinRobins DonnaKaran (fake).png</td>\n",
       "      <td>8.526124e-01</td>\n",
       "    </tr>\n",
       "    <tr>\n",
       "      <th>2</th>\n",
       "      <td>BaskinRobbins.png</td>\n",
       "      <td>McDonalds (fake).png</td>\n",
       "      <td>7.960148e-01</td>\n",
       "    </tr>\n",
       "    <tr>\n",
       "      <th>16</th>\n",
       "      <td>BaskinRobbins.png</td>\n",
       "      <td>Pepsi Palace (fake).png</td>\n",
       "      <td>7.301788e-01</td>\n",
       "    </tr>\n",
       "    <tr>\n",
       "      <th>1</th>\n",
       "      <td>BaskinRobbins.png</td>\n",
       "      <td>Visa Versace (fake).png</td>\n",
       "      <td>6.676095e-01</td>\n",
       "    </tr>\n",
       "    <tr>\n",
       "      <th>3</th>\n",
       "      <td>BaskinRobbins.png</td>\n",
       "      <td>ebay chloe (fake).png</td>\n",
       "      <td>6.599102e-01</td>\n",
       "    </tr>\n",
       "    <tr>\n",
       "      <th>4</th>\n",
       "      <td>BaskinRobbins.png</td>\n",
       "      <td>Nike Dior (fake).png</td>\n",
       "      <td>6.592395e-01</td>\n",
       "    </tr>\n",
       "    <tr>\n",
       "      <th>18</th>\n",
       "      <td>BaskinRobbins.png</td>\n",
       "      <td>HomeDepot (fake).png</td>\n",
       "      <td>6.223343e-01</td>\n",
       "    </tr>\n",
       "    <tr>\n",
       "      <th>19</th>\n",
       "      <td>BaskinRobbins.png</td>\n",
       "      <td>tokyo2020 (fake).png</td>\n",
       "      <td>6.221775e-01</td>\n",
       "    </tr>\n",
       "    <tr>\n",
       "      <th>11</th>\n",
       "      <td>BaskinRobbins.png</td>\n",
       "      <td>TomFord Youtube (fake).png</td>\n",
       "      <td>5.872510e-01</td>\n",
       "    </tr>\n",
       "    <tr>\n",
       "      <th>15</th>\n",
       "      <td>BaskinRobbins.png</td>\n",
       "      <td>BurgerKing CalvinKlein (fake).png</td>\n",
       "      <td>5.547508e-01</td>\n",
       "    </tr>\n",
       "    <tr>\n",
       "      <th>21</th>\n",
       "      <td>BaskinRobbins.png</td>\n",
       "      <td>Puma Gucci (fake).png</td>\n",
       "      <td>5.190803e-01</td>\n",
       "    </tr>\n",
       "    <tr>\n",
       "      <th>13</th>\n",
       "      <td>BaskinRobbins.png</td>\n",
       "      <td>DHL YSL (fake).png</td>\n",
       "      <td>4.889009e-01</td>\n",
       "    </tr>\n",
       "    <tr>\n",
       "      <th>14</th>\n",
       "      <td>BaskinRobbins.png</td>\n",
       "      <td>Ikea Miumiu (fake).png</td>\n",
       "      <td>4.845871e-01</td>\n",
       "    </tr>\n",
       "    <tr>\n",
       "      <th>8</th>\n",
       "      <td>BaskinRobbins.png</td>\n",
       "      <td>Lego(fake).png</td>\n",
       "      <td>4.129735e-01</td>\n",
       "    </tr>\n",
       "    <tr>\n",
       "      <th>6</th>\n",
       "      <td>BaskinRobbins.png</td>\n",
       "      <td>Nike(jedi).png</td>\n",
       "      <td>3.387001e-01</td>\n",
       "    </tr>\n",
       "    <tr>\n",
       "      <th>20</th>\n",
       "      <td>BaskinRobbins.png</td>\n",
       "      <td>Chanel Champion (fake).png</td>\n",
       "      <td>3.317759e-01</td>\n",
       "    </tr>\n",
       "    <tr>\n",
       "      <th>5</th>\n",
       "      <td>BaskinRobbins.png</td>\n",
       "      <td>McDonalds Stussy (fake).png</td>\n",
       "      <td>2.138146e-01</td>\n",
       "    </tr>\n",
       "    <tr>\n",
       "      <th>10</th>\n",
       "      <td>BaskinRobbins.png</td>\n",
       "      <td>PizzaHut MarcJacobs (fake).png</td>\n",
       "      <td>1.110223e-16</td>\n",
       "    </tr>\n",
       "  </tbody>\n",
       "</table>\n",
       "</div>"
      ],
      "text/plain": [
       "               Logo 1                                Logo 2  Similarity Score\n",
       "9   BaskinRobbins.png                       Nike(fried).png      1.000000e+00\n",
       "0   BaskinRobbins.png  GiorgoArmani DunkinDonuts (fake).png      9.934217e-01\n",
       "17  BaskinRobbins.png                         LG (fake).png      9.292078e-01\n",
       "12  BaskinRobbins.png                       Nike(woman).png      8.893117e-01\n",
       "7   BaskinRobbins.png    BaskinRobins DonnaKaran (fake).png      8.526124e-01\n",
       "2   BaskinRobbins.png                  McDonalds (fake).png      7.960148e-01\n",
       "16  BaskinRobbins.png               Pepsi Palace (fake).png      7.301788e-01\n",
       "1   BaskinRobbins.png               Visa Versace (fake).png      6.676095e-01\n",
       "3   BaskinRobbins.png                 ebay chloe (fake).png      6.599102e-01\n",
       "4   BaskinRobbins.png                  Nike Dior (fake).png      6.592395e-01\n",
       "18  BaskinRobbins.png                  HomeDepot (fake).png      6.223343e-01\n",
       "19  BaskinRobbins.png                  tokyo2020 (fake).png      6.221775e-01\n",
       "11  BaskinRobbins.png            TomFord Youtube (fake).png      5.872510e-01\n",
       "15  BaskinRobbins.png     BurgerKing CalvinKlein (fake).png      5.547508e-01\n",
       "21  BaskinRobbins.png                 Puma Gucci (fake).png      5.190803e-01\n",
       "13  BaskinRobbins.png                    DHL YSL (fake).png      4.889009e-01\n",
       "14  BaskinRobbins.png                Ikea Miumiu (fake).png      4.845871e-01\n",
       "8   BaskinRobbins.png                        Lego(fake).png      4.129735e-01\n",
       "6   BaskinRobbins.png                        Nike(jedi).png      3.387001e-01\n",
       "20  BaskinRobbins.png            Chanel Champion (fake).png      3.317759e-01\n",
       "5   BaskinRobbins.png           McDonalds Stussy (fake).png      2.138146e-01\n",
       "10  BaskinRobbins.png        PizzaHut MarcJacobs (fake).png      1.110223e-16"
      ]
     },
     "execution_count": 167,
     "metadata": {},
     "output_type": "execute_result"
    }
   ],
   "source": [
    "calculate_logo_shape_complexity_similarity(logoA, test)"
   ]
  },
  {
   "cell_type": "code",
   "execution_count": null,
   "id": "11b8bdbf",
   "metadata": {},
   "outputs": [],
   "source": []
  },
  {
   "cell_type": "code",
   "execution_count": null,
   "id": "ae61dec0",
   "metadata": {},
   "outputs": [],
   "source": []
  }
 ],
 "metadata": {
  "kernelspec": {
   "display_name": "Python 3 (ipykernel)",
   "language": "python",
   "name": "python3"
  },
  "language_info": {
   "codemirror_mode": {
    "name": "ipython",
    "version": 3
   },
   "file_extension": ".py",
   "mimetype": "text/x-python",
   "name": "python",
   "nbconvert_exporter": "python",
   "pygments_lexer": "ipython3",
   "version": "3.11.5"
  }
 },
 "nbformat": 4,
 "nbformat_minor": 5
}
