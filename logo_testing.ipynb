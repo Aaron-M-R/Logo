{
 "cells": [
  {
   "cell_type": "code",
   "execution_count": 1,
   "id": "196d2b2f",
   "metadata": {},
   "outputs": [],
   "source": [
    "%load_ext autoreload\n",
    "%autoreload 2"
   ]
  },
  {
   "cell_type": "code",
   "execution_count": 2,
   "id": "7ea9787b",
   "metadata": {},
   "outputs": [],
   "source": [
    "from logo import Logo\n",
    "import logo_comparison\n",
    "from logo_comparison import *\n",
    "\n",
    "import os\n",
    "import pandas as pd\n",
    "import numpy as np\n",
    "from tqdm import tqdm\n",
    "import matplotlib.pyplot as plt\n",
    "from sklearn.preprocessing import MinMaxScaler"
   ]
  },
  {
   "cell_type": "code",
   "execution_count": 3,
   "id": "b5a5c4dd",
   "metadata": {},
   "outputs": [],
   "source": [
    "# Loading the data\n",
    "data_dfs = dict()"
   ]
  },
  {
   "cell_type": "code",
   "execution_count": 45,
   "id": "9e87d9b0",
   "metadata": {
    "scrolled": true
   },
   "outputs": [
    {
     "name": "stdout",
     "output_type": "stream",
     "text": [
      "Initializing applicant logos (Test Set 1)\n"
     ]
    },
    {
     "name": "stderr",
     "output_type": "stream",
     "text": [
      "100%|███████████████████████████████████████████| 24/24 [01:09<00:00,  2.89s/it]\n"
     ]
    },
    {
     "name": "stdout",
     "output_type": "stream",
     "text": [
      "Initializing previous logos (Test Set 1)\n"
     ]
    },
    {
     "name": "stderr",
     "output_type": "stream",
     "text": [
      "100%|███████████████████████████████████████████| 35/35 [00:48<00:00,  1.39s/it]\n"
     ]
    },
    {
     "name": "stdout",
     "output_type": "stream",
     "text": [
      "Comparing logos\n"
     ]
    },
    {
     "name": "stderr",
     "output_type": "stream",
     "text": [
      "100%|███████████████████████████████████████████| 23/23 [06:07<00:00, 15.99s/it]\n"
     ]
    }
   ],
   "source": [
    "for i in [1]:\n",
    "\n",
    "    applicant_loc = f'/Users/aaronrasin/Desktop/Logo/Logos/applicant_{i}'\n",
    "    applicant_logo_names = os.listdir(applicant_loc)\n",
    "    applicant_logos = list()\n",
    "\n",
    "    previous_loc = f'/Users/aaronrasin/Desktop/Logo/Logos/previous_{i}'\n",
    "    previous_logo_names = os.listdir(previous_loc)\n",
    "    previous_logos = list()\n",
    "    \n",
    "    \n",
    "    # Analyzing logo individually\n",
    "    print(f\"Initializing applicant logos (Test Set {i})\")\n",
    "    for applicant in tqdm(applicant_logo_names):\n",
    "        if applicant != '.DS_Store':\n",
    "            applicant_logos.append(Logo(applicant_loc + '/' + applicant))\n",
    "            \n",
    "    print(f\"Initializing previous logos (Test Set {i})\")\n",
    "    for previous in tqdm(previous_logo_names):\n",
    "        if previous != '.DS_Store':\n",
    "            previous_logos.append(Logo(previous_loc + '/' + previous))\n",
    "    \n",
    "    \n",
    "    # Comparing applicants and previous logos\n",
    "    df = compare_logos(applicant_logos, previous_logos)\n",
    "    \n",
    "    # Scale the similarity scores (SSIM, Color, and Template)\n",
    "#     df = scale_scores(df, features = ['SSIM', 'Color Similarity Score', 'Template Matching'])\n",
    "    \n",
    "    data_dfs[f'df{i}'] = df"
   ]
  },
  {
   "cell_type": "code",
   "execution_count": 46,
   "id": "f99720a5",
   "metadata": {},
   "outputs": [
    {
     "data": {
      "image/png": "[encoded data removed]",
      "text/plain": [
       "<Figure size 640x480 with 1 Axes>"
      ]
     },
     "metadata": {},
     "output_type": "display_data"
    },
    {
     "data": {
      "text/plain": [
       "{(253, 199, 53): 0.766110248447205,\n",
       " (210, 39, 42): 0.10413431677018634,\n",
       " (253, 251, 239): 0.1297554347826087}"
      ]
     },
     "execution_count": 46,
     "metadata": {},
     "output_type": "execute_result"
    }
   ],
   "source": [
    "dhl_f = applicant_logos[13]\n",
    "dhl_f.show_colors()\n",
    "dhl_f.colors"
   ]
  },
  {
   "cell_type": "code",
   "execution_count": 47,
   "id": "3f11f624",
   "metadata": {},
   "outputs": [
    {
     "data": {
      "image/png": "[encoded data removed]",
      "text/plain": [
       "<Figure size 640x480 with 1 Axes>"
      ]
     },
     "metadata": {},
     "output_type": "display_data"
    },
    {
     "data": {
      "text/plain": [
       "{(216, 14, 18): 0.11068262411347518, (254, 202, 0): 0.8893173758865248}"
      ]
     },
     "execution_count": 47,
     "metadata": {},
     "output_type": "execute_result"
    }
   ],
   "source": [
    "dhl = previous_logos[25]\n",
    "dhl.show_colors()\n",
    "dhl.colors"
   ]
  },
  {
   "cell_type": "code",
   "execution_count": 48,
   "id": "5c721f09",
   "metadata": {},
   "outputs": [
    {
     "data": {
      "text/plain": [
       "48.65652656902339"
      ]
     },
     "execution_count": 48,
     "metadata": {},
     "output_type": "execute_result"
    }
   ],
   "source": [
    "logo_comparison.calculate_color_similarity(dhl, dhl_f)"
   ]
  },
  {
   "cell_type": "code",
   "execution_count": 49,
   "id": "efe098f2",
   "metadata": {},
   "outputs": [
    {
     "data": {
      "text/plain": [
       "[Gucci.png,\n",
       " Puma.png,\n",
       " HomeDepot.png,\n",
       " miumiu.png,\n",
       " CalvinKlein.png,\n",
       " BaskinRobbins.png,\n",
       " BurgerKing.png,\n",
       " LG.png,\n",
       " theatre.png,\n",
       " shell.png,\n",
       " Chanel.png,\n",
       " lego.png,\n",
       " Nike.png,\n",
       " GiorgioArmani.jpeg,\n",
       " Visa.png,\n",
       " Stussy.png,\n",
       " TomFord.jpeg,\n",
       " Pepsi.png,\n",
       " HarleyDavidson.png,\n",
       " Ikea.png,\n",
       " Lowe's.png,\n",
       " Dior.png,\n",
       " Versace.png,\n",
       " ebay.png,\n",
       " Palace.png,\n",
       " DHL.png,\n",
       " Champion.png,\n",
       " DonnaKaran.png,\n",
       " DunkinDonuts.png,\n",
       " Youtube.png,\n",
       " MarcJacobs.png,\n",
       " PizzaHut.png,\n",
       " McDonald's.png,\n",
       " YvesSaintLaurent.png,\n",
       " GiorgoArmani DunkinDonuts (fake).png]"
      ]
     },
     "execution_count": 49,
     "metadata": {},
     "output_type": "execute_result"
    }
   ],
   "source": [
    "previous_logos"
   ]
  },
  {
   "cell_type": "code",
   "execution_count": 50,
   "id": "d14fdeac",
   "metadata": {},
   "outputs": [
    {
     "data": {
      "image/png": "[encoded data removed]",
      "text/plain": [
       "<Figure size 640x480 with 1 Axes>"
      ]
     },
     "metadata": {},
     "output_type": "display_data"
    },
    {
     "data": {
      "text/plain": [
       "{(221, 95, 155): 0.13491162639857304,\n",
       " (245, 130, 57): 0.2670666450462137,\n",
       " (244, 188, 180): 0.16085616993676016,\n",
       " (229, 143, 81): 0.16636938543862495,\n",
       " (237, 74, 151): 0.2707961731798281}"
      ]
     },
     "execution_count": 50,
     "metadata": {},
     "output_type": "execute_result"
    }
   ],
   "source": [
    "dd_f = applicant_logos[0]\n",
    "dd_f.show_colors()\n",
    "dd_f.colors"
   ]
  },
  {
   "cell_type": "code",
   "execution_count": 79,
   "id": "7600cd73",
   "metadata": {},
   "outputs": [],
   "source": [
    "dd = previous_logos[28]"
   ]
  },
  {
   "cell_type": "code",
   "execution_count": 83,
   "id": "97f5136a",
   "metadata": {},
   "outputs": [],
   "source": [
    "gucci = previous_logos[0]"
   ]
  },
  {
   "cell_type": "code",
   "execution_count": 86,
   "id": "fa8195ae",
   "metadata": {},
   "outputs": [
    {
     "data": {
      "image/png": "[encoded data removed]",
      "text/plain": [
       "<Figure size 640x480 with 1 Axes>"
      ]
     },
     "metadata": {},
     "output_type": "display_data"
    },
    {
     "data": {
      "text/plain": [
       "{(0, 0, 0): 0.0}"
      ]
     },
     "execution_count": 86,
     "metadata": {},
     "output_type": "execute_result"
    }
   ],
   "source": [
    "gucci.colors = gucci.color_detect(include_white = False)\n",
    "gucci.show_colors()\n",
    "gucci.colors"
   ]
  },
  {
   "cell_type": "code",
   "execution_count": 85,
   "id": "4089cb5e",
   "metadata": {},
   "outputs": [
    {
     "data": {
      "text/plain": [
       "{(255, 255, 255): 0.79364013671875, (0, 0, 0): 0.20635986328125}"
      ]
     },
     "execution_count": 85,
     "metadata": {},
     "output_type": "execute_result"
    }
   ],
   "source": []
  },
  {
   "cell_type": "code",
   "execution_count": 80,
   "id": "267b022e",
   "metadata": {},
   "outputs": [
    {
     "data": {
      "image/png": "[encoded data removed]",
      "text/plain": [
       "<Figure size 640x480 with 1 Axes>"
      ]
     },
     "metadata": {},
     "output_type": "display_data"
    }
   ],
   "source": [
    "\n",
    "dd.colors = dd.color_detect(include_white = True)\n",
    "dd.show_colors()"
   ]
  },
  {
   "cell_type": "code",
   "execution_count": null,
   "id": "659d9936",
   "metadata": {},
   "outputs": [],
   "source": [
    "dd = previous_logos[28]\n",
    "dd.show_colors()"
   ]
  },
  {
   "cell_type": "code",
   "execution_count": null,
   "id": "6b482647",
   "metadata": {},
   "outputs": [],
   "source": [
    "mcd_f = applicant_logos[2]\n",
    "mcd_f.show_colors()\n",
    "mcd_f.colors"
   ]
  },
  {
   "cell_type": "code",
   "execution_count": null,
   "id": "5d524d91",
   "metadata": {},
   "outputs": [],
   "source": [
    "logo_comparison.calculate_color_similarity(dd, dd_f)"
   ]
  },
  {
   "cell_type": "code",
   "execution_count": null,
   "id": "3637be55",
   "metadata": {},
   "outputs": [],
   "source": [
    "logo_comparison.calculate_color_similarity(dd, mcd_f)"
   ]
  },
  {
   "cell_type": "code",
   "execution_count": null,
   "id": "3202864b",
   "metadata": {},
   "outputs": [],
   "source": [
    "df3 = data_dfs['df3']\n",
    "df3"
   ]
  },
  {
   "cell_type": "code",
   "execution_count": null,
   "id": "c271cbc4",
   "metadata": {},
   "outputs": [],
   "source": []
  },
  {
   "cell_type": "code",
   "execution_count": null,
   "id": "bcaec209",
   "metadata": {},
   "outputs": [],
   "source": []
  },
  {
   "cell_type": "code",
   "execution_count": null,
   "id": "9c194121",
   "metadata": {},
   "outputs": [],
   "source": [
    "# df.to_excel('/Users/aaronrasin/Desktop/Logo/LogoComparisonData.xlsx', index=False)"
   ]
  },
  {
   "cell_type": "code",
   "execution_count": null,
   "id": "ec88dc88",
   "metadata": {},
   "outputs": [],
   "source": []
  },
  {
   "cell_type": "code",
   "execution_count": null,
   "id": "d3ec2f00",
   "metadata": {},
   "outputs": [],
   "source": [
    "df1"
   ]
  },
  {
   "cell_type": "code",
   "execution_count": null,
   "id": "e9bed3b6",
   "metadata": {},
   "outputs": [],
   "source": [
    "df1 = list(data_dfs.values())[1]\n",
    "\n",
    "prev_color = df1[['Previous Logo', 'Color Similarity Score']]\n",
    "appl_color = df1[['Applicant Logo', 'Color Similarity Score']]\n",
    "thing = (appl_color.groupby('Applicant Logo')\n",
    "         .max()\n",
    "         .reset_index()\n",
    "         .merge(prev_color)\n",
    "         .drop_duplicates()\n",
    "         .iloc[:50])\n",
    "\n",
    "thing.sort_values('Color Similarity Score', ascending=False)\n"
   ]
  },
  {
   "cell_type": "code",
   "execution_count": null,
   "id": "4c3b654e",
   "metadata": {},
   "outputs": [],
   "source": [
    "dd_colors = applicant_logos[29].color_detect()"
   ]
  },
  {
   "cell_type": "code",
   "execution_count": null,
   "id": "8a14895c",
   "metadata": {},
   "outputs": [],
   "source": [
    "dd_colors"
   ]
  },
  {
   "cell_type": "code",
   "execution_count": null,
   "id": "a74286d8",
   "metadata": {},
   "outputs": [],
   "source": [
    "plt.imshow([list(dd_colors.keys())])\n",
    "plt.xticks([]), plt.yticks([])\n",
    "plt.show()"
   ]
  },
  {
   "cell_type": "code",
   "execution_count": null,
   "id": "fac318a6",
   "metadata": {},
   "outputs": [],
   "source": [
    "bridgestone = applicant_logos[0]\n",
    "bridgestone.color_detect(include_white=True)\n",
    "bridgestone.show_colors()"
   ]
  },
  {
   "cell_type": "code",
   "execution_count": null,
   "id": "16099e3c",
   "metadata": {},
   "outputs": [],
   "source": [
    "previous_logos[4].colors = previous_logos[4].color_detect(include_white=True)\n",
    "# previous_logos[4].show_colors()\n"
   ]
  },
  {
   "cell_type": "code",
   "execution_count": null,
   "id": "2c317b4b",
   "metadata": {},
   "outputs": [],
   "source": []
  },
  {
   "cell_type": "code",
   "execution_count": null,
   "id": "668c4acc",
   "metadata": {},
   "outputs": [],
   "source": [
    "for logo in applicant_logos:\n",
    "    print(logo.name, logo.colors)\n",
    "    logo.show_colors()"
   ]
  },
  {
   "cell_type": "code",
   "execution_count": null,
   "id": "efafe31d",
   "metadata": {},
   "outputs": [],
   "source": [
    "for logo in previous_logos:\n",
    "    print(logo.name, logo.colors)\n",
    "    logo.show_colors()"
   ]
  },
  {
   "cell_type": "code",
   "execution_count": null,
   "id": "9ead2175",
   "metadata": {},
   "outputs": [],
   "source": [
    "previous_logos[29].colors = previous_logos[29].color_detect(include_white=True)\n",
    "previous_logos[29].colors"
   ]
  },
  {
   "cell_type": "code",
   "execution_count": null,
   "id": "a3d30284",
   "metadata": {},
   "outputs": [],
   "source": [
    "previous_logos[7].colors = previous_logos[7].color_detect(include_white=False)\n",
    "previous_logos[7].colors"
   ]
  },
  {
   "cell_type": "code",
   "execution_count": null,
   "id": "03a7f420",
   "metadata": {},
   "outputs": [],
   "source": [
    "for logo in previous_logos:\n",
    "    print(logo.name)\n",
    "    logo.show_colors()"
   ]
  },
  {
   "cell_type": "code",
   "execution_count": null,
   "id": "ec8827fd",
   "metadata": {},
   "outputs": [],
   "source": []
  },
  {
   "cell_type": "markdown",
   "id": "ba0ede3f",
   "metadata": {},
   "source": [
    "# Time Complexity\n",
    "\n",
    "- 1-2 seconds to initialize each logo (1.5 on average)\n",
    "- 1-2 seconds to compare two logos (1.5 on average)\n",
    "- So runtime of whole program can be calculated using this formula (plug in number of applicants (a) and number of previous (p))\n",
    "\n",
    "$$\\large \\text{number of minutes} \\approx \\frac {(a+p) + (a \\cdot p)}{60}$$"
   ]
  },
  {
   "cell_type": "code",
   "execution_count": null,
   "id": "f91e936a",
   "metadata": {},
   "outputs": [],
   "source": []
  },
  {
   "cell_type": "code",
   "execution_count": null,
   "id": "bc1dba91",
   "metadata": {},
   "outputs": [],
   "source": []
  },
  {
   "cell_type": "code",
   "execution_count": null,
   "id": "8a36ff8b",
   "metadata": {},
   "outputs": [],
   "source": []
  },
  {
   "cell_type": "markdown",
   "id": "10a32965",
   "metadata": {},
   "source": [
    "## Template matching should be scaled! \n",
    "The first DataFrame shows how inaccurate template matching is when a single threshold is set for all pairs. However, when you look at the highest template matching score for each applicant logo, results are significantly better. "
   ]
  },
  {
   "cell_type": "markdown",
   "id": "932e956b",
   "metadata": {},
   "source": [
    "### Top 16 Template Matches (3 actual matches)"
   ]
  },
  {
   "cell_type": "code",
   "execution_count": null,
   "id": "fcf9a81c",
   "metadata": {},
   "outputs": [],
   "source": [
    "df4 = data_dfs['df4']\n",
    "df4[['Applicant Logo', 'Template Matching', 'Previous Logo']].sort_values('Template Matching', ascending = False).iloc[:16]"
   ]
  },
  {
   "cell_type": "markdown",
   "id": "0bec3f8c",
   "metadata": {},
   "source": [
    "### Highest Template Match for each of 16 applicants (7 actual matches)"
   ]
  },
  {
   "cell_type": "code",
   "execution_count": null,
   "id": "64540a04",
   "metadata": {},
   "outputs": [],
   "source": [
    "prev_template = df4[['Previous Logo', 'Template Matching']]\n",
    "appl_template = df4[['Applicant Logo', 'Template Matching']]\n",
    "appl_template.groupby('Applicant Logo').max().reset_index().merge(prev_template)"
   ]
  },
  {
   "cell_type": "code",
   "execution_count": null,
   "id": "5b7f7a60",
   "metadata": {},
   "outputs": [],
   "source": [
    "for logo in previous_logos:\n",
    "    print(logo.name, logo.text)"
   ]
  },
  {
   "cell_type": "code",
   "execution_count": null,
   "id": "15a2f2a6",
   "metadata": {},
   "outputs": [],
   "source": [
    "applicant_logos[6].colors"
   ]
  },
  {
   "cell_type": "code",
   "execution_count": null,
   "id": "2e45931d",
   "metadata": {},
   "outputs": [],
   "source": [
    "logoA = applicant_logos[5]\n",
    "logoA"
   ]
  },
  {
   "cell_type": "code",
   "execution_count": null,
   "id": "820ae2f8",
   "metadata": {},
   "outputs": [],
   "source": [
    "test"
   ]
  },
  {
   "cell_type": "code",
   "execution_count": null,
   "id": "cb3ff795",
   "metadata": {},
   "outputs": [],
   "source": [
    "calculate_logo_shape_complexity_similarity(logoA, test)"
   ]
  },
  {
   "cell_type": "code",
   "execution_count": null,
   "id": "11b8bdbf",
   "metadata": {},
   "outputs": [],
   "source": []
  },
  {
   "cell_type": "code",
   "execution_count": null,
   "id": "ae61dec0",
   "metadata": {},
   "outputs": [],
   "source": []
  },
  {
   "cell_type": "code",
   "execution_count": null,
   "id": "1070b1b1",
   "metadata": {},
   "outputs": [],
   "source": []
  },
  {
   "cell_type": "code",
   "execution_count": null,
   "id": "87495380",
   "metadata": {},
   "outputs": [],
   "source": []
  },
  {
   "cell_type": "code",
   "execution_count": null,
   "id": "05ad0f53",
   "metadata": {},
   "outputs": [],
   "source": []
  },
  {
   "cell_type": "code",
   "execution_count": null,
   "id": "b2d332db",
   "metadata": {},
   "outputs": [],
   "source": []
  },
  {
   "cell_type": "code",
   "execution_count": null,
   "id": "fe6509b0",
   "metadata": {},
   "outputs": [],
   "source": []
  },
  {
   "cell_type": "code",
   "execution_count": null,
   "id": "cbc4623d",
   "metadata": {},
   "outputs": [],
   "source": [
    "plt.imshow(ck.image, 'gray')\n",
    "plt.xticks([]), plt.yticks([])\n",
    "plt.show()"
   ]
  },
  {
   "cell_type": "code",
   "execution_count": null,
   "id": "9e9b2321",
   "metadata": {},
   "outputs": [],
   "source": [
    "ck = applicant_logos[15]"
   ]
  },
  {
   "cell_type": "code",
   "execution_count": null,
   "id": "3ce73eb6",
   "metadata": {},
   "outputs": [],
   "source": [
    "resized = imutils.resize(ck.image, width=300)\n",
    "\n",
    "# Blurring the image\n",
    "ck.blurred = cv2.GaussianBlur(resized, (5,5), 0)\n",
    "\n",
    "# Setting all pixels to white or black\n",
    "binary_image = ck.image_to_binary()\n",
    "\n",
    "plt.imshow(binary_image, 'gray')\n",
    "plt.xticks([]), plt.yticks([])\n",
    "plt.show()"
   ]
  },
  {
   "cell_type": "code",
   "execution_count": null,
   "id": "572bc6c5",
   "metadata": {},
   "outputs": [],
   "source": [
    "logoA = dd\n",
    "logoB = dd_f"
   ]
  },
  {
   "cell_type": "code",
   "execution_count": null,
   "id": "d100cf20",
   "metadata": {},
   "outputs": [],
   "source": [
    "logoA.show_colo\n",
    "logoA.colors"
   ]
  },
  {
   "cell_type": "code",
   "execution_count": null,
   "id": "52634e02",
   "metadata": {},
   "outputs": [],
   "source": [
    "if len(logoA.colors.keys()) >= len(logoB.colors.keys()):\n",
    "    short = logoA.colors\n",
    "    long = logoB.colors\n",
    "else:\n",
    "    short = logoB.colors\n",
    "    long = logoA.colors\n",
    "    \n",
    "# Define a dictionary with column A \n",
    "data1 = {'short_color': list(logoA.colors)}  \n",
    "     \n",
    "# Define another dictionary with column B \n",
    "data2 = {'B': ['a', 'b', 'c']}   \n",
    "   \n",
    "# Convert the dictionary into DataFrame   \n",
    "df = pd.DataFrame(data1, index =[0, 1]) \n",
    "   \n",
    "# Convert the dictionary into DataFrame   \n",
    "df1 = pd.DataFrame(data2, index =[2, 3, 4])  \n",
    "  \n",
    "# Now to perform cross join, we will create \n",
    "# a key column in both the DataFrames to  \n",
    "# merge on that key. \n",
    "df['key'] = 1\n",
    "df1['key'] = 1\n",
    "  \n",
    "# to obtain the cross join we will merge  \n",
    "# on the key and drop it. \n",
    "result = pd.merge(df, df1, on ='key').drop(\"key\", 1) \n",
    "  \n",
    "result "
   ]
  },
  {
   "cell_type": "code",
   "execution_count": null,
   "id": "30ec9aa6",
   "metadata": {},
   "outputs": [],
   "source": []
  }
 ],
 "metadata": {
  "kernelspec": {
   "display_name": "Python 3 (ipykernel)",
   "language": "python",
   "name": "python3"
  },
  "language_info": {
   "codemirror_mode": {
    "name": "ipython",
    "version": 3
   },
   "file_extension": ".py",
   "mimetype": "text/x-python",
   "name": "python",
   "nbconvert_exporter": "python",
   "pygments_lexer": "ipython3",
   "version": "3.11.5"
  }
 },
 "nbformat": 4,
 "nbformat_minor": 5
}
